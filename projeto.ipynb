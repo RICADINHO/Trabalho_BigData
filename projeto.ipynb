{
 "cells": [
  {
   "cell_type": "markdown",
   "metadata": {},
   "source": [
    "---\n",
    "# Imports"
   ]
  },
  {
   "cell_type": "code",
   "execution_count": 1,
   "metadata": {},
   "outputs": [],
   "source": [
    "import pyspark \n",
    "from pyspark.sql import SparkSession\n",
    "import pyspark.sql.functions as F\n",
    "import numpy as np\n",
    "#!pip install kagglehub\n",
    "#import kagglehub"
   ]
  },
  {
   "cell_type": "code",
   "execution_count": 2,
   "metadata": {},
   "outputs": [],
   "source": [
    "spark = SparkSession.builder.appName(\"ProjetoABD\").getOrCreate()"
   ]
  },
  {
   "cell_type": "code",
   "execution_count": 16,
   "metadata": {},
   "outputs": [],
   "source": [
    "#dados = spark.read.parquet('avioes/pq').limit(50000)\n",
    "\n",
    "#dados = spark.read.load('avioes/csv',format='csv',sep=',',inferSchema=True, header=True)#.limit(50000)\n",
    "\n",
    "#Import Bruno\n",
    "dados = spark.read.load('/home/jovyan/code/raw',format='csv',sep=',',inferSchema=True, header=True)#.limit(50000)\n",
    "\n",
    "\n"
   ]
  },
  {
   "cell_type": "code",
   "execution_count": 17,
   "metadata": {},
   "outputs": [
    {
     "name": "stdout",
     "output_type": "stream",
     "text": [
      "root\n",
      " |-- Year: integer (nullable = true)\n",
      " |-- Quarter: integer (nullable = true)\n",
      " |-- Month: integer (nullable = true)\n",
      " |-- DayofMonth: integer (nullable = true)\n",
      " |-- DayOfWeek: integer (nullable = true)\n",
      " |-- FlightDate: date (nullable = true)\n",
      " |-- Marketing_Airline_Network: string (nullable = true)\n",
      " |-- Operated_or_Branded_Code_Share_Partners: string (nullable = true)\n",
      " |-- DOT_ID_Marketing_Airline: integer (nullable = true)\n",
      " |-- IATA_Code_Marketing_Airline: string (nullable = true)\n",
      " |-- Flight_Number_Marketing_Airline: integer (nullable = true)\n",
      " |-- Originally_Scheduled_Code_Share_Airline: string (nullable = true)\n",
      " |-- DOT_ID_Originally_Scheduled_Code_Share_Airline: integer (nullable = true)\n",
      " |-- IATA_Code_Originally_Scheduled_Code_Share_Airline: string (nullable = true)\n",
      " |-- Flight_Num_Originally_Scheduled_Code_Share_Airline: integer (nullable = true)\n",
      " |-- Operating_Airline : string (nullable = true)\n",
      " |-- DOT_ID_Operating_Airline: integer (nullable = true)\n",
      " |-- IATA_Code_Operating_Airline: string (nullable = true)\n",
      " |-- Tail_Number: string (nullable = true)\n",
      " |-- Flight_Number_Operating_Airline: integer (nullable = true)\n",
      " |-- OriginAirportID: integer (nullable = true)\n",
      " |-- OriginAirportSeqID: integer (nullable = true)\n",
      " |-- OriginCityMarketID: integer (nullable = true)\n",
      " |-- Origin: string (nullable = true)\n",
      " |-- OriginCityName: string (nullable = true)\n",
      " |-- OriginState: string (nullable = true)\n",
      " |-- OriginStateFips: integer (nullable = true)\n",
      " |-- OriginStateName: string (nullable = true)\n",
      " |-- OriginWac: integer (nullable = true)\n",
      " |-- DestAirportID: integer (nullable = true)\n",
      " |-- DestAirportSeqID: integer (nullable = true)\n",
      " |-- DestCityMarketID: integer (nullable = true)\n",
      " |-- Dest: string (nullable = true)\n",
      " |-- DestCityName: string (nullable = true)\n",
      " |-- DestState: string (nullable = true)\n",
      " |-- DestStateFips: integer (nullable = true)\n",
      " |-- DestStateName: string (nullable = true)\n",
      " |-- DestWac: integer (nullable = true)\n",
      " |-- CRSDepTime: integer (nullable = true)\n",
      " |-- DepTime: integer (nullable = true)\n",
      " |-- DepDelay: double (nullable = true)\n",
      " |-- DepDelayMinutes: double (nullable = true)\n",
      " |-- DepDel15: double (nullable = true)\n",
      " |-- DepartureDelayGroups: integer (nullable = true)\n",
      " |-- DepTimeBlk: string (nullable = true)\n",
      " |-- TaxiOut: double (nullable = true)\n",
      " |-- WheelsOff: integer (nullable = true)\n",
      " |-- WheelsOn: integer (nullable = true)\n",
      " |-- TaxiIn: double (nullable = true)\n",
      " |-- CRSArrTime: integer (nullable = true)\n",
      " |-- ArrTime: integer (nullable = true)\n",
      " |-- ArrDelay: double (nullable = true)\n",
      " |-- ArrDelayMinutes: double (nullable = true)\n",
      " |-- ArrDel15: double (nullable = true)\n",
      " |-- ArrivalDelayGroups: integer (nullable = true)\n",
      " |-- ArrTimeBlk: string (nullable = true)\n",
      " |-- Cancelled: double (nullable = true)\n",
      " |-- CancellationCode: string (nullable = true)\n",
      " |-- Diverted: double (nullable = true)\n",
      " |-- CRSElapsedTime: double (nullable = true)\n",
      " |-- ActualElapsedTime: double (nullable = true)\n",
      " |-- AirTime: double (nullable = true)\n",
      " |-- Flights: double (nullable = true)\n",
      " |-- Distance: double (nullable = true)\n",
      " |-- DistanceGroup: integer (nullable = true)\n",
      " |-- CarrierDelay: double (nullable = true)\n",
      " |-- WeatherDelay: double (nullable = true)\n",
      " |-- NASDelay: double (nullable = true)\n",
      " |-- SecurityDelay: double (nullable = true)\n",
      " |-- LateAircraftDelay: double (nullable = true)\n",
      " |-- FirstDepTime: integer (nullable = true)\n",
      " |-- TotalAddGTime: double (nullable = true)\n",
      " |-- LongestAddGTime: double (nullable = true)\n",
      " |-- DivAirportLandings: integer (nullable = true)\n",
      " |-- DivReachedDest: double (nullable = true)\n",
      " |-- DivActualElapsedTime: double (nullable = true)\n",
      " |-- DivArrDelay: double (nullable = true)\n",
      " |-- DivDistance: double (nullable = true)\n",
      " |-- Div1Airport: string (nullable = true)\n",
      " |-- Div1AirportID: integer (nullable = true)\n",
      " |-- Div1AirportSeqID: integer (nullable = true)\n",
      " |-- Div1WheelsOn: integer (nullable = true)\n",
      " |-- Div1TotalGTime: double (nullable = true)\n",
      " |-- Div1LongestGTime: double (nullable = true)\n",
      " |-- Div1WheelsOff: integer (nullable = true)\n",
      " |-- Div1TailNum: string (nullable = true)\n",
      " |-- Div2Airport: string (nullable = true)\n",
      " |-- Div2AirportID: integer (nullable = true)\n",
      " |-- Div2AirportSeqID: integer (nullable = true)\n",
      " |-- Div2WheelsOn: integer (nullable = true)\n",
      " |-- Div2TotalGTime: double (nullable = true)\n",
      " |-- Div2LongestGTime: double (nullable = true)\n",
      " |-- Div2WheelsOff: integer (nullable = true)\n",
      " |-- Div2TailNum: string (nullable = true)\n",
      " |-- Div3Airport: string (nullable = true)\n",
      " |-- Div3AirportID: integer (nullable = true)\n",
      " |-- Div3AirportSeqID: integer (nullable = true)\n",
      " |-- Div3WheelsOn: integer (nullable = true)\n",
      " |-- Div3TotalGTime: double (nullable = true)\n",
      " |-- Div3LongestGTime: double (nullable = true)\n",
      " |-- Div3WheelsOff: integer (nullable = true)\n",
      " |-- Div3TailNum: string (nullable = true)\n",
      " |-- Div4Airport: string (nullable = true)\n",
      " |-- Div4AirportID: string (nullable = true)\n",
      " |-- Div4AirportSeqID: string (nullable = true)\n",
      " |-- Div4WheelsOn: string (nullable = true)\n",
      " |-- Div4TotalGTime: string (nullable = true)\n",
      " |-- Div4LongestGTime: string (nullable = true)\n",
      " |-- Div4WheelsOff: string (nullable = true)\n",
      " |-- Div4TailNum: string (nullable = true)\n",
      " |-- Div5Airport: string (nullable = true)\n",
      " |-- Div5AirportID: string (nullable = true)\n",
      " |-- Div5AirportSeqID: string (nullable = true)\n",
      " |-- Div5WheelsOn: string (nullable = true)\n",
      " |-- Div5TotalGTime: string (nullable = true)\n",
      " |-- Div5LongestGTime: string (nullable = true)\n",
      " |-- Div5WheelsOff: string (nullable = true)\n",
      " |-- Div5TailNum: string (nullable = true)\n",
      " |-- Duplicate: string (nullable = true)\n",
      " |-- _c119: string (nullable = true)\n",
      "\n",
      "+----+-------+-----+----------+---------+----------+-------------------------+---------------------------------------+------------------------+---------------------------+-------------------------------+---------------------------------------+----------------------------------------------+-------------------------------------------------+--------------------------------------------------+------------------+------------------------+---------------------------+-----------+-------------------------------+---------------+------------------+------------------+------+--------------------+-----------+---------------+---------------+---------+-------------+----------------+----------------+----+--------------------+---------+-------------+-------------+-------+----------+-------+--------+---------------+--------+--------------------+----------+-------+---------+--------+------+----------+-------+--------+---------------+--------+------------------+----------+---------+----------------+--------+--------------+-----------------+-------+-------+--------+-------------+------------+------------+--------+-------------+-----------------+------------+-------------+---------------+------------------+--------------+--------------------+-----------+-----------+-----------+-------------+----------------+------------+--------------+----------------+-------------+-----------+-----------+-------------+----------------+------------+--------------+----------------+-------------+-----------+-----------+-------------+----------------+------------+--------------+----------------+-------------+-----------+-----------+-------------+----------------+------------+--------------+----------------+-------------+-----------+-----------+-------------+----------------+------------+--------------+----------------+-------------+-----------+---------+-----+\n",
      "|Year|Quarter|Month|DayofMonth|DayOfWeek|FlightDate|Marketing_Airline_Network|Operated_or_Branded_Code_Share_Partners|DOT_ID_Marketing_Airline|IATA_Code_Marketing_Airline|Flight_Number_Marketing_Airline|Originally_Scheduled_Code_Share_Airline|DOT_ID_Originally_Scheduled_Code_Share_Airline|IATA_Code_Originally_Scheduled_Code_Share_Airline|Flight_Num_Originally_Scheduled_Code_Share_Airline|Operating_Airline |DOT_ID_Operating_Airline|IATA_Code_Operating_Airline|Tail_Number|Flight_Number_Operating_Airline|OriginAirportID|OriginAirportSeqID|OriginCityMarketID|Origin|      OriginCityName|OriginState|OriginStateFips|OriginStateName|OriginWac|DestAirportID|DestAirportSeqID|DestCityMarketID|Dest|        DestCityName|DestState|DestStateFips|DestStateName|DestWac|CRSDepTime|DepTime|DepDelay|DepDelayMinutes|DepDel15|DepartureDelayGroups|DepTimeBlk|TaxiOut|WheelsOff|WheelsOn|TaxiIn|CRSArrTime|ArrTime|ArrDelay|ArrDelayMinutes|ArrDel15|ArrivalDelayGroups|ArrTimeBlk|Cancelled|CancellationCode|Diverted|CRSElapsedTime|ActualElapsedTime|AirTime|Flights|Distance|DistanceGroup|CarrierDelay|WeatherDelay|NASDelay|SecurityDelay|LateAircraftDelay|FirstDepTime|TotalAddGTime|LongestAddGTime|DivAirportLandings|DivReachedDest|DivActualElapsedTime|DivArrDelay|DivDistance|Div1Airport|Div1AirportID|Div1AirportSeqID|Div1WheelsOn|Div1TotalGTime|Div1LongestGTime|Div1WheelsOff|Div1TailNum|Div2Airport|Div2AirportID|Div2AirportSeqID|Div2WheelsOn|Div2TotalGTime|Div2LongestGTime|Div2WheelsOff|Div2TailNum|Div3Airport|Div3AirportID|Div3AirportSeqID|Div3WheelsOn|Div3TotalGTime|Div3LongestGTime|Div3WheelsOff|Div3TailNum|Div4Airport|Div4AirportID|Div4AirportSeqID|Div4WheelsOn|Div4TotalGTime|Div4LongestGTime|Div4WheelsOff|Div4TailNum|Div5Airport|Div5AirportID|Div5AirportSeqID|Div5WheelsOn|Div5TotalGTime|Div5LongestGTime|Div5WheelsOff|Div5TailNum|Duplicate|_c119|\n",
      "+----+-------+-----+----------+---------+----------+-------------------------+---------------------------------------+------------------------+---------------------------+-------------------------------+---------------------------------------+----------------------------------------------+-------------------------------------------------+--------------------------------------------------+------------------+------------------------+---------------------------+-----------+-------------------------------+---------------+------------------+------------------+------+--------------------+-----------+---------------+---------------+---------+-------------+----------------+----------------+----+--------------------+---------+-------------+-------------+-------+----------+-------+--------+---------------+--------+--------------------+----------+-------+---------+--------+------+----------+-------+--------+---------------+--------+------------------+----------+---------+----------------+--------+--------------+-----------------+-------+-------+--------+-------------+------------+------------+--------+-------------+-----------------+------------+-------------+---------------+------------------+--------------+--------------------+-----------+-----------+-----------+-------------+----------------+------------+--------------+----------------+-------------+-----------+-----------+-------------+----------------+------------+--------------+----------------+-------------+-----------+-----------+-------------+----------------+------------+--------------+----------------+-------------+-----------+-----------+-------------+----------------+------------+--------------+----------------+-------------+-----------+-----------+-------------+----------------+------------+--------------+----------------+-------------+-----------+---------+-----+\n",
      "|2020|      4|   10|        15|        4|2020-10-15|                       UA|                           UA_CODESHARE|                   19977|                         UA|                           6023|                                   NULL|                                          NULL|                                             NULL|                                              NULL|                YV|                   20378|                         YV|     N518LR|                           6023|          11057|           1105703|             31057|   CLT|       Charlotte, NC|         NC|             37| North Carolina|       36|        12264|         1226402|           30852| IAD|      Washington, DC|       VA|           51|     Virginia|     38|      1445|   1444|    -1.0|            0.0|     0.0|                  -1| 1400-1459|   53.0|     1537|    1632|   8.0|      1621|   1640|    19.0|           19.0|     1.0|                 1| 1600-1659|      0.0|            NULL|     0.0|          96.0|            116.0|   55.0|    1.0|   322.0|            2|         0.0|         0.0|    19.0|          0.0|              0.0|        NULL|         NULL|           NULL|                 0|          NULL|                NULL|       NULL|       NULL|       NULL|         NULL|            NULL|        NULL|          NULL|            NULL|         NULL|       NULL|       NULL|         NULL|            NULL|        NULL|          NULL|            NULL|         NULL|       NULL|       NULL|         NULL|            NULL|        NULL|          NULL|            NULL|         NULL|       NULL|       NULL|         NULL|            NULL|        NULL|          NULL|            NULL|         NULL|       NULL|       NULL|         NULL|            NULL|        NULL|          NULL|            NULL|         NULL|       NULL|        N| NULL|\n",
      "|2020|      4|   10|        23|        5|2020-10-23|                       UA|                           UA_CODESHARE|                   19977|                         UA|                           6112|                                   NULL|                                          NULL|                                             NULL|                                              NULL|                YV|                   20378|                         YV|     N85358|                           6112|          14122|           1412202|             30198|   PIT|      Pittsburgh, PA|         PA|             42|   Pennsylvania|       23|        12266|         1226603|           31453| IAH|         Houston, TX|       TX|           48|        Texas|     74|      1615|   1611|    -4.0|            0.0|     0.0|                  -1| 1600-1659|    8.0|     1619|    1836|   8.0|      1828|   1844|    16.0|           16.0|     1.0|                 1| 1800-1859|      0.0|            NULL|     0.0|         193.0|            213.0|  197.0|    1.0|  1117.0|            5|         0.0|         0.0|    16.0|          0.0|              0.0|        NULL|         NULL|           NULL|                 0|          NULL|                NULL|       NULL|       NULL|       NULL|         NULL|            NULL|        NULL|          NULL|            NULL|         NULL|       NULL|       NULL|         NULL|            NULL|        NULL|          NULL|            NULL|         NULL|       NULL|       NULL|         NULL|            NULL|        NULL|          NULL|            NULL|         NULL|       NULL|       NULL|         NULL|            NULL|        NULL|          NULL|            NULL|         NULL|       NULL|       NULL|         NULL|            NULL|        NULL|          NULL|            NULL|         NULL|       NULL|        N| NULL|\n",
      "|2020|      4|   10|        20|        2|2020-10-20|                       UA|                           UA_CODESHARE|                   19977|                         UA|                           6123|                                   NULL|                                          NULL|                                             NULL|                                              NULL|                YV|                   20378|                         YV|     N87303|                           6123|          14730|           1473004|             33044|   SDF|      Louisville, KY|         KY|             21|       Kentucky|       52|        12266|         1226603|           31453| IAH|         Houston, TX|       TX|           48|        Texas|     74|       700|    700|     0.0|            0.0|     0.0|                   0| 0700-0759|   29.0|      729|     857|   5.0|       830|    902|    32.0|           32.0|     1.0|                 2| 0800-0859|      0.0|            NULL|     0.0|         150.0|            182.0|  148.0|    1.0|   788.0|            4|         0.0|         0.0|    32.0|          0.0|              0.0|        NULL|         NULL|           NULL|                 0|          NULL|                NULL|       NULL|       NULL|       NULL|         NULL|            NULL|        NULL|          NULL|            NULL|         NULL|       NULL|       NULL|         NULL|            NULL|        NULL|          NULL|            NULL|         NULL|       NULL|       NULL|         NULL|            NULL|        NULL|          NULL|            NULL|         NULL|       NULL|       NULL|         NULL|            NULL|        NULL|          NULL|            NULL|         NULL|       NULL|       NULL|         NULL|            NULL|        NULL|          NULL|            NULL|         NULL|       NULL|        N| NULL|\n",
      "|2020|      4|   10|        20|        2|2020-10-20|                       UA|                           UA_CODESHARE|                   19977|                         UA|                           6130|                                   NULL|                                          NULL|                                             NULL|                                              NULL|                YV|                   20378|                         YV|     N88341|                           6130|          12992|           1299206|             32600|   LIT|     Little Rock, AR|         AR|              5|       Arkansas|       71|        12266|         1226603|           31453| IAH|         Houston, TX|       TX|           48|        Texas|     74|       710|    709|    -1.0|            0.0|     0.0|                  -1| 0700-0759|   59.0|      808|     910|   8.0|       849|    918|    29.0|           29.0|     1.0|                 1| 0800-0859|      0.0|            NULL|     0.0|          99.0|            129.0|   62.0|    1.0|   374.0|            2|         0.0|         0.0|    29.0|          0.0|              0.0|        NULL|         NULL|           NULL|                 0|          NULL|                NULL|       NULL|       NULL|       NULL|         NULL|            NULL|        NULL|          NULL|            NULL|         NULL|       NULL|       NULL|         NULL|            NULL|        NULL|          NULL|            NULL|         NULL|       NULL|       NULL|         NULL|            NULL|        NULL|          NULL|            NULL|         NULL|       NULL|       NULL|         NULL|            NULL|        NULL|          NULL|            NULL|         NULL|       NULL|       NULL|         NULL|            NULL|        NULL|          NULL|            NULL|         NULL|       NULL|        N| NULL|\n",
      "|2020|      4|   10|        17|        6|2020-10-17|                       UA|                           UA_CODESHARE|                   19977|                         UA|                           6135|                                   NULL|                                          NULL|                                             NULL|                                              NULL|                YV|                   20378|                         YV|     N501MJ|                           6135|          12264|           1226402|             30852|   IAD|      Washington, DC|         VA|             51|       Virginia|       38|        14986|         1498603|           34986| SRQ|Sarasota/Bradento...|       FL|           12|      Florida|     33|      1030|   1153|    83.0|           83.0|     1.0|                   5| 1000-1059|   10.0|     1203|    1407|   2.0|      1259|   1409|    70.0|           70.0|     1.0|                 4| 1200-1259|      0.0|            NULL|     0.0|         149.0|            136.0|  124.0|    1.0|   849.0|            4|         0.0|         0.0|    70.0|          0.0|              0.0|        NULL|         NULL|           NULL|                 0|          NULL|                NULL|       NULL|       NULL|       NULL|         NULL|            NULL|        NULL|          NULL|            NULL|         NULL|       NULL|       NULL|         NULL|            NULL|        NULL|          NULL|            NULL|         NULL|       NULL|       NULL|         NULL|            NULL|        NULL|          NULL|            NULL|         NULL|       NULL|       NULL|         NULL|            NULL|        NULL|          NULL|            NULL|         NULL|       NULL|       NULL|         NULL|            NULL|        NULL|          NULL|            NULL|         NULL|       NULL|        N| NULL|\n",
      "|2020|      4|   10|        17|        6|2020-10-17|                       UA|                           UA_CODESHARE|                   19977|                         UA|                           6135|                                   NULL|                                          NULL|                                             NULL|                                              NULL|                YV|                   20378|                         YV|     N501MJ|                           6135|          14986|           1498603|             34986|   SRQ|Sarasota/Bradento...|         FL|             12|        Florida|       33|        12264|         1226402|           30852| IAD|      Washington, DC|       VA|           51|     Virginia|     38|      1335|   1505|    90.0|           90.0|     1.0|                   6| 1300-1359|   13.0|     1518|    1707|   6.0|      1556|   1713|    77.0|           77.0|     1.0|                 5| 1500-1559|      0.0|            NULL|     0.0|         141.0|            128.0|  109.0|    1.0|   849.0|            4|         0.0|         0.0|    77.0|          0.0|              0.0|        NULL|         NULL|           NULL|                 0|          NULL|                NULL|       NULL|       NULL|       NULL|         NULL|            NULL|        NULL|          NULL|            NULL|         NULL|       NULL|       NULL|         NULL|            NULL|        NULL|          NULL|            NULL|         NULL|       NULL|       NULL|         NULL|            NULL|        NULL|          NULL|            NULL|         NULL|       NULL|       NULL|         NULL|            NULL|        NULL|          NULL|            NULL|         NULL|       NULL|       NULL|         NULL|            NULL|        NULL|          NULL|            NULL|         NULL|       NULL|        N| NULL|\n",
      "|2020|      4|   10|        12|        1|2020-10-12|                       UA|                           UA_CODESHARE|                   19977|                         UA|                           6105|                                   NULL|                                          NULL|                                             NULL|                                              NULL|                YV|                   20378|                         YV|     N86316|                           6105|          12266|           1226603|             31453|   IAH|         Houston, TX|         TX|             48|          Texas|       74|        11298|         1129806|           30194| DFW|Dallas/Fort Worth...|       TX|           48|        Texas|     74|       950|    949|    -1.0|            0.0|     0.0|                  -1| 0900-0959|   58.0|     1047|    1124|  11.0|      1109|   1135|    26.0|           26.0|     1.0|                 1| 1100-1159|      0.0|            NULL|     0.0|          79.0|            106.0|   37.0|    1.0|   224.0|            1|         0.0|         0.0|    26.0|          0.0|              0.0|        NULL|         NULL|           NULL|                 0|          NULL|                NULL|       NULL|       NULL|       NULL|         NULL|            NULL|        NULL|          NULL|            NULL|         NULL|       NULL|       NULL|         NULL|            NULL|        NULL|          NULL|            NULL|         NULL|       NULL|       NULL|         NULL|            NULL|        NULL|          NULL|            NULL|         NULL|       NULL|       NULL|         NULL|            NULL|        NULL|          NULL|            NULL|         NULL|       NULL|       NULL|         NULL|            NULL|        NULL|          NULL|            NULL|         NULL|       NULL|        N| NULL|\n",
      "|2020|      4|   10|        12|        1|2020-10-12|                       UA|                           UA_CODESHARE|                   19977|                         UA|                           6113|                                   NULL|                                          NULL|                                             NULL|                                              NULL|                YV|                   20378|                         YV|     N506MJ|                           6113|          11433|           1143302|             31295|   DTW|         Detroit, MI|         MI|             26|       Michigan|       43|        12264|         1226402|           30852| IAD|      Washington, DC|       VA|           51|     Virginia|     38|      1500|   1450|   -10.0|            0.0|     0.0|                  -1| 1500-1559|   27.0|     1517|    1639|   6.0|      1629|   1645|    16.0|           16.0|     1.0|                 1| 1600-1659|      0.0|            NULL|     0.0|          89.0|            115.0|   82.0|    1.0|   383.0|            2|         0.0|         0.0|    16.0|          0.0|              0.0|        NULL|         NULL|           NULL|                 0|          NULL|                NULL|       NULL|       NULL|       NULL|         NULL|            NULL|        NULL|          NULL|            NULL|         NULL|       NULL|       NULL|         NULL|            NULL|        NULL|          NULL|            NULL|         NULL|       NULL|       NULL|         NULL|            NULL|        NULL|          NULL|            NULL|         NULL|       NULL|       NULL|         NULL|            NULL|        NULL|          NULL|            NULL|         NULL|       NULL|       NULL|         NULL|            NULL|        NULL|          NULL|            NULL|         NULL|       NULL|        N| NULL|\n",
      "|2020|      4|   10|        23|        5|2020-10-23|                       UA|                           UA_CODESHARE|                   19977|                         UA|                           6071|                                   NULL|                                          NULL|                                             NULL|                                              NULL|                YV|                   20378|                         YV|     N86311|                           6071|          10994|           1099402|             30994|   CHS|      Charleston, SC|         SC|             45| South Carolina|       37|        12266|         1226603|           31453| IAH|         Houston, TX|       TX|           48|        Texas|     74|      1700|   1654|    -6.0|            0.0|     0.0|                  -1| 1700-1759|   15.0|     1709|    1910|   9.0|      1843|   1919|    36.0|           36.0|     1.0|                 2| 1800-1859|      0.0|            NULL|     0.0|         163.0|            205.0|  181.0|    1.0|   925.0|            4|         0.0|         0.0|    36.0|          0.0|              0.0|        NULL|         NULL|           NULL|                 0|          NULL|                NULL|       NULL|       NULL|       NULL|         NULL|            NULL|        NULL|          NULL|            NULL|         NULL|       NULL|       NULL|         NULL|            NULL|        NULL|          NULL|            NULL|         NULL|       NULL|       NULL|         NULL|            NULL|        NULL|          NULL|            NULL|         NULL|       NULL|       NULL|         NULL|            NULL|        NULL|          NULL|            NULL|         NULL|       NULL|       NULL|         NULL|            NULL|        NULL|          NULL|            NULL|         NULL|       NULL|        N| NULL|\n",
      "|2020|      4|   10|        24|        6|2020-10-24|                       UA|                           UA_CODESHARE|                   19977|                         UA|                           6119|                                   NULL|                                          NULL|                                             NULL|                                              NULL|                YV|                   20378|                         YV|     N506MJ|                           6119|          12264|           1226402|             30852|   IAD|      Washington, DC|         VA|             51|       Virginia|       38|        12451|         1245102|           31136| JAX|    Jacksonville, FL|       FL|           12|      Florida|     33|      1730|   1829|    59.0|           59.0|     1.0|                   3| 1700-1759|   15.0|     1844|    2024|   3.0|      1937|   2027|    50.0|           50.0|     1.0|                 3| 1900-1959|      0.0|            NULL|     0.0|         127.0|            118.0|  100.0|    1.0|   630.0|            3|         0.0|         0.0|    50.0|          0.0|              0.0|        NULL|         NULL|           NULL|                 0|          NULL|                NULL|       NULL|       NULL|       NULL|         NULL|            NULL|        NULL|          NULL|            NULL|         NULL|       NULL|       NULL|         NULL|            NULL|        NULL|          NULL|            NULL|         NULL|       NULL|       NULL|         NULL|            NULL|        NULL|          NULL|            NULL|         NULL|       NULL|       NULL|         NULL|            NULL|        NULL|          NULL|            NULL|         NULL|       NULL|       NULL|         NULL|            NULL|        NULL|          NULL|            NULL|         NULL|       NULL|        N| NULL|\n",
      "|2020|      4|   10|        15|        4|2020-10-15|                       UA|                           UA_CODESHARE|                   19977|                         UA|                           6051|                                   NULL|                                          NULL|                                             NULL|                                              NULL|                YV|                   20378|                         YV|     N83329|                           6051|          10693|           1069302|             30693|   BNA|       Nashville, TN|         TN|             47|      Tennessee|       54|        12266|         1226603|           31453| IAH|         Houston, TX|       TX|           48|        Texas|     74|      1100|   1137|    37.0|           37.0|     1.0|                   2| 1100-1159|   15.0|     1152|    1333|   5.0|      1318|   1338|    20.0|           20.0|     1.0|                 1| 1300-1359|      0.0|            NULL|     0.0|         138.0|            121.0|  101.0|    1.0|   657.0|            3|         0.0|         0.0|    20.0|          0.0|              0.0|        NULL|         NULL|           NULL|                 0|          NULL|                NULL|       NULL|       NULL|       NULL|         NULL|            NULL|        NULL|          NULL|            NULL|         NULL|       NULL|       NULL|         NULL|            NULL|        NULL|          NULL|            NULL|         NULL|       NULL|       NULL|         NULL|            NULL|        NULL|          NULL|            NULL|         NULL|       NULL|       NULL|         NULL|            NULL|        NULL|          NULL|            NULL|         NULL|       NULL|       NULL|         NULL|            NULL|        NULL|          NULL|            NULL|         NULL|       NULL|        N| NULL|\n",
      "|2020|      4|   10|        20|        2|2020-10-20|                       UA|                           UA_CODESHARE|                   19977|                         UA|                           6135|                                   NULL|                                          NULL|                                             NULL|                                              NULL|                YV|                   20378|                         YV|     N512MJ|                           6135|          14986|           1498603|             34986|   SRQ|Sarasota/Bradento...|         FL|             12|        Florida|       33|        12264|         1226402|           30852| IAD|      Washington, DC|       VA|           51|     Virginia|     38|      1335|   2212|   517.0|          517.0|     1.0|                  12| 1300-1359|   11.0|     2223|       3|  10.0|      1556|     13|   497.0|          497.0|     1.0|                12| 1500-1559|      0.0|            NULL|     0.0|         141.0|            121.0|  100.0|    1.0|   849.0|            4|         0.0|         0.0|   497.0|          0.0|              0.0|        NULL|         NULL|           NULL|                 0|          NULL|                NULL|       NULL|       NULL|       NULL|         NULL|            NULL|        NULL|          NULL|            NULL|         NULL|       NULL|       NULL|         NULL|            NULL|        NULL|          NULL|            NULL|         NULL|       NULL|       NULL|         NULL|            NULL|        NULL|          NULL|            NULL|         NULL|       NULL|       NULL|         NULL|            NULL|        NULL|          NULL|            NULL|         NULL|       NULL|       NULL|         NULL|            NULL|        NULL|          NULL|            NULL|         NULL|       NULL|        N| NULL|\n",
      "|2020|      4|   10|        20|        2|2020-10-20|                       UA|                           UA_CODESHARE|                   19977|                         UA|                           6146|                                   NULL|                                          NULL|                                             NULL|                                              NULL|                YV|                   20378|                         YV|     N80348|                           6146|          13198|           1319801|             33198|   MCI|     Kansas City, MO|         MO|             29|       Missouri|       64|        12266|         1226603|           31453| IAH|         Houston, TX|       TX|           48|        Texas|     74|       630|    627|    -3.0|            0.0|     0.0|                  -1| 0600-0659|   11.0|      638|     855|  14.0|       840|    909|    29.0|           29.0|     1.0|                 1| 0800-0859|      0.0|            NULL|     0.0|         130.0|            162.0|  137.0|    1.0|   643.0|            3|         0.0|         0.0|    29.0|          0.0|              0.0|        NULL|         NULL|           NULL|                 0|          NULL|                NULL|       NULL|       NULL|       NULL|         NULL|            NULL|        NULL|          NULL|            NULL|         NULL|       NULL|       NULL|         NULL|            NULL|        NULL|          NULL|            NULL|         NULL|       NULL|       NULL|         NULL|            NULL|        NULL|          NULL|            NULL|         NULL|       NULL|       NULL|         NULL|            NULL|        NULL|          NULL|            NULL|         NULL|       NULL|       NULL|         NULL|            NULL|        NULL|          NULL|            NULL|         NULL|       NULL|        N| NULL|\n",
      "|2020|      4|   10|        20|        2|2020-10-20|                       UA|                           UA_CODESHARE|                   19977|                         UA|                           6148|                                   NULL|                                          NULL|                                             NULL|                                              NULL|                YV|                   20378|                         YV|     N85358|                           6148|          12339|           1233904|             32337|   IND|    Indianapolis, IN|         IN|             18|        Indiana|       42|        12266|         1226603|           31453| IAH|         Houston, TX|       TX|           48|        Texas|     74|       700|    658|    -2.0|            0.0|     0.0|                  -1| 0700-0759|   13.0|      711|     849|  18.0|       831|    907|    36.0|           36.0|     1.0|                 2| 0800-0859|      0.0|            NULL|     0.0|         151.0|            189.0|  158.0|    1.0|   844.0|            4|         0.0|         0.0|    36.0|          0.0|              0.0|        NULL|         NULL|           NULL|                 0|          NULL|                NULL|       NULL|       NULL|       NULL|         NULL|            NULL|        NULL|          NULL|            NULL|         NULL|       NULL|       NULL|         NULL|            NULL|        NULL|          NULL|            NULL|         NULL|       NULL|       NULL|         NULL|            NULL|        NULL|          NULL|            NULL|         NULL|       NULL|       NULL|         NULL|            NULL|        NULL|          NULL|            NULL|         NULL|       NULL|       NULL|         NULL|            NULL|        NULL|          NULL|            NULL|         NULL|       NULL|        N| NULL|\n",
      "|2020|      4|   10|        15|        4|2020-10-15|                       UA|                           UA_CODESHARE|                   19977|                         UA|                           6105|                                   NULL|                                          NULL|                                             NULL|                                              NULL|                YV|                   20378|                         YV|     N86347|                           6105|          12266|           1226603|             31453|   IAH|         Houston, TX|         TX|             48|          Texas|       74|        11298|         1129806|           30194| DFW|Dallas/Fort Worth...|       TX|           48|        Texas|     74|       950|    947|    -3.0|            0.0|     0.0|                  -1| 0900-0959|   59.0|     1046|    1128|  15.0|      1109|   1143|    34.0|           34.0|     1.0|                 2| 1100-1159|      0.0|            NULL|     0.0|          79.0|            116.0|   42.0|    1.0|   224.0|            1|         0.0|         0.0|    34.0|          0.0|              0.0|        NULL|         NULL|           NULL|                 0|          NULL|                NULL|       NULL|       NULL|       NULL|         NULL|            NULL|        NULL|          NULL|            NULL|         NULL|       NULL|       NULL|         NULL|            NULL|        NULL|          NULL|            NULL|         NULL|       NULL|       NULL|         NULL|            NULL|        NULL|          NULL|            NULL|         NULL|       NULL|       NULL|         NULL|            NULL|        NULL|          NULL|            NULL|         NULL|       NULL|       NULL|         NULL|            NULL|        NULL|          NULL|            NULL|         NULL|       NULL|        N| NULL|\n",
      "|2020|      4|   10|        12|        1|2020-10-12|                       UA|                           UA_CODESHARE|                   19977|                         UA|                           6121|                                   NULL|                                          NULL|                                             NULL|                                              NULL|                YV|                   20378|                         YV|     N522LR|                           6121|          11042|           1104205|             30647|   CLE|       Cleveland, OH|         OH|             39|           Ohio|       44|        12264|         1226402|           30852| IAD|      Washington, DC|       VA|           51|     Virginia|     38|      1515|   1511|    -4.0|            0.0|     0.0|                  -1| 1500-1559|   21.0|     1532|    1643|   6.0|      1633|   1649|    16.0|           16.0|     1.0|                 1| 1600-1659|      0.0|            NULL|     0.0|          78.0|             98.0|   71.0|    1.0|   288.0|            2|         0.0|         0.0|    16.0|          0.0|              0.0|        NULL|         NULL|           NULL|                 0|          NULL|                NULL|       NULL|       NULL|       NULL|         NULL|            NULL|        NULL|          NULL|            NULL|         NULL|       NULL|       NULL|         NULL|            NULL|        NULL|          NULL|            NULL|         NULL|       NULL|       NULL|         NULL|            NULL|        NULL|          NULL|            NULL|         NULL|       NULL|       NULL|         NULL|            NULL|        NULL|          NULL|            NULL|         NULL|       NULL|       NULL|         NULL|            NULL|        NULL|          NULL|            NULL|         NULL|       NULL|        N| NULL|\n",
      "|2020|      4|   10|        16|        5|2020-10-16|                       UA|                           UA_CODESHARE|                   19977|                         UA|                           6021|                                   NULL|                                          NULL|                                             NULL|                                              NULL|                YV|                   20378|                         YV|     N88331|                           6021|          11066|           1106606|             31066|   CMH|        Columbus, OH|         OH|             39|           Ohio|       44|        12266|         1226603|           31453| IAH|         Houston, TX|       TX|           48|        Texas|     74|       630|    625|    -5.0|            0.0|     0.0|                  -1| 0600-0659|    8.0|      633|     830|  16.0|       827|    846|    19.0|           19.0|     1.0|                 1| 0800-0859|      0.0|            NULL|     0.0|         177.0|            201.0|  177.0|    1.0|   986.0|            4|         0.0|         0.0|    19.0|          0.0|              0.0|        NULL|         NULL|           NULL|                 0|          NULL|                NULL|       NULL|       NULL|       NULL|         NULL|            NULL|        NULL|          NULL|            NULL|         NULL|       NULL|       NULL|         NULL|            NULL|        NULL|          NULL|            NULL|         NULL|       NULL|       NULL|         NULL|            NULL|        NULL|          NULL|            NULL|         NULL|       NULL|       NULL|         NULL|            NULL|        NULL|          NULL|            NULL|         NULL|       NULL|       NULL|         NULL|            NULL|        NULL|          NULL|            NULL|         NULL|       NULL|        N| NULL|\n",
      "|2020|      4|   10|        24|        6|2020-10-24|                       UA|                           UA_CODESHARE|                   19977|                         UA|                           6126|                                   NULL|                                          NULL|                                             NULL|                                              NULL|                YV|                   20378|                         YV|     N89313|                           6126|          12266|           1226603|             31453|   IAH|         Houston, TX|         TX|             48|          Texas|       74|        12451|         1245102|           31136| JAX|    Jacksonville, FL|       FL|           12|      Florida|     33|      1505|   1504|    -1.0|            0.0|     0.0|                  -1| 1500-1559|   16.0|     1520|    1837|   6.0|      1823|   1843|    20.0|           20.0|     1.0|                 1| 1800-1859|      0.0|            NULL|     0.0|         138.0|            159.0|  137.0|    1.0|   817.0|            4|         0.0|         0.0|    20.0|          0.0|              0.0|        NULL|         NULL|           NULL|                 0|          NULL|                NULL|       NULL|       NULL|       NULL|         NULL|            NULL|        NULL|          NULL|            NULL|         NULL|       NULL|       NULL|         NULL|            NULL|        NULL|          NULL|            NULL|         NULL|       NULL|       NULL|         NULL|            NULL|        NULL|          NULL|            NULL|         NULL|       NULL|       NULL|         NULL|            NULL|        NULL|          NULL|            NULL|         NULL|       NULL|       NULL|         NULL|            NULL|        NULL|          NULL|            NULL|         NULL|       NULL|        N| NULL|\n",
      "|2020|      4|   10|        23|        5|2020-10-23|                       UA|                           UA_CODESHARE|                   19977|                         UA|                           6132|                                   NULL|                                          NULL|                                             NULL|                                              NULL|                YV|                   20378|                         YV|     N85354|                           6132|          12266|           1226603|             31453|   IAH|         Houston, TX|         TX|             48|          Texas|       74|        15919|         1591904|           31834| XNA|    Fayetteville, AR|       AR|            5|     Arkansas|     71|      1440|   1457|    17.0|           17.0|     1.0|                   1| 1400-1459|   68.0|     1605|    1714|   7.0|      1617|   1721|    64.0|           64.0|     1.0|                 4| 1600-1659|      0.0|            NULL|     0.0|          97.0|            144.0|   69.0|    1.0|   438.0|            2|         0.0|         0.0|    64.0|          0.0|              0.0|        NULL|         NULL|           NULL|                 0|          NULL|                NULL|       NULL|       NULL|       NULL|         NULL|            NULL|        NULL|          NULL|            NULL|         NULL|       NULL|       NULL|         NULL|            NULL|        NULL|          NULL|            NULL|         NULL|       NULL|       NULL|         NULL|            NULL|        NULL|          NULL|            NULL|         NULL|       NULL|       NULL|         NULL|            NULL|        NULL|          NULL|            NULL|         NULL|       NULL|       NULL|         NULL|            NULL|        NULL|          NULL|            NULL|         NULL|       NULL|        N| NULL|\n",
      "|2020|      4|   10|        12|        1|2020-10-12|                       UA|                           UA_CODESHARE|                   19977|                         UA|                           6152|                                   NULL|                                          NULL|                                             NULL|                                              NULL|                YV|                   20378|                         YV|     N519LR|                           6152|          14685|           1468502|             34685|   SAV|        Savannah, GA|         GA|             13|        Georgia|       34|        12264|         1226402|           30852| IAD|      Washington, DC|       VA|           51|     Virginia|     38|      1500|   1457|    -3.0|            0.0|     0.0|                  -1| 1500-1559|   25.0|     1522|    1651|   5.0|      1641|   1656|    15.0|           15.0|     1.0|                 1| 1600-1659|      0.0|            NULL|     0.0|         101.0|            119.0|   89.0|    1.0|   515.0|            3|         0.0|         0.0|    15.0|          0.0|              0.0|        NULL|         NULL|           NULL|                 0|          NULL|                NULL|       NULL|       NULL|       NULL|         NULL|            NULL|        NULL|          NULL|            NULL|         NULL|       NULL|       NULL|         NULL|            NULL|        NULL|          NULL|            NULL|         NULL|       NULL|       NULL|         NULL|            NULL|        NULL|          NULL|            NULL|         NULL|       NULL|       NULL|         NULL|            NULL|        NULL|          NULL|            NULL|         NULL|       NULL|       NULL|         NULL|            NULL|        NULL|          NULL|            NULL|         NULL|       NULL|        N| NULL|\n",
      "+----+-------+-----+----------+---------+----------+-------------------------+---------------------------------------+------------------------+---------------------------+-------------------------------+---------------------------------------+----------------------------------------------+-------------------------------------------------+--------------------------------------------------+------------------+------------------------+---------------------------+-----------+-------------------------------+---------------+------------------+------------------+------+--------------------+-----------+---------------+---------------+---------+-------------+----------------+----------------+----+--------------------+---------+-------------+-------------+-------+----------+-------+--------+---------------+--------+--------------------+----------+-------+---------+--------+------+----------+-------+--------+---------------+--------+------------------+----------+---------+----------------+--------+--------------+-----------------+-------+-------+--------+-------------+------------+------------+--------+-------------+-----------------+------------+-------------+---------------+------------------+--------------+--------------------+-----------+-----------+-----------+-------------+----------------+------------+--------------+----------------+-------------+-----------+-----------+-------------+----------------+------------+--------------+----------------+-------------+-----------+-----------+-------------+----------------+------------+--------------+----------------+-------------+-----------+-----------+-------------+----------------+------------+--------------+----------------+-------------+-----------+-----------+-------------+----------------+------------+--------------+----------------+-------------+-----------+---------+-----+\n",
      "only showing top 20 rows\n",
      "\n"
     ]
    },
    {
     "data": {
      "text/plain": [
       "29193782"
      ]
     },
     "execution_count": 17,
     "metadata": {},
     "output_type": "execute_result"
    }
   ],
   "source": [
    "dados.printSchema()\n",
    "dados.show()\n",
    "dados.count()"
   ]
  },
  {
   "cell_type": "markdown",
   "metadata": {},
   "source": [
    "-----\n",
    "# Data Cleaning"
   ]
  },
  {
   "cell_type": "markdown",
   "metadata": {},
   "source": [
    "## 1.Removing duplicates if any"
   ]
  },
  {
   "cell_type": "code",
   "execution_count": 10,
   "metadata": {},
   "outputs": [
    {
     "name": "stdout",
     "output_type": "stream",
     "text": [
      "Dados: number of rows: 29193782, after dropduplicates: 29193782\n"
     ]
    }
   ],
   "source": [
    "# Checking first: use dropDuplicates() and count()\n",
    "print(f'Dados: number of rows: {dados.count()}, after dropduplicates: {dados.dropDuplicates().count() }')"
   ]
  },
  {
   "cell_type": "markdown",
   "metadata": {},
   "source": [
    "## 2.Removing useless columns"
   ]
  },
  {
   "cell_type": "code",
   "execution_count": null,
   "metadata": {},
   "outputs": [],
   "source": [
    "# apagar o Year|Quarter|Month|DayofMonth -\n",
    "# substituir os OriginCityName|OriginState|OriginStateName|OriginStateFips num só\n",
    "# DestCityName|DestState|DestStateNam|DestStateFips mesmo que em cima\n",
    "# tirar o OriginCityMarketID que ja temos a cidade -\n",
    "# tirar OriginAirportID|OriginAirportSeqID que ja temos o nome do aeroporto -\n",
    "# igual para estes DestAirportID|DestAirportSeqID|DestCityMarketID -\n",
    "# Marketing_Airline_Network IATA_Code_Marketing_Airline iguais\n",
    "# Operating_Airline IATA_Code_Operating_Airline iguais\n",
    "# Flight_Number_Marketing_Airline Flight_Number_Operating_Airline iguais\n",
    "# apagar DepDelayMinutes e DepDel15 e arranjar o DepDelay ! fazer o mesmo para ArrDelay ArrDelayMinutes ArrDel15"
   ]
  },
  {
   "cell_type": "code",
   "execution_count": 18,
   "metadata": {},
   "outputs": [],
   "source": [
    "cols_to_dismiss = ['DestAirportID','DestAirportSeqID','DestCityMarketID','OriginAirportID','OriginAirportSeqID'\n",
    "                   ,'OriginCityMarketID','Year','Quarter','Month','DayofMonth','Marketing_Airline_Network'\n",
    "                   ,'Operating_Airline','Flight_Number_Marketing_Airline','ArrDelayMinutes','DepDelayMinutes']\n",
    "dados = dados.drop(*cols_to_dismiss)"
   ]
  },
  {
   "cell_type": "code",
   "execution_count": 19,
   "metadata": {},
   "outputs": [],
   "source": [
    "dados = dados.withColumn('OriginCityNameState',\n",
    "                          F.concat_ws(\n",
    "                              ',',\n",
    "                                F.split(F.col('OriginCityName'),',')[0],\n",
    "                                F.col(\"OriginStateName\")\n",
    "    ))\n",
    "#dados.show()"
   ]
  },
  {
   "cell_type": "code",
   "execution_count": 20,
   "metadata": {},
   "outputs": [],
   "source": [
    "dados = dados.withColumn('DestCityNameState',\n",
    "                          F.concat_ws(\n",
    "                              ',',\n",
    "                                F.split(F.col('DestCityName'),',')[0],\n",
    "                                F.col(\"DestStateName\")\n",
    "    ))\n",
    "#dados.show()"
   ]
  },
  {
   "cell_type": "code",
   "execution_count": 21,
   "metadata": {},
   "outputs": [],
   "source": [
    "cols_to_dismiss = [\"OriginCityName\",\"OriginState\",\"OriginStateName\",\"OriginStateFips\",\"DestCityName\",\"DestState\",\"DestStateNam\",\"DestStateFips\"]\n",
    "dados = dados.drop(*cols_to_dismiss)"
   ]
  },
  {
   "cell_type": "markdown",
   "metadata": {},
   "source": [
    "## 3.Handling missing values"
   ]
  },
  {
   "cell_type": "code",
   "execution_count": null,
   "metadata": {},
   "outputs": [],
   "source": [
    "# dados.groupby(\"DivAirportLandings\").count().show()\n",
    "\n",
    "# apagar DepDelayMinutes e DepDel15 e arranjar o DepDelay ! fazer o mesmo para ArrDelay ArrDelayMinutes ArrDel15"
   ]
  },
  {
   "cell_type": "code",
   "execution_count": 29,
   "metadata": {},
   "outputs": [],
   "source": [
    "#dados.show()\n",
    "# 'DepTime': 761652\n",
    "#dados = dados.withColumn('DepDelay', F.col('DepTime')-F.col('CRSDepTime'))\n"
   ]
  },
  {
   "cell_type": "code",
   "execution_count": null,
   "metadata": {},
   "outputs": [],
   "source": [
    "# Ver em que colunas estão os nulos (by columns)\n",
    "dict_nulls_calls = {col: dados.filter(dados[col].isNull()).count() for col in dados.columns}\n",
    "dict_nulls_calls\n",
    "\n",
    "# valores corridos ao dataset todo sem fazer nada aos nulls\n",
    "\n",
    "{'FlightDate': 0,\n",
    " 'Airline': 0,\n",
    " 'Origin': 0,\n",
    " 'Dest': 0,\n",
    " 'Cancelled': 0,\n",
    " 'Diverted': 0,\n",
    " 'CRSDepTime': 0,\n",
    " 'DepTime': 761652,\n",
    " 'DepDelayMinutes': 763084,\n",
    " 'DepDelay': 763084,\n",
    " 'ArrTime': 786177,\n",
    " 'ArrDelayMinutes': 846183,\n",
    " 'AirTime': 852561,\n",
    " 'CRSElapsedTime': 22,\n",
    " 'ActualElapsedTime': 845637,\n",
    " 'Distance': 0,\n",
    " 'DayOfWeek': 0,\n",
    " 'Operated_or_Branded_Code_Share_Partners': 0,\n",
    " 'DOT_ID_Marketing_Airline': 0,\n",
    " 'IATA_Code_Marketing_Airline': 0,\n",
    " 'DOT_ID_Operating_Airline': 0,\n",
    " 'IATA_Code_Operating_Airline': 0,\n",
    " 'Tail_Number': 267613,\n",
    " 'Flight_Number_Operating_Airline': 0,\n",
    " 'OriginWac': 0,\n",
    " 'DestStateName': 0,\n",
    " 'DestWac': 0,\n",
    " 'DepDel15': 763084,\n",
    " 'DepartureDelayGroups': 763084,\n",
    " 'DepTimeBlk': 0,\n",
    " 'TaxiOut': 780561,\n",
    " 'WheelsOff': 780551,\n",
    " 'WheelsOn': 793133,\n",
    " 'TaxiIn': 793143,\n",
    " 'CRSArrTime': 0,\n",
    " 'ArrDelay': 846183,\n",
    " 'ArrDel15': 846183,\n",
    " 'ArrivalDelayGroups': 846183,\n",
    " 'ArrTimeBlk': 0,\n",
    " 'DistanceGroup': 0,\n",
    " 'DivAirportLandings': 90,\n",
    " 'OriginCityNameState': 0,\n",
    " 'DestCityNameState': 0}"
   ]
  },
  {
   "cell_type": "code",
   "execution_count": 32,
   "metadata": {},
   "outputs": [
    {
     "data": {
      "text/plain": [
       "5005391"
      ]
     },
     "execution_count": 32,
     "metadata": {},
     "output_type": "execute_result"
    }
   ],
   "source": [
    "#Quantas linhas ficavam depois tem valores nulos\n",
    "dados.dropna(how='any').count()"
   ]
  },
  {
   "cell_type": "code",
   "execution_count": null,
   "metadata": {},
   "outputs": [],
   "source": [
    "\n",
    "\n",
    "cols_to_dismiss = [\n",
    "    # Informações duplicadas ou derivadas\n",
    "    'DepDelayMinutes', 'DepDelay', 'DepDel15', 'DepartureDelayGroups',\n",
    "    'ArrDelayMinutes', 'ArrDelay', 'ArrDel15', 'ArrivalDelayGroups',\n",
    "    'AirTime', 'ActualElapsedTime', 'WheelsOff', 'WheelsOn', 'Tail_Number',\n",
    "\n",
    "    # Diverted flights – detalhes específicos desnecessários\n",
    "    'DivAirportLandings', 'DivReachedDest', 'DivActualElapsedTime',\n",
    "    'DivArrDelay', 'DivDistance',\n",
    "\n",
    "    # Todas as colunas relacionadas com aeroportos desviados \n",
    "    'Div1Airport', 'Div1AirportID', 'Div1AirportSeqID', 'Div1WheelsOn',\n",
    "    'Div1TotalGTime', 'Div1LongestGTime', 'Div1WheelsOff', 'Div1TailNum',\n",
    "    'Div2Airport', 'Div2AirportID', 'Div2AirportSeqID', 'Div2WheelsOn',\n",
    "    'Div2TotalGTime', 'Div2LongestGTime', 'Div2WheelsOff', 'Div2TailNum',\n",
    "    'Div3Airport', 'Div3AirportID', 'Div3AirportSeqID', 'Div3WheelsOn',\n",
    "    'Div3TotalGTime', 'Div3LongestGTime', 'Div3WheelsOff', 'Div3TailNum',\n",
    "    'Div4Airport', 'Div4AirportID', 'Div4AirportSeqID', 'Div4WheelsOn',\n",
    "    'Div4TotalGTime', 'Div4LongestGTime', 'Div4WheelsOff', 'Div4TailNum',\n",
    "    'Div5Airport', 'Div5AirportID', 'Div5AirportSeqID', 'Div5WheelsOn',\n",
    "    'Div5TotalGTime', 'Div5LongestGTime', 'Div5WheelsOff', 'Div5TailNum',\n",
    "\n",
    "    # Identificadores redundantes\n",
    "    'DOT_ID_Marketing_Airline', 'DOT_ID_Operating_Airline',\n",
    "    'IATA_Code_Marketing_Airline', 'IATA_Code_Operating_Airline',\n",
    "\n",
    "    'CancellationCode'\n",
    "]\n",
    "\n",
    "dados = dados.drop(*cols_to_dismiss)"
   ]
  },
  {
   "cell_type": "code",
   "execution_count": null,
   "metadata": {},
   "outputs": [],
   "source": [
    "dict_nulls_calls = {col: dados.filter(dados[col].isNull()).count() for col in dados.columns}\n",
    "dict_nulls_calls\n",
    "\n",
    "{'DayOfWeek': 0,\n",
    " 'FlightDate': 0,\n",
    " 'Operated_or_Branded_Code_Share_Partners': 0,\n",
    " 'Originally_Scheduled_Code_Share_Airline': 29189909,\n",
    " 'DOT_ID_Originally_Scheduled_Code_Share_Airline': 29189909,\n",
    " 'IATA_Code_Originally_Scheduled_Code_Share_Airline': 29189909,\n",
    " 'Flight_Num_Originally_Scheduled_Code_Share_Airline': 29189909,\n",
    " 'Operating_Airline ': 0,\n",
    " 'Flight_Number_Operating_Airline': 0,\n",
    " 'Origin': 0,\n",
    " 'OriginWac': 0,\n",
    " 'Dest': 0,\n",
    " 'DestStateName': 0,\n",
    " 'DestWac': 0,\n",
    " 'CRSDepTime': 0,\n",
    " 'DepTime': 761652,\n",
    " 'DepTimeBlk': 0,\n",
    " 'TaxiOut': 780561,\n",
    " 'TaxiIn': 793143,\n",
    " 'CRSArrTime': 0,\n",
    " 'ArrTime': 786177,\n",
    " 'ArrTimeBlk': 0,\n",
    " 'Cancelled': 0,\n",
    " 'Diverted': 0,\n",
    " 'CRSElapsedTime': 22,\n",
    " 'Flights': 0,\n",
    " 'Distance': 0,\n",
    " 'DistanceGroup': 0,\n",
    " 'CarrierDelay': 24187011,\n",
    " 'WeatherDelay': 24187014,\n",
    " 'NASDelay': 24187014,\n",
    " 'SecurityDelay': 24187014,\n",
    " 'LateAircraftDelay': 24187014,\n",
    " 'FirstDepTime': 29010646,\n",
    " 'TotalAddGTime': 29010666,\n",
    " 'LongestAddGTime': 29010665,\n",
    " 'Duplicate': 0,\n",
    " '_c119': 29193782,\n",
    " 'OriginCityNameState': 0,\n",
    " 'DestCityNameState': 0}"
   ]
  },
  {
   "cell_type": "code",
   "execution_count": 38,
   "metadata": {},
   "outputs": [],
   "source": [
    "\n",
    "\n",
    "cols_to_dismiss = [\n",
    "    'Originally_Scheduled_Code_Share_Airline','DOT_ID_Originally_Scheduled_Code_Share_Airline','IATA_Code_Originally_Scheduled_Code_Share_Airline',\n",
    "    'Flight_Num_Originally_Scheduled_Code_Share_Airline','CarrierDelay','WeatherDelay','NASDelay','SecurityDelay','FirstDepTime','TotalAddGTime',\n",
    "    'LongestAddGTime','_c119','LateAircraftDelay'\n",
    "]\n",
    "\n",
    "dados = dados.drop(*cols_to_dismiss)"
   ]
  },
  {
   "cell_type": "code",
   "execution_count": null,
   "metadata": {},
   "outputs": [],
   "source": [
    "dict_nulls_calls = {col: dados.filter(dados[col].isNull()).count() for col in dados.columns}\n",
    "dict_nulls_calls\n",
    "\n",
    "{'DayOfWeek': 0,\n",
    " 'FlightDate': 0,\n",
    " 'Operated_or_Branded_Code_Share_Partners': 0,\n",
    " 'Operating_Airline ': 0,\n",
    " 'Flight_Number_Operating_Airline': 0,\n",
    " 'Origin': 0,\n",
    " 'OriginWac': 0,\n",
    " 'Dest': 0,\n",
    " 'DestStateName': 0,\n",
    " 'DestWac': 0,\n",
    " 'CRSDepTime': 0,\n",
    " 'DepTime': 761652,\n",
    " 'DepTimeBlk': 0,\n",
    " 'TaxiOut': 780561,\n",
    " 'TaxiIn': 793143,\n",
    " 'CRSArrTime': 0,\n",
    " 'ArrTime': 786177,\n",
    " 'ArrTimeBlk': 0,\n",
    " 'Cancelled': 0,\n",
    " 'Diverted': 0,\n",
    " 'CRSElapsedTime': 22,\n",
    " 'Flights': 0,\n",
    " 'Distance': 0,\n",
    " 'DistanceGroup': 0,\n",
    " 'Duplicate': 0,\n",
    " 'OriginCityNameState': 0,\n",
    " 'DestCityNameState': 0}"
   ]
  },
  {
   "cell_type": "code",
   "execution_count": 40,
   "metadata": {},
   "outputs": [
    {
     "data": {
      "text/plain": [
       "28400626"
      ]
     },
     "execution_count": 40,
     "metadata": {},
     "output_type": "execute_result"
    }
   ],
   "source": [
    "#Quantas linhas ficavam depois tem valores nulos\n",
    "dados.dropna(how='any').count()"
   ]
  },
  {
   "cell_type": "markdown",
   "metadata": {},
   "source": [
    "-----\n",
    "# Data Transformation"
   ]
  },
  {
   "cell_type": "code",
   "execution_count": null,
   "metadata": {},
   "outputs": [],
   "source": [
    "# converter hhmm para minutos desde meia-noite\n",
    "def hhmm_to_minutes(col):\n",
    "    return (F.floor(col / 100) * 60) + (col % 100)\n",
    "\n",
    "#  tempos de partida\n",
    "dados = dados.withColumn(\"DepTime_min\", hhmm_to_minutes(F.col(\"DepTime\")))\n",
    "dados = dados.withColumn(\"CRSDepTime_min\", hhmm_to_minutes(F.col(\"CRSDepTime\")))\n",
    "dados = dados.withColumn(\"DepDelay\", F.col(\"DepTime_min\") - F.col(\"CRSDepTime_min\"))\n",
    "\n",
    "#  tempos de chegada\n",
    "dados = dados.withColumn(\"ArrTime_min\", hhmm_to_minutes(F.col(\"ArrTime\")))\n",
    "dados = dados.withColumn(\"CRSArrTime_min\", hhmm_to_minutes(F.col(\"CRSArrTime\")))\n",
    "dados = dados.withColumn(\"ArrDelay\", F.col(\"ArrTime_min\") - F.col(\"CRSArrTime_min\"))\n",
    "\n"
   ]
  },
  {
   "cell_type": "code",
   "execution_count": 44,
   "metadata": {},
   "outputs": [
    {
     "name": "stdout",
     "output_type": "stream",
     "text": [
      "+---------+----------+---------------------------------------+------------------+-------------------------------+------+---------+----+-------------+-------+----------+-------+----------+-------+------+----------+-------+----------+---------+--------+--------------+-------+--------+-------------+---------+--------------------+-------------------+--------+-----------+--------------+-----------+--------------+--------+\n",
      "|DayOfWeek|FlightDate|Operated_or_Branded_Code_Share_Partners|Operating_Airline |Flight_Number_Operating_Airline|Origin|OriginWac|Dest|DestStateName|DestWac|CRSDepTime|DepTime|DepTimeBlk|TaxiOut|TaxiIn|CRSArrTime|ArrTime|ArrTimeBlk|Cancelled|Diverted|CRSElapsedTime|Flights|Distance|DistanceGroup|Duplicate| OriginCityNameState|  DestCityNameState|DepDelay|DepTime_min|CRSDepTime_min|ArrTime_min|CRSArrTime_min|ArrDelay|\n",
      "+---------+----------+---------------------------------------+------------------+-------------------------------+------+---------+----+-------------+-------+----------+-------+----------+-------+------+----------+-------+----------+---------+--------+--------------+-------+--------+-------------+---------+--------------------+-------------------+--------+-----------+--------------+-----------+--------------+--------+\n",
      "|        4|2020-10-15|                           UA_CODESHARE|                YV|                           6023|   CLT|       36| IAD|     Virginia|     38|      1445|   1444| 1400-1459|   53.0|   8.0|      1621|   1640| 1600-1659|      0.0|     0.0|          96.0|    1.0|   322.0|            2|        N|Charlotte,North C...|Washington,Virginia|      -1|        884|           885|       1000|           981|      19|\n",
      "+---------+----------+---------------------------------------+------------------+-------------------------------+------+---------+----+-------------+-------+----------+-------+----------+-------+------+----------+-------+----------+---------+--------+--------------+-------+--------+-------------+---------+--------------------+-------------------+--------+-----------+--------------+-----------+--------------+--------+\n",
      "only showing top 1 row\n",
      "\n"
     ]
    }
   ],
   "source": [
    "dados.show(1)"
   ]
  }
 ],
 "metadata": {
  "kernelspec": {
   "display_name": "vscode_pyspark",
   "language": "python",
   "name": "vscode_pyspark"
  },
  "language_info": {
   "codemirror_mode": {
    "name": "ipython",
    "version": 3
   },
   "file_extension": ".py",
   "mimetype": "text/x-python",
   "name": "python",
   "nbconvert_exporter": "python",
   "pygments_lexer": "ipython3",
   "version": "3.11.11"
  }
 },
 "nbformat": 4,
 "nbformat_minor": 2
}
