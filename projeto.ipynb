{
 "cells": [
  {
   "cell_type": "markdown",
   "metadata": {},
   "source": [
    "---\n",
    "# Imports"
   ]
  },
  {
   "cell_type": "code",
   "execution_count": 1,
   "metadata": {},
   "outputs": [],
   "source": [
    "import pyspark \n",
    "from pyspark.sql import SparkSession\n",
    "import pyspark.sql.functions as F\n",
    "import numpy as np\n",
    "#!pip install kagglehub\n",
    "#import kagglehub"
   ]
  },
  {
   "cell_type": "code",
   "execution_count": 2,
   "metadata": {},
   "outputs": [],
   "source": [
    "spark = SparkSession.builder.appName(\"ProjetoABD\").getOrCreate()"
   ]
  },
  {
   "cell_type": "code",
   "execution_count": 3,
   "metadata": {},
   "outputs": [],
   "source": [
    "#dados = spark.read.parquet('avioes/pq').limit(50000)\n",
    "dados = spark.read.load('avioes/csv',format='csv',sep=',',inferSchema=True, header=True)#.limit(50000)"
   ]
  },
  {
   "cell_type": "code",
   "execution_count": 4,
   "metadata": {},
   "outputs": [
    {
     "name": "stdout",
     "output_type": "stream",
     "text": [
      "root\n",
      " |-- FlightDate: date (nullable = true)\n",
      " |-- Airline: string (nullable = true)\n",
      " |-- Origin: string (nullable = true)\n",
      " |-- Dest: string (nullable = true)\n",
      " |-- Cancelled: boolean (nullable = true)\n",
      " |-- Diverted: boolean (nullable = true)\n",
      " |-- CRSDepTime: integer (nullable = true)\n",
      " |-- DepTime: double (nullable = true)\n",
      " |-- DepDelayMinutes: double (nullable = true)\n",
      " |-- DepDelay: double (nullable = true)\n",
      " |-- ArrTime: double (nullable = true)\n",
      " |-- ArrDelayMinutes: double (nullable = true)\n",
      " |-- AirTime: double (nullable = true)\n",
      " |-- CRSElapsedTime: double (nullable = true)\n",
      " |-- ActualElapsedTime: double (nullable = true)\n",
      " |-- Distance: double (nullable = true)\n",
      " |-- Year: integer (nullable = true)\n",
      " |-- Quarter: integer (nullable = true)\n",
      " |-- Month: integer (nullable = true)\n",
      " |-- DayofMonth: integer (nullable = true)\n",
      " |-- DayOfWeek: integer (nullable = true)\n",
      " |-- Marketing_Airline_Network: string (nullable = true)\n",
      " |-- Operated_or_Branded_Code_Share_Partners: string (nullable = true)\n",
      " |-- DOT_ID_Marketing_Airline: integer (nullable = true)\n",
      " |-- IATA_Code_Marketing_Airline: string (nullable = true)\n",
      " |-- Flight_Number_Marketing_Airline: integer (nullable = true)\n",
      " |-- Operating_Airline: string (nullable = true)\n",
      " |-- DOT_ID_Operating_Airline: integer (nullable = true)\n",
      " |-- IATA_Code_Operating_Airline: string (nullable = true)\n",
      " |-- Tail_Number: string (nullable = true)\n",
      " |-- Flight_Number_Operating_Airline: integer (nullable = true)\n",
      " |-- OriginAirportID: integer (nullable = true)\n",
      " |-- OriginAirportSeqID: integer (nullable = true)\n",
      " |-- OriginCityMarketID: integer (nullable = true)\n",
      " |-- OriginCityName: string (nullable = true)\n",
      " |-- OriginState: string (nullable = true)\n",
      " |-- OriginStateFips: integer (nullable = true)\n",
      " |-- OriginStateName: string (nullable = true)\n",
      " |-- OriginWac: integer (nullable = true)\n",
      " |-- DestAirportID: integer (nullable = true)\n",
      " |-- DestAirportSeqID: integer (nullable = true)\n",
      " |-- DestCityMarketID: integer (nullable = true)\n",
      " |-- DestCityName: string (nullable = true)\n",
      " |-- DestState: string (nullable = true)\n",
      " |-- DestStateFips: integer (nullable = true)\n",
      " |-- DestStateName: string (nullable = true)\n",
      " |-- DestWac: integer (nullable = true)\n",
      " |-- DepDel15: double (nullable = true)\n",
      " |-- DepartureDelayGroups: double (nullable = true)\n",
      " |-- DepTimeBlk: string (nullable = true)\n",
      " |-- TaxiOut: double (nullable = true)\n",
      " |-- WheelsOff: double (nullable = true)\n",
      " |-- WheelsOn: double (nullable = true)\n",
      " |-- TaxiIn: double (nullable = true)\n",
      " |-- CRSArrTime: integer (nullable = true)\n",
      " |-- ArrDelay: double (nullable = true)\n",
      " |-- ArrDel15: double (nullable = true)\n",
      " |-- ArrivalDelayGroups: double (nullable = true)\n",
      " |-- ArrTimeBlk: string (nullable = true)\n",
      " |-- DistanceGroup: integer (nullable = true)\n",
      " |-- DivAirportLandings: double (nullable = true)\n",
      "\n",
      "+----------+-----------------+------+----+---------+--------+----------+-------+---------------+--------+-------+---------------+-------+--------------+-----------------+--------+----+-------+-----+----------+---------+-------------------------+---------------------------------------+------------------------+---------------------------+-------------------------------+-----------------+------------------------+---------------------------+-----------+-------------------------------+---------------+------------------+------------------+--------------+-----------+---------------+---------------+---------+-------------+----------------+----------------+------------+---------+-------------+-------------+-------+--------+--------------------+----------+-------+---------+--------+------+----------+--------+--------+------------------+----------+-------------+------------------+\n",
      "|FlightDate|          Airline|Origin|Dest|Cancelled|Diverted|CRSDepTime|DepTime|DepDelayMinutes|DepDelay|ArrTime|ArrDelayMinutes|AirTime|CRSElapsedTime|ActualElapsedTime|Distance|Year|Quarter|Month|DayofMonth|DayOfWeek|Marketing_Airline_Network|Operated_or_Branded_Code_Share_Partners|DOT_ID_Marketing_Airline|IATA_Code_Marketing_Airline|Flight_Number_Marketing_Airline|Operating_Airline|DOT_ID_Operating_Airline|IATA_Code_Operating_Airline|Tail_Number|Flight_Number_Operating_Airline|OriginAirportID|OriginAirportSeqID|OriginCityMarketID|OriginCityName|OriginState|OriginStateFips|OriginStateName|OriginWac|DestAirportID|DestAirportSeqID|DestCityMarketID|DestCityName|DestState|DestStateFips|DestStateName|DestWac|DepDel15|DepartureDelayGroups|DepTimeBlk|TaxiOut|WheelsOff|WheelsOn|TaxiIn|CRSArrTime|ArrDelay|ArrDel15|ArrivalDelayGroups|ArrTimeBlk|DistanceGroup|DivAirportLandings|\n",
      "+----------+-----------------+------+----+---------+--------+----------+-------+---------------+--------+-------+---------------+-------+--------------+-----------------+--------+----+-------+-----+----------+---------+-------------------------+---------------------------------------+------------------------+---------------------------+-------------------------------+-----------------+------------------------+---------------------------+-----------+-------------------------------+---------------+------------------+------------------+--------------+-----------+---------------+---------------+---------+-------------+----------------+----------------+------------+---------+-------------+-------------+-------+--------+--------------------+----------+-------+---------+--------+------+----------+--------+--------+------------------+----------+-------------+------------------+\n",
      "|2018-01-23|Endeavor Air Inc.|   ABY| ATL|    false|   false|      1202| 1157.0|            0.0|    -5.0| 1256.0|            0.0|   38.0|          62.0|             59.0|   145.0|2018|      1|    1|        23|        2|                       DL|                           DL_CODESHARE|                   19790|                         DL|                           3298|               9E|                   20363|                         9E|     N8928A|                           3298|          10146|           1014602|             30146|    Albany, GA|         GA|             13|        Georgia|       34|        10397|         1039707|           30397| Atlanta, GA|       GA|           13|      Georgia|     34|     0.0|                -1.0| 1200-1259|   14.0|   1211.0|  1249.0|   7.0|      1304|    -8.0|     0.0|              -1.0| 1300-1359|            1|               0.0|\n",
      "|2018-01-24|Endeavor Air Inc.|   ABY| ATL|    false|   false|      1202| 1157.0|            0.0|    -5.0| 1258.0|            0.0|   36.0|          62.0|             61.0|   145.0|2018|      1|    1|        24|        3|                       DL|                           DL_CODESHARE|                   19790|                         DL|                           3298|               9E|                   20363|                         9E|     N800AY|                           3298|          10146|           1014602|             30146|    Albany, GA|         GA|             13|        Georgia|       34|        10397|         1039707|           30397| Atlanta, GA|       GA|           13|      Georgia|     34|     0.0|                -1.0| 1200-1259|   13.0|   1210.0|  1246.0|  12.0|      1304|    -6.0|     0.0|              -1.0| 1300-1359|            1|               0.0|\n",
      "|2018-01-25|Endeavor Air Inc.|   ABY| ATL|    false|   false|      1202| 1153.0|            0.0|    -9.0| 1302.0|            0.0|   40.0|          62.0|             69.0|   145.0|2018|      1|    1|        25|        4|                       DL|                           DL_CODESHARE|                   19790|                         DL|                           3298|               9E|                   20363|                         9E|     N8836A|                           3298|          10146|           1014602|             30146|    Albany, GA|         GA|             13|        Georgia|       34|        10397|         1039707|           30397| Atlanta, GA|       GA|           13|      Georgia|     34|     0.0|                -1.0| 1200-1259|   18.0|   1211.0|  1251.0|  11.0|      1304|    -2.0|     0.0|              -1.0| 1300-1359|            1|               0.0|\n",
      "|2018-01-26|Endeavor Air Inc.|   ABY| ATL|    false|   false|      1202| 1150.0|            0.0|   -12.0| 1253.0|            0.0|   35.0|          62.0|             63.0|   145.0|2018|      1|    1|        26|        5|                       DL|                           DL_CODESHARE|                   19790|                         DL|                           3298|               9E|                   20363|                         9E|     N800AY|                           3298|          10146|           1014602|             30146|    Albany, GA|         GA|             13|        Georgia|       34|        10397|         1039707|           30397| Atlanta, GA|       GA|           13|      Georgia|     34|     0.0|                -1.0| 1200-1259|   17.0|   1207.0|  1242.0|  11.0|      1304|   -11.0|     0.0|              -1.0| 1300-1359|            1|               0.0|\n",
      "|2018-01-27|Endeavor Air Inc.|   ABY| ATL|    false|   false|      1400| 1355.0|            0.0|    -5.0| 1459.0|            0.0|   36.0|          60.0|             64.0|   145.0|2018|      1|    1|        27|        6|                       DL|                           DL_CODESHARE|                   19790|                         DL|                           3298|               9E|                   20363|                         9E|     N8839E|                           3298|          10146|           1014602|             30146|    Albany, GA|         GA|             13|        Georgia|       34|        10397|         1039707|           30397| Atlanta, GA|       GA|           13|      Georgia|     34|     0.0|                -1.0| 1400-1459|   17.0|   1412.0|  1448.0|  11.0|      1500|    -1.0|     0.0|              -1.0| 1500-1559|            1|               0.0|\n",
      "|2018-01-28|Endeavor Air Inc.|   ABY| ATL|    false|   false|      1202| 1202.0|           NULL|    NULL| 1326.0|           22.0|   37.0|          62.0|             84.0|   145.0|2018|      1|    1|        28|        7|                       DL|                           DL_CODESHARE|                   19790|                         DL|                           3298|               9E|                   20363|                         9E|     N8918B|                           3298|          10146|           1014602|             30146|    Albany, GA|         GA|             13|        Georgia|       34|        10397|         1039707|           30397| Atlanta, GA|       GA|           13|      Georgia|     34|    NULL|                NULL| 1200-1259|   34.0|   1236.0|  1313.0|  13.0|      1304|    22.0|     1.0|               1.0| 1300-1359|            1|               0.0|\n",
      "|2018-01-29|Endeavor Air Inc.|   ABY| ATL|    false|   false|      1202| 1204.0|            2.0|     2.0| 1303.0|            0.0|   34.0|          62.0|             59.0|   145.0|2018|      1|    1|        29|        1|                       DL|                           DL_CODESHARE|                   19790|                         DL|                           3298|               9E|                   20363|                         9E|     N8783E|                           3298|          10146|           1014602|             30146|    Albany, GA|         GA|             13|        Georgia|       34|        10397|         1039707|           30397| Atlanta, GA|       GA|           13|      Georgia|     34|     0.0|                 0.0| 1200-1259|   15.0|   1219.0|  1253.0|  10.0|      1304|    -1.0|     0.0|              -1.0| 1300-1359|            1|               0.0|\n",
      "|2018-01-30|Endeavor Air Inc.|   ABY| ATL|    false|   false|      1202| 1153.0|            0.0|    -9.0| 1255.0|            0.0|   44.0|          62.0|             62.0|   145.0|2018|      1|    1|        30|        2|                       DL|                           DL_CODESHARE|                   19790|                         DL|                           3298|               9E|                   20363|                         9E|     N8946A|                           3298|          10146|           1014602|             30146|    Albany, GA|         GA|             13|        Georgia|       34|        10397|         1039707|           30397| Atlanta, GA|       GA|           13|      Georgia|     34|     0.0|                -1.0| 1200-1259|    7.0|   1200.0|  1244.0|  11.0|      1304|    -9.0|     0.0|              -1.0| 1300-1359|            1|               0.0|\n",
      "|2018-01-31|Endeavor Air Inc.|   ABY| ATL|    false|   false|      1202| 1153.0|            0.0|    -9.0| 1304.0|           NULL|   37.0|          62.0|             71.0|   145.0|2018|      1|    1|        31|        3|                       DL|                           DL_CODESHARE|                   19790|                         DL|                           3298|               9E|                   20363|                         9E|     N8918B|                           3298|          10146|           1014602|             30146|    Albany, GA|         GA|             13|        Georgia|       34|        10397|         1039707|           30397| Atlanta, GA|       GA|           13|      Georgia|     34|     0.0|                -1.0| 1200-1259|   26.0|   1219.0|  1256.0|   8.0|      1304|    NULL|    NULL|              NULL| 1300-1359|            1|               0.0|\n",
      "|2018-01-03|Endeavor Air Inc.|   ATL| ABY|    false|   false|      1037| 1101.0|           24.0|    24.0| 1159.0|           22.0|   32.0|          60.0|             58.0|   145.0|2018|      1|    1|         3|        3|                       DL|                           DL_CODESHARE|                   19790|                         DL|                           3298|               9E|                   20363|                         9E|     N981EV|                           3298|          10397|           1039707|             30397|   Atlanta, GA|         GA|             13|        Georgia|       34|        10146|         1014602|           30146|  Albany, GA|       GA|           13|      Georgia|     34|     1.0|                 1.0| 1000-1059|   23.0|   1124.0|  1156.0|   3.0|      1137|    22.0|     1.0|               1.0| 1100-1159|            1|               0.0|\n",
      "|2018-01-04|Endeavor Air Inc.|   ATL| ABY|    false|   false|      1037| 1032.0|            0.0|    -5.0| 1125.0|            0.0|   27.0|          60.0|             53.0|   145.0|2018|      1|    1|         4|        4|                       DL|                           DL_CODESHARE|                   19790|                         DL|                           3298|               9E|                   20363|                         9E|     N981EV|                           3298|          10397|           1039707|             30397|   Atlanta, GA|         GA|             13|        Georgia|       34|        10146|         1014602|           30146|  Albany, GA|       GA|           13|      Georgia|     34|     0.0|                -1.0| 1000-1059|   23.0|   1055.0|  1122.0|   3.0|      1137|   -12.0|     0.0|              -1.0| 1100-1159|            1|               0.0|\n",
      "|2018-01-05|Endeavor Air Inc.|   ATL| ABY|    false|   false|      1037| 1032.0|            0.0|    -5.0| 1124.0|            0.0|   29.0|          60.0|             52.0|   145.0|2018|      1|    1|         5|        5|                       DL|                           DL_CODESHARE|                   19790|                         DL|                           3298|               9E|                   20363|                         9E|     N8877A|                           3298|          10397|           1039707|             30397|   Atlanta, GA|         GA|             13|        Georgia|       34|        10146|         1014602|           30146|  Albany, GA|       GA|           13|      Georgia|     34|     0.0|                -1.0| 1000-1059|   20.0|   1052.0|  1121.0|   3.0|      1137|   -13.0|     0.0|              -1.0| 1100-1159|            1|               0.0|\n",
      "|2018-01-06|Endeavor Air Inc.|   ATL| ABY|    false|   false|      1037| 1032.0|            0.0|    -5.0| 1126.0|            0.0|   34.0|          59.0|             54.0|   145.0|2018|      1|    1|         6|        6|                       DL|                           DL_CODESHARE|                   19790|                         DL|                           3298|               9E|                   20363|                         9E|     N8970D|                           3298|          10397|           1039707|             30397|   Atlanta, GA|         GA|             13|        Georgia|       34|        10146|         1014602|           30146|  Albany, GA|       GA|           13|      Georgia|     34|     0.0|                -1.0| 1000-1059|   18.0|   1050.0|  1124.0|   2.0|      1136|   -10.0|     0.0|              -1.0| 1100-1159|            1|               0.0|\n",
      "|2018-01-07|Endeavor Air Inc.|   ATL| ABY|    false|   false|      1037| 1034.0|            0.0|    -3.0| 1124.0|            0.0|   29.0|          60.0|             50.0|   145.0|2018|      1|    1|         7|        7|                       DL|                           DL_CODESHARE|                   19790|                         DL|                           3298|               9E|                   20363|                         9E|     N8980A|                           3298|          10397|           1039707|             30397|   Atlanta, GA|         GA|             13|        Georgia|       34|        10146|         1014602|           30146|  Albany, GA|       GA|           13|      Georgia|     34|     0.0|                -1.0| 1000-1059|   18.0|   1052.0|  1121.0|   3.0|      1137|   -13.0|     0.0|              -1.0| 1100-1159|            1|               0.0|\n",
      "|2018-01-08|Endeavor Air Inc.|   ATL| ABY|    false|   false|      1037| 1059.0|           22.0|    22.0| 1153.0|           16.0|   32.0|          60.0|             54.0|   145.0|2018|      1|    1|         8|        1|                       DL|                           DL_CODESHARE|                   19790|                         DL|                           3298|               9E|                   20363|                         9E|     N8847A|                           3298|          10397|           1039707|             30397|   Atlanta, GA|         GA|             13|        Georgia|       34|        10146|         1014602|           30146|  Albany, GA|       GA|           13|      Georgia|     34|     1.0|                 1.0| 1000-1059|   18.0|   1117.0|  1149.0|   4.0|      1137|    16.0|     1.0|               1.0| 1100-1159|            1|               0.0|\n",
      "|2018-01-09|Endeavor Air Inc.|   ATL| ABY|    false|   false|      1037| 1222.0|          105.0|   105.0| 1322.0|          105.0|   37.0|          60.0|             60.0|   145.0|2018|      1|    1|         9|        2|                       DL|                           DL_CODESHARE|                   19790|                         DL|                           3298|               9E|                   20363|                         9E|     N304PQ|                           3298|          10397|           1039707|             30397|   Atlanta, GA|         GA|             13|        Georgia|       34|        10146|         1014602|           30146|  Albany, GA|       GA|           13|      Georgia|     34|     1.0|                 7.0| 1000-1059|   20.0|   1242.0|  1319.0|   3.0|      1137|   105.0|     1.0|               7.0| 1100-1159|            1|               0.0|\n",
      "|2018-01-10|Endeavor Air Inc.|   ATL| ABY|    false|   false|      1037| 1027.0|            0.0|   -10.0| 1126.0|            0.0|   37.0|          60.0|             59.0|   145.0|2018|      1|    1|        10|        3|                       DL|                           DL_CODESHARE|                   19790|                         DL|                           3298|               9E|                   20363|                         9E|     N8836A|                           3298|          10397|           1039707|             30397|   Atlanta, GA|         GA|             13|        Georgia|       34|        10146|         1014602|           30146|  Albany, GA|       GA|           13|      Georgia|     34|     0.0|                -1.0| 1000-1059|   19.0|   1046.0|  1123.0|   3.0|      1137|   -11.0|     0.0|              -1.0| 1100-1159|            1|               0.0|\n",
      "|2018-01-11|Endeavor Air Inc.|   ATL| ABY|    false|   false|      1037| 1033.0|            0.0|    -4.0| 1145.0|            8.0|   38.0|          60.0|             72.0|   145.0|2018|      1|    1|        11|        4|                       DL|                           DL_CODESHARE|                   19790|                         DL|                           3298|               9E|                   20363|                         9E|     N8888D|                           3298|          10397|           1039707|             30397|   Atlanta, GA|         GA|             13|        Georgia|       34|        10146|         1014602|           30146|  Albany, GA|       GA|           13|      Georgia|     34|     0.0|                -1.0| 1000-1059|   31.0|   1104.0|  1142.0|   3.0|      1137|     8.0|     0.0|               0.0| 1100-1159|            1|               0.0|\n",
      "|2018-01-12|Endeavor Air Inc.|   ATL| ABY|    false|   false|      1037| 1044.0|            7.0|     7.0| 1138.0|            1.0|   35.0|          60.0|             54.0|   145.0|2018|      1|    1|        12|        5|                       DL|                           DL_CODESHARE|                   19790|                         DL|                           3298|               9E|                   20363|                         9E|     N832AY|                           3298|          10397|           1039707|             30397|   Atlanta, GA|         GA|             13|        Georgia|       34|        10146|         1014602|           30146|  Albany, GA|       GA|           13|      Georgia|     34|     0.0|                 0.0| 1000-1059|   16.0|   1100.0|  1135.0|   3.0|      1137|     1.0|     0.0|               0.0| 1100-1159|            1|               0.0|\n",
      "|2018-01-13|Endeavor Air Inc.|   ATL| ABY|    false|   false|      1037| 1034.0|            0.0|    -3.0| 1126.0|            0.0|   34.0|          59.0|             52.0|   145.0|2018|      1|    1|        13|        6|                       DL|                           DL_CODESHARE|                   19790|                         DL|                           3298|               9E|                   20363|                         9E|     N8976E|                           3298|          10397|           1039707|             30397|   Atlanta, GA|         GA|             13|        Georgia|       34|        10146|         1014602|           30146|  Albany, GA|       GA|           13|      Georgia|     34|     0.0|                -1.0| 1000-1059|   16.0|   1050.0|  1124.0|   2.0|      1136|   -10.0|     0.0|              -1.0| 1100-1159|            1|               0.0|\n",
      "+----------+-----------------+------+----+---------+--------+----------+-------+---------------+--------+-------+---------------+-------+--------------+-----------------+--------+----+-------+-----+----------+---------+-------------------------+---------------------------------------+------------------------+---------------------------+-------------------------------+-----------------+------------------------+---------------------------+-----------+-------------------------------+---------------+------------------+------------------+--------------+-----------+---------------+---------------+---------+-------------+----------------+----------------+------------+---------+-------------+-------------+-------+--------+--------------------+----------+-------+---------+--------+------+----------+--------+--------+------------------+----------+-------------+------------------+\n",
      "only showing top 20 rows\n",
      "\n"
     ]
    },
    {
     "data": {
      "text/plain": [
       "29193782"
      ]
     },
     "execution_count": 4,
     "metadata": {},
     "output_type": "execute_result"
    }
   ],
   "source": [
    "dados.printSchema()\n",
    "dados.show()\n",
    "dados.count()"
   ]
  },
  {
   "cell_type": "markdown",
   "metadata": {},
   "source": [
    "-----\n",
    "# Data Cleaning"
   ]
  },
  {
   "cell_type": "markdown",
   "metadata": {},
   "source": [
    "## 1.Removing duplicates if any"
   ]
  },
  {
   "cell_type": "code",
   "execution_count": null,
   "metadata": {},
   "outputs": [],
   "source": [
    "# apagar o Year|Quarter|Month|DayofMonth \n",
    "# substituir os OriginCityName|OriginState|OriginStateName|OriginStateFips num só\n",
    "# DestCityName|DestState|DestStateNam|DestStateFips mesmo que em cima\n",
    "# tirar o OriginCityMarketID que ja temos a cidade \n",
    "# tirar OriginAirportID|OriginAirportSeqID que ja temos o nome do aeroporto \n",
    "# igual para estes DestAirportID|DestAirportSeqID|DestCityMarketID \n",
    "# Marketing_Airline_Network IATA_Code_Marketing_Airline iguais\n",
    "# Operating_Airline IATA_Code_Operating_Airline iguais\n",
    "# Flight_Number_Marketing_Airline Flight_Number_Operating_Airline iguais\n",
    "# apagar DepDelayMinutes e DepDel15 e arranjar o DepDelay | fazer o mesmo para ArrDelay ArrDelayMinutes ArrDel15"
   ]
  },
  {
   "cell_type": "code",
   "execution_count": 5,
   "metadata": {},
   "outputs": [],
   "source": [
    "cols_to_dismiss = ['DestAirportID','DestAirportSeqID','DestCityMarketID','OriginAirportID','OriginAirportSeqID'\n",
    "                   ,'OriginCityMarketID','Year','Quarter','Month','DayofMonth','Marketing_Airline_Network'\n",
    "                   ,'Operating_Airline','Flight_Number_Marketing_Airline','ArrDelayMinutes','DepDelayMinutes'\n",
    "                   ,'DepDel15','ArrDel15','DepTimeBlk','ArrTimeBlk']\n",
    "dados = dados.drop(*cols_to_dismiss)"
   ]
  },
  {
   "cell_type": "code",
   "execution_count": 6,
   "metadata": {},
   "outputs": [],
   "source": [
    "dados = dados.withColumn('OriginCityNameState',\n",
    "                          F.concat_ws(\n",
    "                              ',',\n",
    "                                F.split(F.col('OriginCityName'),',')[0],\n",
    "                                F.col(\"OriginStateName\")\n",
    "    ))\n",
    "#dados.show()"
   ]
  },
  {
   "cell_type": "code",
   "execution_count": 7,
   "metadata": {},
   "outputs": [],
   "source": [
    "dados = dados.withColumn('DestCityNameState',\n",
    "                          F.concat_ws(\n",
    "                              ',',\n",
    "                                F.split(F.col('DestCityName'),',')[0],\n",
    "                                F.col(\"DestStateName\")\n",
    "    ))\n",
    "#dados.show()"
   ]
  },
  {
   "cell_type": "code",
   "execution_count": 8,
   "metadata": {},
   "outputs": [],
   "source": [
    "cols_to_dismiss = [\"OriginCityName\",\"OriginState\",\"OriginStateName\",\"OriginStateFips\",\"DestCityName\",\"DestState\",\"DestStateName\",\"DestStateFips\"]\n",
    "dados = dados.drop(*cols_to_dismiss)"
   ]
  },
  {
   "cell_type": "code",
   "execution_count": 9,
   "metadata": {},
   "outputs": [],
   "source": [
    "dados = dados.withColumn(\"DepDelay\",F.col(\"DepTime\") - F.col(\"CRSDepTime\"))\n",
    "\n",
    "dados = dados.withColumn(\"ArrDelay\",F.col(\"ArrTime\") - F.col(\"CRSArrTime\"))\n",
    "# dados.select(\"ArrTime\",\"CRSArrTime\",\"ArrDelay\",\"DepDelay\",\"DepTime\",\"CRSDepTime\").show()"
   ]
  },
  {
   "cell_type": "code",
   "execution_count": null,
   "metadata": {},
   "outputs": [],
   "source": [
    "# Checking first: use dropDuplicates() and count()\n",
    "print(f'Dados: number of rows: {dados.count()}, after dropduplicates: {dados.dropDuplicates().count() }')"
   ]
  },
  {
   "cell_type": "markdown",
   "metadata": {},
   "source": [
    "## 2.Handling missing values"
   ]
  },
  {
   "cell_type": "code",
   "execution_count": null,
   "metadata": {},
   "outputs": [],
   "source": [
    "# Ver em que colunas estão os nulos (by columns)\n",
    "#{col: dados.filter(dados[col].isNull()).count() for col in dados.columns}\n",
    "\n",
    "\n",
    "# valores corridos ao dataset todo sem fazer nada aos nulls\n",
    "\"\"\"\n",
    "{'FlightDate': 0,\n",
    " 'Airline': 0,\n",
    " 'Origin': 0,\n",
    " 'Dest': 0,\n",
    " 'Cancelled': 0,\n",
    " 'Diverted': 0,\n",
    " 'CRSDepTime': 0,\n",
    " 'DepTime': 761652,\n",
    " 'DepDelayMinutes': 763084,\n",
    " 'DepDelay': 763084,\n",
    " 'ArrTime': 786177,\n",
    " 'ArrDelayMinutes': 846183,\n",
    " 'AirTime': 852561,\n",
    " 'CRSElapsedTime': 22,\n",
    " 'ActualElapsedTime': 845637,\n",
    " 'Distance': 0,\n",
    " 'DayOfWeek': 0,\n",
    " 'Operated_or_Branded_Code_Share_Partners': 0,\n",
    " 'DOT_ID_Marketing_Airline': 0,\n",
    " 'IATA_Code_Marketing_Airline': 0,\n",
    " 'DOT_ID_Operating_Airline': 0,\n",
    " 'IATA_Code_Operating_Airline': 0,\n",
    " 'Tail_Number': 267613,\n",
    " 'Flight_Number_Operating_Airline': 0,\n",
    " 'OriginWac': 0,\n",
    " 'DestStateName': 0,\n",
    " 'DestWac': 0,\n",
    " 'DepDel15': 763084,\n",
    " 'DepartureDelayGroups': 763084,\n",
    " 'DepTimeBlk': 0,\n",
    " 'TaxiOut': 780561,\n",
    " 'WheelsOff': 780551,\n",
    " 'WheelsOn': 793133,\n",
    " 'TaxiIn': 793143,\n",
    " 'CRSArrTime': 0,\n",
    " 'ArrDelay': 846183,\n",
    " 'ArrDel15': 846183,\n",
    " 'ArrivalDelayGroups': 846183,\n",
    " 'ArrTimeBlk': 0,\n",
    " 'DistanceGroup': 0,\n",
    " 'DivAirportLandings': 90,\n",
    " 'OriginCityNameState': 0,\n",
    " 'DestCityNameState': 0}\"\"\"\n"
   ]
  },
  {
   "cell_type": "code",
   "execution_count": 10,
   "metadata": {},
   "outputs": [],
   "source": [
    "# remover nulls\n",
    "dados = dados.dropna(how='any')"
   ]
  },
  {
   "cell_type": "code",
   "execution_count": 11,
   "metadata": {},
   "outputs": [
    {
     "name": "stdout",
     "output_type": "stream",
     "text": [
      "root\n",
      " |-- FlightDate: date (nullable = true)\n",
      " |-- Airline: string (nullable = true)\n",
      " |-- Origin: string (nullable = true)\n",
      " |-- Dest: string (nullable = true)\n",
      " |-- Cancelled: boolean (nullable = true)\n",
      " |-- Diverted: boolean (nullable = true)\n",
      " |-- CRSDepTime: integer (nullable = true)\n",
      " |-- DepTime: double (nullable = true)\n",
      " |-- DepDelay: double (nullable = true)\n",
      " |-- ArrTime: double (nullable = true)\n",
      " |-- AirTime: double (nullable = true)\n",
      " |-- CRSElapsedTime: double (nullable = true)\n",
      " |-- ActualElapsedTime: double (nullable = true)\n",
      " |-- Distance: double (nullable = true)\n",
      " |-- DayOfWeek: integer (nullable = true)\n",
      " |-- Operated_or_Branded_Code_Share_Partners: string (nullable = true)\n",
      " |-- DOT_ID_Marketing_Airline: integer (nullable = true)\n",
      " |-- IATA_Code_Marketing_Airline: string (nullable = true)\n",
      " |-- DOT_ID_Operating_Airline: integer (nullable = true)\n",
      " |-- IATA_Code_Operating_Airline: string (nullable = true)\n",
      " |-- Tail_Number: string (nullable = true)\n",
      " |-- Flight_Number_Operating_Airline: integer (nullable = true)\n",
      " |-- OriginWac: integer (nullable = true)\n",
      " |-- DestWac: integer (nullable = true)\n",
      " |-- DepartureDelayGroups: double (nullable = true)\n",
      " |-- TaxiOut: double (nullable = true)\n",
      " |-- WheelsOff: double (nullable = true)\n",
      " |-- WheelsOn: double (nullable = true)\n",
      " |-- TaxiIn: double (nullable = true)\n",
      " |-- CRSArrTime: integer (nullable = true)\n",
      " |-- ArrDelay: double (nullable = true)\n",
      " |-- ArrivalDelayGroups: double (nullable = true)\n",
      " |-- DistanceGroup: integer (nullable = true)\n",
      " |-- DivAirportLandings: double (nullable = true)\n",
      " |-- OriginCityNameState: string (nullable = false)\n",
      " |-- DestCityNameState: string (nullable = false)\n",
      "\n",
      "+----------+-----------------+------+----+---------+--------+----------+-------+--------+-------+-------+--------------+-----------------+--------+---------+---------------------------------------+------------------------+---------------------------+------------------------+---------------------------+-----------+-------------------------------+---------+-------+--------------------+-------+---------+--------+------+----------+--------+------------------+-------------+------------------+-------------------+-----------------+\n",
      "|FlightDate|          Airline|Origin|Dest|Cancelled|Diverted|CRSDepTime|DepTime|DepDelay|ArrTime|AirTime|CRSElapsedTime|ActualElapsedTime|Distance|DayOfWeek|Operated_or_Branded_Code_Share_Partners|DOT_ID_Marketing_Airline|IATA_Code_Marketing_Airline|DOT_ID_Operating_Airline|IATA_Code_Operating_Airline|Tail_Number|Flight_Number_Operating_Airline|OriginWac|DestWac|DepartureDelayGroups|TaxiOut|WheelsOff|WheelsOn|TaxiIn|CRSArrTime|ArrDelay|ArrivalDelayGroups|DistanceGroup|DivAirportLandings|OriginCityNameState|DestCityNameState|\n",
      "+----------+-----------------+------+----+---------+--------+----------+-------+--------+-------+-------+--------------+-----------------+--------+---------+---------------------------------------+------------------------+---------------------------+------------------------+---------------------------+-----------+-------------------------------+---------+-------+--------------------+-------+---------+--------+------+----------+--------+------------------+-------------+------------------+-------------------+-----------------+\n",
      "|2018-01-23|Endeavor Air Inc.|   ABY| ATL|    false|   false|      1202| 1157.0|   -45.0| 1256.0|   38.0|          62.0|             59.0|   145.0|        2|                           DL_CODESHARE|                   19790|                         DL|                   20363|                         9E|     N8928A|                           3298|       34|     34|                -1.0|   14.0|   1211.0|  1249.0|   7.0|      1304|   -48.0|              -1.0|            1|               0.0|     Albany,Georgia|  Atlanta,Georgia|\n",
      "|2018-01-24|Endeavor Air Inc.|   ABY| ATL|    false|   false|      1202| 1157.0|   -45.0| 1258.0|   36.0|          62.0|             61.0|   145.0|        3|                           DL_CODESHARE|                   19790|                         DL|                   20363|                         9E|     N800AY|                           3298|       34|     34|                -1.0|   13.0|   1210.0|  1246.0|  12.0|      1304|   -46.0|              -1.0|            1|               0.0|     Albany,Georgia|  Atlanta,Georgia|\n",
      "|2018-01-25|Endeavor Air Inc.|   ABY| ATL|    false|   false|      1202| 1153.0|   -49.0| 1302.0|   40.0|          62.0|             69.0|   145.0|        4|                           DL_CODESHARE|                   19790|                         DL|                   20363|                         9E|     N8836A|                           3298|       34|     34|                -1.0|   18.0|   1211.0|  1251.0|  11.0|      1304|    -2.0|              -1.0|            1|               0.0|     Albany,Georgia|  Atlanta,Georgia|\n",
      "|2018-01-26|Endeavor Air Inc.|   ABY| ATL|    false|   false|      1202| 1150.0|   -52.0| 1253.0|   35.0|          62.0|             63.0|   145.0|        5|                           DL_CODESHARE|                   19790|                         DL|                   20363|                         9E|     N800AY|                           3298|       34|     34|                -1.0|   17.0|   1207.0|  1242.0|  11.0|      1304|   -51.0|              -1.0|            1|               0.0|     Albany,Georgia|  Atlanta,Georgia|\n",
      "|2018-01-27|Endeavor Air Inc.|   ABY| ATL|    false|   false|      1400| 1355.0|   -45.0| 1459.0|   36.0|          60.0|             64.0|   145.0|        6|                           DL_CODESHARE|                   19790|                         DL|                   20363|                         9E|     N8839E|                           3298|       34|     34|                -1.0|   17.0|   1412.0|  1448.0|  11.0|      1500|   -41.0|              -1.0|            1|               0.0|     Albany,Georgia|  Atlanta,Georgia|\n",
      "|2018-01-29|Endeavor Air Inc.|   ABY| ATL|    false|   false|      1202| 1204.0|     2.0| 1303.0|   34.0|          62.0|             59.0|   145.0|        1|                           DL_CODESHARE|                   19790|                         DL|                   20363|                         9E|     N8783E|                           3298|       34|     34|                 0.0|   15.0|   1219.0|  1253.0|  10.0|      1304|    -1.0|              -1.0|            1|               0.0|     Albany,Georgia|  Atlanta,Georgia|\n",
      "|2018-01-30|Endeavor Air Inc.|   ABY| ATL|    false|   false|      1202| 1153.0|   -49.0| 1255.0|   44.0|          62.0|             62.0|   145.0|        2|                           DL_CODESHARE|                   19790|                         DL|                   20363|                         9E|     N8946A|                           3298|       34|     34|                -1.0|    7.0|   1200.0|  1244.0|  11.0|      1304|   -49.0|              -1.0|            1|               0.0|     Albany,Georgia|  Atlanta,Georgia|\n",
      "|2018-01-03|Endeavor Air Inc.|   ATL| ABY|    false|   false|      1037| 1101.0|    64.0| 1159.0|   32.0|          60.0|             58.0|   145.0|        3|                           DL_CODESHARE|                   19790|                         DL|                   20363|                         9E|     N981EV|                           3298|       34|     34|                 1.0|   23.0|   1124.0|  1156.0|   3.0|      1137|    22.0|               1.0|            1|               0.0|    Atlanta,Georgia|   Albany,Georgia|\n",
      "|2018-01-04|Endeavor Air Inc.|   ATL| ABY|    false|   false|      1037| 1032.0|    -5.0| 1125.0|   27.0|          60.0|             53.0|   145.0|        4|                           DL_CODESHARE|                   19790|                         DL|                   20363|                         9E|     N981EV|                           3298|       34|     34|                -1.0|   23.0|   1055.0|  1122.0|   3.0|      1137|   -12.0|              -1.0|            1|               0.0|    Atlanta,Georgia|   Albany,Georgia|\n",
      "|2018-01-05|Endeavor Air Inc.|   ATL| ABY|    false|   false|      1037| 1032.0|    -5.0| 1124.0|   29.0|          60.0|             52.0|   145.0|        5|                           DL_CODESHARE|                   19790|                         DL|                   20363|                         9E|     N8877A|                           3298|       34|     34|                -1.0|   20.0|   1052.0|  1121.0|   3.0|      1137|   -13.0|              -1.0|            1|               0.0|    Atlanta,Georgia|   Albany,Georgia|\n",
      "|2018-01-06|Endeavor Air Inc.|   ATL| ABY|    false|   false|      1037| 1032.0|    -5.0| 1126.0|   34.0|          59.0|             54.0|   145.0|        6|                           DL_CODESHARE|                   19790|                         DL|                   20363|                         9E|     N8970D|                           3298|       34|     34|                -1.0|   18.0|   1050.0|  1124.0|   2.0|      1136|   -10.0|              -1.0|            1|               0.0|    Atlanta,Georgia|   Albany,Georgia|\n",
      "|2018-01-07|Endeavor Air Inc.|   ATL| ABY|    false|   false|      1037| 1034.0|    -3.0| 1124.0|   29.0|          60.0|             50.0|   145.0|        7|                           DL_CODESHARE|                   19790|                         DL|                   20363|                         9E|     N8980A|                           3298|       34|     34|                -1.0|   18.0|   1052.0|  1121.0|   3.0|      1137|   -13.0|              -1.0|            1|               0.0|    Atlanta,Georgia|   Albany,Georgia|\n",
      "|2018-01-08|Endeavor Air Inc.|   ATL| ABY|    false|   false|      1037| 1059.0|    22.0| 1153.0|   32.0|          60.0|             54.0|   145.0|        1|                           DL_CODESHARE|                   19790|                         DL|                   20363|                         9E|     N8847A|                           3298|       34|     34|                 1.0|   18.0|   1117.0|  1149.0|   4.0|      1137|    16.0|               1.0|            1|               0.0|    Atlanta,Georgia|   Albany,Georgia|\n",
      "|2018-01-09|Endeavor Air Inc.|   ATL| ABY|    false|   false|      1037| 1222.0|   185.0| 1322.0|   37.0|          60.0|             60.0|   145.0|        2|                           DL_CODESHARE|                   19790|                         DL|                   20363|                         9E|     N304PQ|                           3298|       34|     34|                 7.0|   20.0|   1242.0|  1319.0|   3.0|      1137|   185.0|               7.0|            1|               0.0|    Atlanta,Georgia|   Albany,Georgia|\n",
      "|2018-01-10|Endeavor Air Inc.|   ATL| ABY|    false|   false|      1037| 1027.0|   -10.0| 1126.0|   37.0|          60.0|             59.0|   145.0|        3|                           DL_CODESHARE|                   19790|                         DL|                   20363|                         9E|     N8836A|                           3298|       34|     34|                -1.0|   19.0|   1046.0|  1123.0|   3.0|      1137|   -11.0|              -1.0|            1|               0.0|    Atlanta,Georgia|   Albany,Georgia|\n",
      "|2018-01-11|Endeavor Air Inc.|   ATL| ABY|    false|   false|      1037| 1033.0|    -4.0| 1145.0|   38.0|          60.0|             72.0|   145.0|        4|                           DL_CODESHARE|                   19790|                         DL|                   20363|                         9E|     N8888D|                           3298|       34|     34|                -1.0|   31.0|   1104.0|  1142.0|   3.0|      1137|     8.0|               0.0|            1|               0.0|    Atlanta,Georgia|   Albany,Georgia|\n",
      "|2018-01-12|Endeavor Air Inc.|   ATL| ABY|    false|   false|      1037| 1044.0|     7.0| 1138.0|   35.0|          60.0|             54.0|   145.0|        5|                           DL_CODESHARE|                   19790|                         DL|                   20363|                         9E|     N832AY|                           3298|       34|     34|                 0.0|   16.0|   1100.0|  1135.0|   3.0|      1137|     1.0|               0.0|            1|               0.0|    Atlanta,Georgia|   Albany,Georgia|\n",
      "|2018-01-13|Endeavor Air Inc.|   ATL| ABY|    false|   false|      1037| 1034.0|    -3.0| 1126.0|   34.0|          59.0|             52.0|   145.0|        6|                           DL_CODESHARE|                   19790|                         DL|                   20363|                         9E|     N8976E|                           3298|       34|     34|                -1.0|   16.0|   1050.0|  1124.0|   2.0|      1136|   -10.0|              -1.0|            1|               0.0|    Atlanta,Georgia|   Albany,Georgia|\n",
      "|2018-01-14|Endeavor Air Inc.|   ATL| ABY|    false|   false|      1037| 1031.0|    -6.0| 1120.0|   30.0|          60.0|             49.0|   145.0|        7|                           DL_CODESHARE|                   19790|                         DL|                   20363|                         9E|     N836AY|                           3298|       34|     34|                -1.0|   16.0|   1047.0|  1117.0|   3.0|      1137|   -17.0|              -2.0|            1|               0.0|    Atlanta,Georgia|   Albany,Georgia|\n",
      "|2018-01-15|Endeavor Air Inc.|   ATL| ABY|    false|   false|      1037| 1030.0|    -7.0| 1123.0|   30.0|          60.0|             53.0|   145.0|        1|                           DL_CODESHARE|                   19790|                         DL|                   20363|                         9E|     N819AY|                           3298|       34|     34|                -1.0|   20.0|   1050.0|  1120.0|   3.0|      1137|   -14.0|              -1.0|            1|               0.0|    Atlanta,Georgia|   Albany,Georgia|\n",
      "+----------+-----------------+------+----+---------+--------+----------+-------+--------+-------+-------+--------------+-----------------+--------+---------+---------------------------------------+------------------------+---------------------------+------------------------+---------------------------+-----------+-------------------------------+---------+-------+--------------------+-------+---------+--------+------+----------+--------+------------------+-------------+------------------+-------------------+-----------------+\n",
      "only showing top 20 rows\n",
      "\n"
     ]
    },
    {
     "data": {
      "text/plain": [
       "28339510"
      ]
     },
     "execution_count": 11,
     "metadata": {},
     "output_type": "execute_result"
    }
   ],
   "source": [
    "dados.printSchema()\n",
    "dados.show()\n",
    "dados.count()"
   ]
  },
  {
   "cell_type": "markdown",
   "metadata": {},
   "source": [
    "-----\n",
    "# Data transformation"
   ]
  },
  {
   "cell_type": "code",
   "execution_count": null,
   "metadata": {},
   "outputs": [],
   "source": []
  }
 ],
 "metadata": {
  "kernelspec": {
   "display_name": "vscode_pyspark",
   "language": "python",
   "name": "python3"
  },
  "language_info": {
   "codemirror_mode": {
    "name": "ipython",
    "version": 3
   },
   "file_extension": ".py",
   "mimetype": "text/x-python",
   "name": "python",
   "nbconvert_exporter": "python",
   "pygments_lexer": "ipython3",
   "version": "3.11.11"
  }
 },
 "nbformat": 4,
 "nbformat_minor": 2
}
