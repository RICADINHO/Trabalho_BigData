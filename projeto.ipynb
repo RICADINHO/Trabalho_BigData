{
 "cells": [
  {
   "cell_type": "markdown",
   "metadata": {},
   "source": [
    "---\n",
    "# Imports"
   ]
  },
  {
   "cell_type": "code",
   "execution_count": 6,
   "metadata": {},
   "outputs": [],
   "source": [
    "import pyspark \n",
    "from pyspark.sql import SparkSession\n",
    "import pyspark.sql.functions as F"
   ]
  },
  {
   "cell_type": "code",
   "execution_count": 7,
   "metadata": {},
   "outputs": [],
   "source": [
    "spark = SparkSession.builder.appName(\"ProjetoABD\").getOrCreate()"
   ]
  },
  {
   "cell_type": "code",
   "execution_count": 8,
   "metadata": {},
   "outputs": [
    {
     "name": "stdout",
     "output_type": "stream",
     "text": [
      "Path to dataset files: /home/jovyan/.cache/kagglehub/datasets/robikscube/flight-delay-dataset-20182022/versions/4\n"
     ]
    }
   ],
   "source": [
    "# Download da versão original do dataset\n",
    "import kagglehub\n",
    "path = kagglehub.dataset_download(\"robikscube/flight-delay-dataset-20182022\")\n",
    "print(\"Path to dataset files:\", path)"
   ]
  },
  {
   "cell_type": "code",
   "execution_count": 9,
   "metadata": {},
   "outputs": [
    {
     "name": "stderr",
     "output_type": "stream",
     "text": [
      "ERROR:root:KeyboardInterrupt while sending command.\n",
      "Traceback (most recent call last):\n",
      "  File \"/opt/conda/envs/vscode_pyspark/lib/python3.11/site-packages/py4j/java_gateway.py\", line 1038, in send_command\n",
      "    response = connection.send_command(command)\n",
      "               ^^^^^^^^^^^^^^^^^^^^^^^^^^^^^^^^\n",
      "  File \"/opt/conda/envs/vscode_pyspark/lib/python3.11/site-packages/py4j/clientserver.py\", line 511, in send_command\n",
      "    answer = smart_decode(self.stream.readline()[:-1])\n",
      "                          ^^^^^^^^^^^^^^^^^^^^^^\n",
      "  File \"/opt/conda/envs/vscode_pyspark/lib/python3.11/socket.py\", line 718, in readinto\n",
      "    return self._sock.recv_into(b)\n",
      "           ^^^^^^^^^^^^^^^^^^^^^^^\n",
      "KeyboardInterrupt\n"
     ]
    },
    {
     "ename": "KeyboardInterrupt",
     "evalue": "",
     "output_type": "error",
     "traceback": [
      "\u001b[0;31m---------------------------------------------------------------------------\u001b[0m",
      "\u001b[0;31mKeyboardInterrupt\u001b[0m                         Traceback (most recent call last)",
      "Cell \u001b[0;32mIn[9], line 2\u001b[0m\n\u001b[1;32m      1\u001b[0m path\u001b[38;5;241m=\u001b[39m\u001b[38;5;124m'\u001b[39m\u001b[38;5;124m/home/jovyan/.cache/kagglehub/datasets/robikscube/flight-delay-dataset-20182022/versions/4\u001b[39m\u001b[38;5;124m'\u001b[39m\n\u001b[0;32m----> 2\u001b[0m mydata \u001b[38;5;241m=\u001b[39m \u001b[43mspark\u001b[49m\u001b[38;5;241;43m.\u001b[39;49m\u001b[43mread\u001b[49m\u001b[38;5;241;43m.\u001b[39;49m\u001b[43mload\u001b[49m\u001b[43m(\u001b[49m\u001b[43mpath\u001b[49m\u001b[43m,\u001b[49m\u001b[38;5;28;43mformat\u001b[39;49m\u001b[38;5;241;43m=\u001b[39;49m\u001b[38;5;124;43m'\u001b[39;49m\u001b[38;5;124;43mcsv\u001b[39;49m\u001b[38;5;124;43m'\u001b[39;49m\u001b[43m,\u001b[49m\u001b[43msep\u001b[49m\u001b[38;5;241;43m=\u001b[39;49m\u001b[38;5;124;43m'\u001b[39;49m\u001b[38;5;124;43m,\u001b[39;49m\u001b[38;5;124;43m'\u001b[39;49m\u001b[43m,\u001b[49m\u001b[43minferSchema\u001b[49m\u001b[38;5;241;43m=\u001b[39;49m\u001b[38;5;28;43;01mTrue\u001b[39;49;00m\u001b[43m,\u001b[49m\u001b[43m \u001b[49m\u001b[43mheader\u001b[49m\u001b[38;5;241;43m=\u001b[39;49m\u001b[38;5;28;43;01mTrue\u001b[39;49;00m\u001b[43m)\u001b[49m\n",
      "File \u001b[0;32m/opt/conda/envs/vscode_pyspark/lib/python3.11/site-packages/pyspark/sql/readwriter.py:307\u001b[0m, in \u001b[0;36mDataFrameReader.load\u001b[0;34m(self, path, format, schema, **options)\u001b[0m\n\u001b[1;32m    305\u001b[0m \u001b[38;5;28mself\u001b[39m\u001b[38;5;241m.\u001b[39moptions(\u001b[38;5;241m*\u001b[39m\u001b[38;5;241m*\u001b[39moptions)\n\u001b[1;32m    306\u001b[0m \u001b[38;5;28;01mif\u001b[39;00m \u001b[38;5;28misinstance\u001b[39m(path, \u001b[38;5;28mstr\u001b[39m):\n\u001b[0;32m--> 307\u001b[0m     \u001b[38;5;28;01mreturn\u001b[39;00m \u001b[38;5;28mself\u001b[39m\u001b[38;5;241m.\u001b[39m_df(\u001b[38;5;28;43mself\u001b[39;49m\u001b[38;5;241;43m.\u001b[39;49m\u001b[43m_jreader\u001b[49m\u001b[38;5;241;43m.\u001b[39;49m\u001b[43mload\u001b[49m\u001b[43m(\u001b[49m\u001b[43mpath\u001b[49m\u001b[43m)\u001b[49m)\n\u001b[1;32m    308\u001b[0m \u001b[38;5;28;01melif\u001b[39;00m path \u001b[38;5;129;01mis\u001b[39;00m \u001b[38;5;129;01mnot\u001b[39;00m \u001b[38;5;28;01mNone\u001b[39;00m:\n\u001b[1;32m    309\u001b[0m     \u001b[38;5;28;01mif\u001b[39;00m \u001b[38;5;28mtype\u001b[39m(path) \u001b[38;5;241m!=\u001b[39m \u001b[38;5;28mlist\u001b[39m:\n",
      "File \u001b[0;32m/opt/conda/envs/vscode_pyspark/lib/python3.11/site-packages/py4j/java_gateway.py:1321\u001b[0m, in \u001b[0;36mJavaMember.__call__\u001b[0;34m(self, *args)\u001b[0m\n\u001b[1;32m   1314\u001b[0m args_command, temp_args \u001b[38;5;241m=\u001b[39m \u001b[38;5;28mself\u001b[39m\u001b[38;5;241m.\u001b[39m_build_args(\u001b[38;5;241m*\u001b[39margs)\n\u001b[1;32m   1316\u001b[0m command \u001b[38;5;241m=\u001b[39m proto\u001b[38;5;241m.\u001b[39mCALL_COMMAND_NAME \u001b[38;5;241m+\u001b[39m\\\n\u001b[1;32m   1317\u001b[0m     \u001b[38;5;28mself\u001b[39m\u001b[38;5;241m.\u001b[39mcommand_header \u001b[38;5;241m+\u001b[39m\\\n\u001b[1;32m   1318\u001b[0m     args_command \u001b[38;5;241m+\u001b[39m\\\n\u001b[1;32m   1319\u001b[0m     proto\u001b[38;5;241m.\u001b[39mEND_COMMAND_PART\n\u001b[0;32m-> 1321\u001b[0m answer \u001b[38;5;241m=\u001b[39m \u001b[38;5;28;43mself\u001b[39;49m\u001b[38;5;241;43m.\u001b[39;49m\u001b[43mgateway_client\u001b[49m\u001b[38;5;241;43m.\u001b[39;49m\u001b[43msend_command\u001b[49m\u001b[43m(\u001b[49m\u001b[43mcommand\u001b[49m\u001b[43m)\u001b[49m\n\u001b[1;32m   1322\u001b[0m return_value \u001b[38;5;241m=\u001b[39m get_return_value(\n\u001b[1;32m   1323\u001b[0m     answer, \u001b[38;5;28mself\u001b[39m\u001b[38;5;241m.\u001b[39mgateway_client, \u001b[38;5;28mself\u001b[39m\u001b[38;5;241m.\u001b[39mtarget_id, \u001b[38;5;28mself\u001b[39m\u001b[38;5;241m.\u001b[39mname)\n\u001b[1;32m   1325\u001b[0m \u001b[38;5;28;01mfor\u001b[39;00m temp_arg \u001b[38;5;129;01min\u001b[39;00m temp_args:\n",
      "File \u001b[0;32m/opt/conda/envs/vscode_pyspark/lib/python3.11/site-packages/py4j/java_gateway.py:1038\u001b[0m, in \u001b[0;36mGatewayClient.send_command\u001b[0;34m(self, command, retry, binary)\u001b[0m\n\u001b[1;32m   1036\u001b[0m connection \u001b[38;5;241m=\u001b[39m \u001b[38;5;28mself\u001b[39m\u001b[38;5;241m.\u001b[39m_get_connection()\n\u001b[1;32m   1037\u001b[0m \u001b[38;5;28;01mtry\u001b[39;00m:\n\u001b[0;32m-> 1038\u001b[0m     response \u001b[38;5;241m=\u001b[39m \u001b[43mconnection\u001b[49m\u001b[38;5;241;43m.\u001b[39;49m\u001b[43msend_command\u001b[49m\u001b[43m(\u001b[49m\u001b[43mcommand\u001b[49m\u001b[43m)\u001b[49m\n\u001b[1;32m   1039\u001b[0m     \u001b[38;5;28;01mif\u001b[39;00m binary:\n\u001b[1;32m   1040\u001b[0m         \u001b[38;5;28;01mreturn\u001b[39;00m response, \u001b[38;5;28mself\u001b[39m\u001b[38;5;241m.\u001b[39m_create_connection_guard(connection)\n",
      "File \u001b[0;32m/opt/conda/envs/vscode_pyspark/lib/python3.11/site-packages/py4j/clientserver.py:511\u001b[0m, in \u001b[0;36mClientServerConnection.send_command\u001b[0;34m(self, command)\u001b[0m\n\u001b[1;32m    509\u001b[0m \u001b[38;5;28;01mtry\u001b[39;00m:\n\u001b[1;32m    510\u001b[0m     \u001b[38;5;28;01mwhile\u001b[39;00m \u001b[38;5;28;01mTrue\u001b[39;00m:\n\u001b[0;32m--> 511\u001b[0m         answer \u001b[38;5;241m=\u001b[39m smart_decode(\u001b[38;5;28mself\u001b[39m\u001b[38;5;241m.\u001b[39mstream\u001b[38;5;241m.\u001b[39mreadline()[:\u001b[38;5;241m-\u001b[39m\u001b[38;5;241m1\u001b[39m])\n\u001b[1;32m    512\u001b[0m         logger\u001b[38;5;241m.\u001b[39mdebug(\u001b[38;5;124m\"\u001b[39m\u001b[38;5;124mAnswer received: \u001b[39m\u001b[38;5;132;01m{0}\u001b[39;00m\u001b[38;5;124m\"\u001b[39m\u001b[38;5;241m.\u001b[39mformat(answer))\n\u001b[1;32m    513\u001b[0m         \u001b[38;5;66;03m# Happens when a the other end is dead. There might be an empty\u001b[39;00m\n\u001b[1;32m    514\u001b[0m         \u001b[38;5;66;03m# answer before the socket raises an error.\u001b[39;00m\n",
      "File \u001b[0;32m/opt/conda/envs/vscode_pyspark/lib/python3.11/socket.py:718\u001b[0m, in \u001b[0;36mSocketIO.readinto\u001b[0;34m(self, b)\u001b[0m\n\u001b[1;32m    716\u001b[0m \u001b[38;5;28;01mwhile\u001b[39;00m \u001b[38;5;28;01mTrue\u001b[39;00m:\n\u001b[1;32m    717\u001b[0m     \u001b[38;5;28;01mtry\u001b[39;00m:\n\u001b[0;32m--> 718\u001b[0m         \u001b[38;5;28;01mreturn\u001b[39;00m \u001b[38;5;28;43mself\u001b[39;49m\u001b[38;5;241;43m.\u001b[39;49m\u001b[43m_sock\u001b[49m\u001b[38;5;241;43m.\u001b[39;49m\u001b[43mrecv_into\u001b[49m\u001b[43m(\u001b[49m\u001b[43mb\u001b[49m\u001b[43m)\u001b[49m\n\u001b[1;32m    719\u001b[0m     \u001b[38;5;28;01mexcept\u001b[39;00m timeout:\n\u001b[1;32m    720\u001b[0m         \u001b[38;5;28mself\u001b[39m\u001b[38;5;241m.\u001b[39m_timeout_occurred \u001b[38;5;241m=\u001b[39m \u001b[38;5;28;01mTrue\u001b[39;00m\n",
      "\u001b[0;31mKeyboardInterrupt\u001b[0m: "
     ]
    }
   ],
   "source": [
    "path='/home/jovyan/.cache/kagglehub/datasets/robikscube/flight-delay-dataset-20182022/versions/4'\n",
    "mydata = spark.read.load(path,format='csv',sep=',',inferSchema=True, header=True)"
   ]
  },
  {
   "cell_type": "code",
   "execution_count": null,
   "metadata": {},
   "outputs": [
    {
     "name": "stdout",
     "output_type": "stream",
     "text": [
      "root\n",
      " |-- FlightDate: string (nullable = true)\n",
      " |-- Airline: string (nullable = true)\n",
      " |-- Origin: string (nullable = true)\n",
      " |-- Dest: string (nullable = true)\n",
      " |-- Cancelled: string (nullable = true)\n",
      " |-- Diverted: string (nullable = true)\n",
      " |-- CRSDepTime: string (nullable = true)\n",
      " |-- DepTime: string (nullable = true)\n",
      " |-- DepDelayMinutes: string (nullable = true)\n",
      " |-- DepDelay: string (nullable = true)\n",
      " |-- ArrTime: string (nullable = true)\n",
      " |-- ArrDelayMinutes: string (nullable = true)\n",
      " |-- AirTime: string (nullable = true)\n",
      " |-- CRSElapsedTime: string (nullable = true)\n",
      " |-- ActualElapsedTime: string (nullable = true)\n",
      " |-- Distance: string (nullable = true)\n",
      " |-- Year: string (nullable = true)\n",
      " |-- Quarter: string (nullable = true)\n",
      " |-- Month: string (nullable = true)\n",
      " |-- DayofMonth: string (nullable = true)\n",
      " |-- DayOfWeek: string (nullable = true)\n",
      " |-- Marketing_Airline_Network: string (nullable = true)\n",
      " |-- Operated_or_Branded_Code_Share_Partners: string (nullable = true)\n",
      " |-- DOT_ID_Marketing_Airline: string (nullable = true)\n",
      " |-- IATA_Code_Marketing_Airline: string (nullable = true)\n",
      " |-- Flight_Number_Marketing_Airline: string (nullable = true)\n",
      " |-- Operating_Airline: string (nullable = true)\n",
      " |-- DOT_ID_Operating_Airline: string (nullable = true)\n",
      " |-- IATA_Code_Operating_Airline: string (nullable = true)\n",
      " |-- Tail_Number: string (nullable = true)\n",
      " |-- Flight_Number_Operating_Airline: string (nullable = true)\n",
      " |-- OriginAirportID: string (nullable = true)\n",
      " |-- OriginAirportSeqID: string (nullable = true)\n",
      " |-- OriginCityMarketID: string (nullable = true)\n",
      " |-- OriginCityName: string (nullable = true)\n",
      " |-- OriginState: string (nullable = true)\n",
      " |-- OriginStateFips: string (nullable = true)\n",
      " |-- OriginStateName: string (nullable = true)\n",
      " |-- OriginWac: string (nullable = true)\n",
      " |-- DestAirportID: string (nullable = true)\n",
      " |-- DestAirportSeqID: string (nullable = true)\n",
      " |-- DestCityMarketID: string (nullable = true)\n",
      " |-- DestCityName: string (nullable = true)\n",
      " |-- DestState: string (nullable = true)\n",
      " |-- DestStateFips: string (nullable = true)\n",
      " |-- DestStateName: string (nullable = true)\n",
      " |-- DestWac: string (nullable = true)\n",
      " |-- DepDel15: string (nullable = true)\n",
      " |-- DepartureDelayGroups: string (nullable = true)\n",
      " |-- DepTimeBlk: string (nullable = true)\n",
      " |-- TaxiOut: string (nullable = true)\n",
      " |-- WheelsOff: string (nullable = true)\n",
      " |-- WheelsOn: string (nullable = true)\n",
      " |-- TaxiIn: string (nullable = true)\n",
      " |-- CRSArrTime: string (nullable = true)\n",
      " |-- ArrDelay: string (nullable = true)\n",
      " |-- ArrDel15: string (nullable = true)\n",
      " |-- ArrivalDelayGroups: string (nullable = true)\n",
      " |-- ArrTimeBlk: string (nullable = true)\n",
      " |-- DistanceGroup: string (nullable = true)\n",
      " |-- DivAirportLandings: string (nullable = true)\n",
      "\n",
      "+----------+-----------+------+----+---------+--------+----------+-------+---------------+--------+-------+---------------+-------+--------------+-----------------+--------+----+-------+-----+----------+---------+-------------------------+---------------------------------------+------------------------+---------------------------+-------------------------------+-----------------+------------------------+---------------------------+-----------+-------------------------------+---------------+------------------+------------------+----------------+-----------+---------------+---------------+---------+-------------+----------------+----------------+------------+---------+-------------+-------------+-------+--------+--------------------+----------+-------+---------+--------+------+----------+--------+--------+------------------+----------+-------------+------------------+\n",
      "|FlightDate|    Airline|Origin|Dest|Cancelled|Diverted|CRSDepTime|DepTime|DepDelayMinutes|DepDelay|ArrTime|ArrDelayMinutes|AirTime|CRSElapsedTime|ActualElapsedTime|Distance|Year|Quarter|Month|DayofMonth|DayOfWeek|Marketing_Airline_Network|Operated_or_Branded_Code_Share_Partners|DOT_ID_Marketing_Airline|IATA_Code_Marketing_Airline|Flight_Number_Marketing_Airline|Operating_Airline|DOT_ID_Operating_Airline|IATA_Code_Operating_Airline|Tail_Number|Flight_Number_Operating_Airline|OriginAirportID|OriginAirportSeqID|OriginCityMarketID|  OriginCityName|OriginState|OriginStateFips|OriginStateName|OriginWac|DestAirportID|DestAirportSeqID|DestCityMarketID|DestCityName|DestState|DestStateFips|DestStateName|DestWac|DepDel15|DepartureDelayGroups|DepTimeBlk|TaxiOut|WheelsOff|WheelsOn|TaxiIn|CRSArrTime|ArrDelay|ArrDel15|ArrivalDelayGroups|ArrTimeBlk|DistanceGroup|DivAirportLandings|\n",
      "+----------+-----------+------+----+---------+--------+----------+-------+---------------+--------+-------+---------------+-------+--------------+-----------------+--------+----+-------+-----+----------+---------+-------------------------+---------------------------------------+------------------------+---------------------------+-------------------------------+-----------------+------------------------+---------------------------+-----------+-------------------------------+---------------+------------------+------------------+----------------+-----------+---------------+---------------+---------+-------------+----------------+----------------+------------+---------+-------------+-------------+-------+--------+--------------------+----------+-------+---------+--------+------+----------+--------+--------+------------------+----------+-------------+------------------+\n",
      "|2020-09-01|Comair Inc.|   PHL| DAY|    False|   False|      1905| 1858.0|            0.0|    -7.0| 2034.0|            0.0|   76.0|         111.0|             96.0|   477.0|2020|      3|    9|         1|        2|                       AA|                           AA_CODESHARE|                   19805|                         AA|                           5020|               OH|                   20397|                         OH|     N506AE|                           5020|          14100|           1410005|             34100|Philadelphia, PA|         PA|             42|   Pennsylvania|       23|        11267|         1126702|           31267|  Dayton, OH|       OH|           39|         Ohio|     44|     0.0|                -1.0| 1900-1959|   16.0|   1914.0|  2030.0|   4.0|      2056|   -22.0|     0.0|              -2.0| 2000-2059|            2|               0.0|\n",
      "|2020-09-02|Comair Inc.|   PHL| DAY|    False|   False|      1905| 1858.0|            0.0|    -7.0| 2027.0|            0.0|   68.0|         111.0|             89.0|   477.0|2020|      3|    9|         2|        3|                       AA|                           AA_CODESHARE|                   19805|                         AA|                           5020|               OH|                   20397|                         OH|     N512AE|                           5020|          14100|           1410005|             34100|Philadelphia, PA|         PA|             42|   Pennsylvania|       23|        11267|         1126702|           31267|  Dayton, OH|       OH|           39|         Ohio|     44|     0.0|                -1.0| 1900-1959|   16.0|   1914.0|  2022.0|   5.0|      2056|   -29.0|     0.0|              -2.0| 2000-2059|            2|               0.0|\n",
      "|2020-09-03|Comair Inc.|   PHL| DAY|    False|   False|      1905| 1855.0|            0.0|   -10.0| 2122.0|           26.0|   77.0|         111.0|            147.0|   477.0|2020|      3|    9|         3|        4|                       AA|                           AA_CODESHARE|                   19805|                         AA|                           5020|               OH|                   20397|                         OH|     N710PS|                           5020|          14100|           1410005|             34100|Philadelphia, PA|         PA|             42|   Pennsylvania|       23|        11267|         1126702|           31267|  Dayton, OH|       OH|           39|         Ohio|     44|     0.0|                -1.0| 1900-1959|   65.0|   2000.0|  2117.0|   5.0|      2056|    26.0|     1.0|               1.0| 2000-2059|            2|               0.0|\n",
      "|2020-09-04|Comair Inc.|   PHL| DAY|    False|   False|      1905| 1857.0|            0.0|    -8.0| 2027.0|            0.0|   73.0|         111.0|             90.0|   477.0|2020|      3|    9|         4|        5|                       AA|                           AA_CODESHARE|                   19805|                         AA|                           5020|               OH|                   20397|                         OH|     N712PS|                           5020|          14100|           1410005|             34100|Philadelphia, PA|         PA|             42|   Pennsylvania|       23|        11267|         1126702|           31267|  Dayton, OH|       OH|           39|         Ohio|     44|     0.0|                -1.0| 1900-1959|   13.0|   1910.0|  2023.0|   4.0|      2056|   -29.0|     0.0|              -2.0| 2000-2059|            2|               0.0|\n",
      "|2020-09-05|Comair Inc.|   PHL| DAY|    False|   False|      1905| 1856.0|            0.0|    -9.0| 2026.0|            0.0|   72.0|         111.0|             90.0|   477.0|2020|      3|    9|         5|        6|                       AA|                           AA_CODESHARE|                   19805|                         AA|                           5020|               OH|                   20397|                         OH|     N705PS|                           5020|          14100|           1410005|             34100|Philadelphia, PA|         PA|             42|   Pennsylvania|       23|        11267|         1126702|           31267|  Dayton, OH|       OH|           39|         Ohio|     44|     0.0|                -1.0| 1900-1959|   14.0|   1910.0|  2022.0|   4.0|      2056|   -30.0|     0.0|              -2.0| 2000-2059|            2|               0.0|\n",
      "|2020-09-06|Comair Inc.|   PHL| DAY|    False|   False|      1905| 1853.0|            0.0|   -12.0| 2023.0|            0.0|   70.0|         111.0|             90.0|   477.0|2020|      3|    9|         6|        7|                       AA|                           AA_CODESHARE|                   19805|                         AA|                           5020|               OH|                   20397|                         OH|     N710PS|                           5020|          14100|           1410005|             34100|Philadelphia, PA|         PA|             42|   Pennsylvania|       23|        11267|         1126702|           31267|  Dayton, OH|       OH|           39|         Ohio|     44|     0.0|                -1.0| 1900-1959|   13.0|   1906.0|  2016.0|   7.0|      2056|   -33.0|     0.0|              -2.0| 2000-2059|            2|               0.0|\n",
      "|2020-09-07|Comair Inc.|   PHL| DAY|    False|   False|      1905| 1901.0|            0.0|    -4.0| 2038.0|            0.0|   76.0|         111.0|             97.0|   477.0|2020|      3|    9|         7|        1|                       AA|                           AA_CODESHARE|                   19805|                         AA|                           5020|               OH|                   20397|                         OH|     N543EA|                           5020|          14100|           1410005|             34100|Philadelphia, PA|         PA|             42|   Pennsylvania|       23|        11267|         1126702|           31267|  Dayton, OH|       OH|           39|         Ohio|     44|     0.0|                -1.0| 1900-1959|   14.0|   1915.0|  2031.0|   7.0|      2056|   -18.0|     0.0|              -2.0| 2000-2059|            2|               0.0|\n",
      "|2020-09-08|Comair Inc.|   PHL| DAY|    False|   False|      1905| 1859.0|            0.0|    -6.0| 2023.0|            0.0|   67.0|         111.0|             84.0|   477.0|2020|      3|    9|         8|        2|                       AA|                           AA_CODESHARE|                   19805|                         AA|                           5020|               OH|                   20397|                         OH|     N506AE|                           5020|          14100|           1410005|             34100|Philadelphia, PA|         PA|             42|   Pennsylvania|       23|        11267|         1126702|           31267|  Dayton, OH|       OH|           39|         Ohio|     44|     0.0|                -1.0| 1900-1959|   13.0|   1912.0|  2019.0|   4.0|      2056|   -33.0|     0.0|              -2.0| 2000-2059|            2|               0.0|\n",
      "|2020-09-09|Comair Inc.|   PHL| DAY|    False|   False|      1800| 1752.0|            0.0|    -8.0| 1916.0|            0.0|   69.0|         105.0|             84.0|   477.0|2020|      3|    9|         9|        3|                       AA|                           AA_CODESHARE|                   19805|                         AA|                           5020|               OH|                   20397|                         OH|     N508AE|                           5020|          14100|           1410005|             34100|Philadelphia, PA|         PA|             42|   Pennsylvania|       23|        11267|         1126702|           31267|  Dayton, OH|       OH|           39|         Ohio|     44|     0.0|                -1.0| 1800-1859|   11.0|   1803.0|  1912.0|   4.0|      1945|   -29.0|     0.0|              -2.0| 1900-1959|            2|               0.0|\n",
      "|2020-09-10|Comair Inc.|   PHL| DAY|    False|   False|      1800| 1750.0|            0.0|   -10.0| 1923.0|            0.0|   74.0|         105.0|             93.0|   477.0|2020|      3|    9|        10|        4|                       AA|                           AA_CODESHARE|                   19805|                         AA|                           5020|               OH|                   20397|                         OH|     N720PS|                           5020|          14100|           1410005|             34100|Philadelphia, PA|         PA|             42|   Pennsylvania|       23|        11267|         1126702|           31267|  Dayton, OH|       OH|           39|         Ohio|     44|     0.0|                -1.0| 1800-1859|   16.0|   1806.0|  1920.0|   3.0|      1945|   -22.0|     0.0|              -2.0| 1900-1959|            2|               0.0|\n",
      "|2020-09-11|Comair Inc.|   PHL| DAY|    False|   False|      1800| 1751.0|            0.0|    -9.0| 1930.0|            0.0|   82.0|         105.0|             99.0|   477.0|2020|      3|    9|        11|        5|                       AA|                           AA_CODESHARE|                   19805|                         AA|                           5020|               OH|                   20397|                         OH|     N530EA|                           5020|          14100|           1410005|             34100|Philadelphia, PA|         PA|             42|   Pennsylvania|       23|        11267|         1126702|           31267|  Dayton, OH|       OH|           39|         Ohio|     44|     0.0|                -1.0| 1800-1859|   13.0|   1804.0|  1926.0|   4.0|      1945|   -15.0|     0.0|              -1.0| 1900-1959|            2|               0.0|\n",
      "|2020-09-13|Comair Inc.|   PHL| DAY|    False|   False|      1800| 1755.0|            0.0|    -5.0| 1926.0|            0.0|   68.0|         105.0|             91.0|   477.0|2020|      3|    9|        13|        7|                       AA|                           AA_CODESHARE|                   19805|                         AA|                           5020|               OH|                   20397|                         OH|     N712PS|                           5020|          14100|           1410005|             34100|Philadelphia, PA|         PA|             42|   Pennsylvania|       23|        11267|         1126702|           31267|  Dayton, OH|       OH|           39|         Ohio|     44|     0.0|                -1.0| 1800-1859|   16.0|   1811.0|  1919.0|   7.0|      1945|   -19.0|     0.0|              -2.0| 1900-1959|            2|               0.0|\n",
      "|2020-09-14|Comair Inc.|   PHL| DAY|    False|   False|      1800| 1755.0|            0.0|    -5.0| 1921.0|            0.0|   70.0|         105.0|             86.0|   477.0|2020|      3|    9|        14|        1|                       AA|                           AA_CODESHARE|                   19805|                         AA|                           5020|               OH|                   20397|                         OH|     N516AE|                           5020|          14100|           1410005|             34100|Philadelphia, PA|         PA|             42|   Pennsylvania|       23|        11267|         1126702|           31267|  Dayton, OH|       OH|           39|         Ohio|     44|     0.0|                -1.0| 1800-1859|   11.0|   1806.0|  1916.0|   5.0|      1945|   -24.0|     0.0|              -2.0| 1900-1959|            2|               0.0|\n",
      "|2020-09-16|Comair Inc.|   PHL| DAY|    False|   False|      1800| 1800.0|            0.0|     0.0| 1926.0|            0.0|   71.0|         105.0|             86.0|   477.0|2020|      3|    9|        16|        3|                       AA|                           AA_CODESHARE|                   19805|                         AA|                           5020|               OH|                   20397|                         OH|     N589NN|                           5020|          14100|           1410005|             34100|Philadelphia, PA|         PA|             42|   Pennsylvania|       23|        11267|         1126702|           31267|  Dayton, OH|       OH|           39|         Ohio|     44|     0.0|                 0.0| 1800-1859|   10.0|   1810.0|  1921.0|   5.0|      1945|   -19.0|     0.0|              -2.0| 1900-1959|            2|               0.0|\n",
      "|2020-09-17|Comair Inc.|   PHL| DAY|    False|   False|      1800| 1759.0|            0.0|    -1.0| 1927.0|            0.0|   73.0|         105.0|             88.0|   477.0|2020|      3|    9|        17|        4|                       AA|                           AA_CODESHARE|                   19805|                         AA|                           5020|               OH|                   20397|                         OH|     N577NN|                           5020|          14100|           1410005|             34100|Philadelphia, PA|         PA|             42|   Pennsylvania|       23|        11267|         1126702|           31267|  Dayton, OH|       OH|           39|         Ohio|     44|     0.0|                -1.0| 1800-1859|   11.0|   1810.0|  1923.0|   4.0|      1945|   -18.0|     0.0|              -2.0| 1900-1959|            2|               0.0|\n",
      "|2020-09-18|Comair Inc.|   PHL| DAY|    False|   False|      1800| 1753.0|            0.0|    -7.0| 1925.0|            0.0|   76.0|         105.0|             92.0|   477.0|2020|      3|    9|        18|        5|                       AA|                           AA_CODESHARE|                   19805|                         AA|                           5020|               OH|                   20397|                         OH|     N544EA|                           5020|          14100|           1410005|             34100|Philadelphia, PA|         PA|             42|   Pennsylvania|       23|        11267|         1126702|           31267|  Dayton, OH|       OH|           39|         Ohio|     44|     0.0|                -1.0| 1800-1859|   12.0|   1805.0|  1921.0|   4.0|      1945|   -20.0|     0.0|              -2.0| 1900-1959|            2|               0.0|\n",
      "|2020-09-20|Comair Inc.|   PHL| DAY|    False|   False|      1800| 1754.0|            0.0|    -6.0| 1918.0|            0.0|   68.0|         105.0|             84.0|   477.0|2020|      3|    9|        20|        7|                       AA|                           AA_CODESHARE|                   19805|                         AA|                           5020|               OH|                   20397|                         OH|     N705PS|                           5020|          14100|           1410005|             34100|Philadelphia, PA|         PA|             42|   Pennsylvania|       23|        11267|         1126702|           31267|  Dayton, OH|       OH|           39|         Ohio|     44|     0.0|                -1.0| 1800-1859|   12.0|   1806.0|  1914.0|   4.0|      1945|   -27.0|     0.0|              -2.0| 1900-1959|            2|               0.0|\n",
      "|2020-09-21|Comair Inc.|   PHL| DAY|    False|   False|      1800| 1751.0|            0.0|    -9.0| 1933.0|            0.0|   84.0|         105.0|            102.0|   477.0|2020|      3|    9|        21|        1|                       AA|                           AA_CODESHARE|                   19805|                         AA|                           5020|               OH|                   20397|                         OH|     N519AE|                           5020|          14100|           1410005|             34100|Philadelphia, PA|         PA|             42|   Pennsylvania|       23|        11267|         1126702|           31267|  Dayton, OH|       OH|           39|         Ohio|     44|     0.0|                -1.0| 1800-1859|   14.0|   1805.0|  1929.0|   4.0|      1945|   -12.0|     0.0|              -1.0| 1900-1959|            2|               0.0|\n",
      "|2020-09-23|Comair Inc.|   PHL| DAY|    False|   False|      1800| 1751.0|            0.0|    -9.0| 1916.0|            0.0|   69.0|         105.0|             85.0|   477.0|2020|      3|    9|        23|        3|                       AA|                           AA_CODESHARE|                   19805|                         AA|                           5020|               OH|                   20397|                         OH|     N514AE|                           5020|          14100|           1410005|             34100|Philadelphia, PA|         PA|             42|   Pennsylvania|       23|        11267|         1126702|           31267|  Dayton, OH|       OH|           39|         Ohio|     44|     0.0|                -1.0| 1800-1859|   13.0|   1804.0|  1913.0|   3.0|      1945|   -29.0|     0.0|              -2.0| 1900-1959|            2|               0.0|\n",
      "|2020-09-24|Comair Inc.|   PHL| DAY|    False|   False|      1800| 1753.0|            0.0|    -7.0| 1919.0|            0.0|   66.0|         105.0|             86.0|   477.0|2020|      3|    9|        24|        4|                       AA|                           AA_CODESHARE|                   19805|                         AA|                           5020|               OH|                   20397|                         OH|     N542EA|                           5020|          14100|           1410005|             34100|Philadelphia, PA|         PA|             42|   Pennsylvania|       23|        11267|         1126702|           31267|  Dayton, OH|       OH|           39|         Ohio|     44|     0.0|                -1.0| 1800-1859|   13.0|   1806.0|  1912.0|   7.0|      1945|   -26.0|     0.0|              -2.0| 1900-1959|            2|               0.0|\n",
      "+----------+-----------+------+----+---------+--------+----------+-------+---------------+--------+-------+---------------+-------+--------------+-----------------+--------+----+-------+-----+----------+---------+-------------------------+---------------------------------------+------------------------+---------------------------+-------------------------------+-----------------+------------------------+---------------------------+-----------+-------------------------------+---------------+------------------+------------------+----------------+-----------+---------------+---------------+---------+-------------+----------------+----------------+------------+---------+-------------+-------------+-------+--------+--------------------+----------+-------+---------+--------+------+----------+--------+--------+------------------+----------+-------------+------------------+\n",
      "only showing top 20 rows\n",
      "\n"
     ]
    },
    {
     "data": {
      "text/plain": [
       "67761365"
      ]
     },
     "execution_count": 7,
     "metadata": {},
     "output_type": "execute_result"
    }
   ],
   "source": [
    "mydata.printSchema()\n",
    "mydata.show()\n",
    "mydata.count()"
   ]
  },
  {
   "cell_type": "markdown",
   "metadata": {},
   "source": [
    "-----\n",
    "# Data Cleaning"
   ]
  },
  {
   "cell_type": "markdown",
   "metadata": {},
   "source": [
    "## 1.Removing duplicates if any"
   ]
  },
  {
   "cell_type": "code",
   "execution_count": null,
   "metadata": {},
   "outputs": [],
   "source": [
    "# Checking first: use dropDuplicates() and count()\n",
    "print(f'  Dados: number of rows: {mydata.count() }, after dropduplicates: {mydata.dropDuplicates().count() }')"
   ]
  },
  {
   "cell_type": "code",
   "execution_count": null,
   "metadata": {},
   "outputs": [],
   "source": [
    "#Remover duplicados e guardar num novo csv\n",
    "mydata = mydata.dropDuplicates()\n",
    "mydata.write.option(\"header\", \"true\") .csv(\"flights.csv\")"
   ]
  },
  {
   "cell_type": "code",
   "execution_count": null,
   "metadata": {},
   "outputs": [],
   "source": [
    "#Leitura do novo csv sem duplicados, apenas 50000 registos\n",
    "data_clean = spark.read.load('flights.csv',format='csv',sep=',',inferSchema=True, header=True).limit(50000)"
   ]
  },
  {
   "cell_type": "markdown",
   "metadata": {},
   "source": [
    "## 2.Handling missing values"
   ]
  },
  {
   "cell_type": "code",
   "execution_count": null,
   "metadata": {},
   "outputs": [],
   "source": [
    "# Ver em que colunas estão os nulos (by columns)\n",
    "dict_nulls_calls = {col: data_clean.filter(data_clean[col].isNull()).count() for col in data_clean.columns}\n",
    "dict_nulls_calls"
   ]
  },
  {
   "cell_type": "code",
   "execution_count": null,
   "metadata": {},
   "outputs": [],
   "source": [
    "#Visto que todas as colunas tem alguns nulls, vale a pena eliminar colunas ou retirar as linhas?\n",
    "cols_to_dismiss = []\n",
    "data_calls = data_clean.drop(*cols_to_dismiss)"
   ]
  },
  {
   "cell_type": "code",
   "execution_count": null,
   "metadata": {},
   "outputs": [
    {
     "data": {
      "text/plain": [
       "1967"
      ]
     },
     "execution_count": 4,
     "metadata": {},
     "output_type": "execute_result"
    }
   ],
   "source": [
    "#Quantas linhas tem valores nulos\n",
    "#print(f\"After dropna would be: data_iot = {data_clean.dropna(how='any').count()  } rows\")\n",
    "data_clean=data_clean.dropna(how='any')\n",
    "data_clean.count()\n"
   ]
  },
  {
   "cell_type": "code",
   "execution_count": 11,
   "metadata": {},
   "outputs": [
    {
     "name": "stdout",
     "output_type": "stream",
     "text": [
      "-RECORD 0---------------------------------------------------\n",
      " FlightDate                              | 2020-09-20       \n",
      " Airline                                 | Comair Inc.      \n",
      " Origin                                  | CLT              \n",
      " Dest                                    | JAX              \n",
      " Cancelled                               | False            \n",
      " Diverted                                | False            \n",
      " CRSDepTime                              | 1314             \n",
      " DepTime                                 | 1309.0           \n",
      " DepDelayMinutes                         | 0.0              \n",
      " DepDelay                                | -5.0             \n",
      " ArrTime                                 | 1439.0           \n",
      " ArrDelayMinutes                         | 0.0              \n",
      " AirTime                                 | 61.0             \n",
      " CRSElapsedTime                          | 86.0             \n",
      " ActualElapsedTime                       | 90.0             \n",
      " Distance                                | 328.0            \n",
      " Year                                    | 2020             \n",
      " Quarter                                 | 3                \n",
      " Month                                   | 9                \n",
      " DayofMonth                              | 20               \n",
      " DayOfWeek                               | 7                \n",
      " Marketing_Airline_Network               | AA               \n",
      " Operated_or_Branded_Code_Share_Partners | AA_CODESHARE     \n",
      " DOT_ID_Marketing_Airline                | 19805            \n",
      " IATA_Code_Marketing_Airline             | AA               \n",
      " Flight_Number_Marketing_Airline         | 5024             \n",
      " Operating_Airline                       | OH               \n",
      " DOT_ID_Operating_Airline                | 20397            \n",
      " IATA_Code_Operating_Airline             | OH               \n",
      " Tail_Number                             | N604NN           \n",
      " Flight_Number_Operating_Airline         | 5024             \n",
      " OriginAirportID                         | 11057            \n",
      " OriginAirportSeqID                      | 1105703          \n",
      " OriginCityMarketID                      | 31057            \n",
      " OriginCityName                          | Charlotte, NC    \n",
      " OriginState                             | NC               \n",
      " OriginStateFips                         | 37               \n",
      " OriginStateName                         | North Carolina   \n",
      " OriginWac                               | 36               \n",
      " DestAirportID                           | 12451            \n",
      " DestAirportSeqID                        | 1245102          \n",
      " DestCityMarketID                        | 31136            \n",
      " DestCityName                            | Jacksonville, FL \n",
      " DestState                               | FL               \n",
      " DestStateFips                           | 12               \n",
      " DestStateName                           | Florida          \n",
      " DestWac                                 | 33               \n",
      " DepDel15                                | 0.0              \n",
      " DepartureDelayGroups                    | -1.0             \n",
      " DepTimeBlk                              | 1300-1359        \n",
      " TaxiOut                                 | 23.0             \n",
      " WheelsOff                               | 1332.0           \n",
      " WheelsOn                                | 1433.0           \n",
      " TaxiIn                                  | 6.0              \n",
      " CRSArrTime                              | 1440             \n",
      " ArrDelay                                | -1.0             \n",
      " ArrDel15                                | 0.0              \n",
      " ArrivalDelayGroups                      | -1.0             \n",
      " ArrTimeBlk                              | 1400-1459        \n",
      " DistanceGroup                           | 2                \n",
      " DivAirportLandings                      | 0.0              \n",
      "only showing top 1 row\n",
      "\n"
     ]
    }
   ],
   "source": [
    "# Show one record in vertical mode for better reading\n",
    "data_clean.show(1,vertical=True)\n"
   ]
  },
  {
   "cell_type": "markdown",
   "metadata": {},
   "source": [
    "-----\n",
    "# Data transformation"
   ]
  }
 ],
 "metadata": {
  "kernelspec": {
   "display_name": "vscode_pyspark",
   "language": "python",
   "name": "vscode_pyspark"
  },
  "language_info": {
   "codemirror_mode": {
    "name": "ipython",
    "version": 3
   },
   "file_extension": ".py",
   "mimetype": "text/x-python",
   "name": "python",
   "nbconvert_exporter": "python",
   "pygments_lexer": "ipython3",
   "version": "3.11.11"
  }
 },
 "nbformat": 4,
 "nbformat_minor": 2
}
