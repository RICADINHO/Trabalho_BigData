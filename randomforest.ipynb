{
 "cells": [
  {
   "cell_type": "code",
   "execution_count": 2,
   "id": "5c21a56c",
   "metadata": {},
   "outputs": [],
   "source": [
    "from pyspark.ml.feature import StringIndexer, VectorAssembler, StandardScaler\n",
    "from pyspark.ml.regression import RandomForestRegressor\n",
    "from pyspark.ml.classification import RandomForestClassifier\n",
    "from pyspark.ml.stat import Correlation\n",
    "from pyspark.ml.linalg import Vectors\n",
    "from pyspark.sql import SparkSession\n",
    "import pyspark.sql.functions as F\n",
    "import plotly.express as px\n",
    "import pandas as pd\n",
    "import pyspark\n",
    "import matplotlib.pyplot as plt\n",
    "import seaborn as sns\n",
    "import numpy as np\n",
    "from pyspark import SparkFiles\n",
    "from pyspark.ml.evaluation import BinaryClassificationEvaluator\n",
    "from pyspark.mllib.evaluation import MulticlassMetrics\n",
    "from pyspark.ml import Pipeline\n",
    "from pyspark.ml.evaluation import MulticlassClassificationEvaluator\n",
    "from pyspark.ml.tuning import CrossValidator, ParamGridBuilder, TrainValidationSplit"
   ]
  },
  {
   "cell_type": "code",
   "execution_count": 3,
   "id": "7aebbaec",
   "metadata": {},
   "outputs": [],
   "source": [
    "spark = SparkSession.builder.appName(\"ProjetoABD_parte2\").getOrCreate()"
   ]
  },
  {
   "cell_type": "code",
   "execution_count": 4,
   "id": "9ee7f9b9",
   "metadata": {},
   "outputs": [],
   "source": [
    "dados = spark.read.load('avioes/tudo_junto/ok2/dados.csv',format='csv',sep=',',inferSchema=True, header=True).limit(1000000)"
   ]
  },
  {
   "cell_type": "code",
   "execution_count": 4,
   "id": "76dc6b42",
   "metadata": {},
   "outputs": [
    {
     "name": "stdout",
     "output_type": "stream",
     "text": [
      "root\n",
      " |-- Year: integer (nullable = true)\n",
      " |-- Quarter: integer (nullable = true)\n",
      " |-- Month: integer (nullable = true)\n",
      " |-- DayOfWeek: integer (nullable = true)\n",
      " |-- Operated_or_Branded_Code_Share_Partners: string (nullable = true)\n",
      " |-- Operating_Airline: string (nullable = true)\n",
      " |-- Flight_Number_Operating_Airline: integer (nullable = true)\n",
      " |-- Origin: string (nullable = true)\n",
      " |-- Dest: string (nullable = true)\n",
      " |-- CRSDepTime: integer (nullable = true)\n",
      " |-- DepTime: integer (nullable = true)\n",
      " |-- DepDelay: integer (nullable = true)\n",
      " |-- TaxiOut: double (nullable = true)\n",
      " |-- WheelsOff: integer (nullable = true)\n",
      " |-- WheelsOn: integer (nullable = true)\n",
      " |-- TaxiIn: double (nullable = true)\n",
      " |-- CRSArrTime: integer (nullable = true)\n",
      " |-- ArrTime: integer (nullable = true)\n",
      " |-- ArrDelay: integer (nullable = true)\n",
      " |-- CRSElapsedTime: double (nullable = true)\n",
      " |-- ActualElapsedTime: double (nullable = true)\n",
      " |-- AirTime: double (nullable = true)\n",
      " |-- Distance: double (nullable = true)\n",
      " |-- DistanceGroup: integer (nullable = true)\n",
      " |-- OriginCityNameState: string (nullable = true)\n",
      " |-- DestCityNameState: string (nullable = true)\n",
      "\n",
      "+----+-------+-----+---------+---------------------------------------+-----------------+-------------------------------+------+----+----------+-------+--------+-------+---------+--------+------+----------+-------+--------+--------------+-----------------+-------+--------+-------------+--------------------+-------------------+\n",
      "|Year|Quarter|Month|DayOfWeek|Operated_or_Branded_Code_Share_Partners|Operating_Airline|Flight_Number_Operating_Airline|Origin|Dest|CRSDepTime|DepTime|DepDelay|TaxiOut|WheelsOff|WheelsOn|TaxiIn|CRSArrTime|ArrTime|ArrDelay|CRSElapsedTime|ActualElapsedTime|AirTime|Distance|DistanceGroup| OriginCityNameState|  DestCityNameState|\n",
      "+----+-------+-----+---------+---------------------------------------+-----------------+-------------------------------+------+----+----------+-------+--------+-------+---------+--------+------+----------+-------+--------+--------------+-----------------+-------+--------+-------------+--------------------+-------------------+\n",
      "|2022|      2|    5|        2|                           AA_CODESHARE|               OH|                           5433|   DCA| ALB|       610|    618|       8|   30.0|     1048|    1149|   4.0|       712|    713|       1|         102.0|             95.0|   61.0|   318.0|            2| Washington,Virginia|    Albany,New York|\n",
      "|2022|      2|    5|        3|                           AA_CODESHARE|               OH|                           5433|   DCA| ALB|       610|    602|      -8|   58.0|     1100|    1201|   2.0|       712|    723|      11|         102.0|            121.0|   61.0|   318.0|            2| Washington,Virginia|    Albany,New York|\n",
      "|2022|      2|    5|        7|                           AA_CODESHARE|               OH|                           5434|   CLT| TLH|      1246|   1239|      -7|   22.0|     2101|    2158|   2.0|      1347|   1320|     -27|         101.0|             81.0|   57.0|   386.0|            2|Charlotte,North C...|Tallahassee,Florida|\n",
      "|2022|      2|    5|        1|                           AA_CODESHARE|               OH|                           5434|   CLT| TLH|      1246|   1236|     -10|   23.0|     2059|    2159|   5.0|      1347|   1324|     -23|         101.0|             88.0|   60.0|   386.0|            2|Charlotte,North C...|Tallahassee,Florida|\n",
      "|2022|      2|    5|        2|                           AA_CODESHARE|               OH|                           5434|   CLT| TLH|      1246|   1235|     -11|   36.0|     2111|    2214|   5.0|      1347|   1339|      -8|         101.0|            104.0|   63.0|   386.0|            2|Charlotte,North C...|Tallahassee,Florida|\n",
      "|2022|      2|    5|        3|                           AA_CODESHARE|               OH|                           5434|   CLT| TLH|      1246|   1242|      -4|   25.0|     2107|    2204|   4.0|      1347|   1328|     -19|         101.0|             86.0|   57.0|   386.0|            2|Charlotte,North C...|Tallahassee,Florida|\n",
      "|2022|      2|    5|        4|                           AA_CODESHARE|               OH|                           5434|   CLT| TLH|      1080|   1082|       2|   12.0|     1814|    1910|  30.0|      1168|   1180|      12|          88.0|             98.0|   56.0|   386.0|            2|Charlotte,North C...|Tallahassee,Florida|\n",
      "|2022|      2|    5|        6|                           AA_CODESHARE|               OH|                           5434|   CLT| TLH|      1080|   1074|      -6|   19.0|     1813|    1908|   3.0|      1168|   1151|     -17|          88.0|             77.0|   55.0|   386.0|            2|Charlotte,North C...|Tallahassee,Florida|\n",
      "|2022|      2|    5|        7|                           AA_CODESHARE|               OH|                           5434|   CLT| TLH|      1080|   1080|       0|   18.0|     1818|    1913|   2.0|      1168|   1155|     -13|          88.0|             75.0|   55.0|   386.0|            2|Charlotte,North C...|Tallahassee,Florida|\n",
      "|2022|      2|    5|        1|                           AA_CODESHARE|               OH|                           5434|   CLT| TLH|      1080|   1070|     -10|   20.0|     1810|    1907|   5.0|      1168|   1152|     -16|          88.0|             82.0|   57.0|   386.0|            2|Charlotte,North C...|Tallahassee,Florida|\n",
      "|2022|      2|    5|        2|                           AA_CODESHARE|               OH|                           5434|   CLT| TLH|      1080|   1073|      -7|   23.0|     1816|    1912|  12.0|      1168|   1164|      -4|          88.0|             91.0|   56.0|   386.0|            2|Charlotte,North C...|Tallahassee,Florida|\n",
      "|2022|      2|    5|        3|                           AA_CODESHARE|               OH|                           5434|   CLT| TLH|      1080|   1078|      -2|   19.0|     1817|    1910|   5.0|      1168|   1155|     -13|          88.0|             77.0|   53.0|   386.0|            2|Charlotte,North C...|Tallahassee,Florida|\n",
      "|2022|      2|    5|        4|                           AA_CODESHARE|               OH|                           5434|   CLT| TLH|      1080|   1076|      -4|   51.0|     1847|    1958|   3.0|      1168|   1201|      33|          88.0|            125.0|   71.0|   386.0|            2|Charlotte,North C...|Tallahassee,Florida|\n",
      "|2022|      2|    5|        5|                           AA_CODESHARE|               OH|                           5434|   CLT| TLH|      1080|   1092|      12|   21.0|     1833|    1936|   4.0|      1168|   1180|      12|          88.0|             88.0|   63.0|   386.0|            2|Charlotte,North C...|Tallahassee,Florida|\n",
      "|2022|      2|    5|        6|                           AA_CODESHARE|               OH|                           5434|   CLT| TLH|      1080|   1075|      -5|   27.0|     1822|    1920|   5.0|      1168|   1165|      -3|          88.0|             90.0|   58.0|   386.0|            2|Charlotte,North C...|Tallahassee,Florida|\n",
      "|2022|      2|    5|        1|                           AA_CODESHARE|               OH|                           5434|   CLT| TLH|      1080|   1095|      15|   21.0|     1836|    1937|   2.0|      1168|   1179|      11|          88.0|             84.0|   61.0|   386.0|            2|Charlotte,North C...|Tallahassee,Florida|\n",
      "|2022|      2|    5|        2|                           AA_CODESHARE|               OH|                           5434|   CLT| TLH|      1080|   1074|      -6|   21.0|     1815|    1915|   3.0|      1168|   1158|     -10|          88.0|             84.0|   60.0|   386.0|            2|Charlotte,North C...|Tallahassee,Florida|\n",
      "|2022|      2|    5|        3|                           AA_CODESHARE|               OH|                           5434|   CLT| TLH|      1080|   1071|      -9|   21.0|     1812|    1914|   5.0|      1168|   1159|      -9|          88.0|             88.0|   62.0|   386.0|            2|Charlotte,North C...|Tallahassee,Florida|\n",
      "|2022|      2|    5|        4|                           AA_CODESHARE|               OH|                           5434|   CLT| TLH|      1080|   1077|      -3|   20.0|     1817|    1916|   4.0|      1168|   1160|      -8|          88.0|             83.0|   59.0|   386.0|            2|Charlotte,North C...|Tallahassee,Florida|\n",
      "|2022|      2|    5|        6|                           AA_CODESHARE|               OH|                           5434|   CLT| TLH|      1080|   1168|      88|   12.0|     1940|    2043|   3.0|      1168|   1246|      78|          88.0|             78.0|   63.0|   386.0|            2|Charlotte,North C...|Tallahassee,Florida|\n",
      "+----+-------+-----+---------+---------------------------------------+-----------------+-------------------------------+------+----+----------+-------+--------+-------+---------+--------+------+----------+-------+--------+--------------+-----------------+-------+--------+-------------+--------------------+-------------------+\n",
      "only showing top 20 rows\n",
      "\n"
     ]
    },
    {
     "data": {
      "text/plain": [
       "1000000"
      ]
     },
     "execution_count": 4,
     "metadata": {},
     "output_type": "execute_result"
    }
   ],
   "source": [
    "dados.printSchema()\n",
    "dados.show()\n",
    "dados.count()"
   ]
  },
  {
   "cell_type": "code",
   "execution_count": null,
   "id": "d2117f36",
   "metadata": {},
   "outputs": [],
   "source": [
    "dados = dados.withColumn(\"Tem_DepDelay\",\n",
    "                         F.when(dados[\"DepDelay\"]>15,1).otherwise(0))\n",
    "\n",
    "dados = dados.withColumn(\"Tem_ArrDelay\",\n",
    "                         F.when(dados[\"ArrDelay\"]>5,1).otherwise(0))"
   ]
  },
  {
   "cell_type": "code",
   "execution_count": 6,
   "id": "9ed60351",
   "metadata": {},
   "outputs": [
    {
     "name": "stdout",
     "output_type": "stream",
     "text": [
      "root\n",
      " |-- Year: integer (nullable = true)\n",
      " |-- Quarter: integer (nullable = true)\n",
      " |-- Month: integer (nullable = true)\n",
      " |-- DayOfWeek: integer (nullable = true)\n",
      " |-- Operated_or_Branded_Code_Share_Partners: string (nullable = true)\n",
      " |-- Operating_Airline: string (nullable = true)\n",
      " |-- Flight_Number_Operating_Airline: integer (nullable = true)\n",
      " |-- Origin: string (nullable = true)\n",
      " |-- Dest: string (nullable = true)\n",
      " |-- CRSDepTime: integer (nullable = true)\n",
      " |-- DepTime: integer (nullable = true)\n",
      " |-- DepDelay: integer (nullable = true)\n",
      " |-- TaxiOut: double (nullable = true)\n",
      " |-- WheelsOff: integer (nullable = true)\n",
      " |-- WheelsOn: integer (nullable = true)\n",
      " |-- TaxiIn: double (nullable = true)\n",
      " |-- CRSArrTime: integer (nullable = true)\n",
      " |-- ArrTime: integer (nullable = true)\n",
      " |-- ArrDelay: integer (nullable = true)\n",
      " |-- CRSElapsedTime: double (nullable = true)\n",
      " |-- ActualElapsedTime: double (nullable = true)\n",
      " |-- AirTime: double (nullable = true)\n",
      " |-- Distance: double (nullable = true)\n",
      " |-- DistanceGroup: integer (nullable = true)\n",
      " |-- OriginCityNameState: string (nullable = true)\n",
      " |-- DestCityNameState: string (nullable = true)\n",
      " |-- Tem_DepDelay: integer (nullable = false)\n",
      " |-- Tem_ArrDelay: integer (nullable = false)\n",
      "\n",
      "+----+-------+-----+---------+---------------------------------------+-----------------+-------------------------------+------+----+----------+-------+--------+-------+---------+--------+------+----------+-------+--------+--------------+-----------------+-------+--------+-------------+--------------------+-------------------+------------+------------+\n",
      "|Year|Quarter|Month|DayOfWeek|Operated_or_Branded_Code_Share_Partners|Operating_Airline|Flight_Number_Operating_Airline|Origin|Dest|CRSDepTime|DepTime|DepDelay|TaxiOut|WheelsOff|WheelsOn|TaxiIn|CRSArrTime|ArrTime|ArrDelay|CRSElapsedTime|ActualElapsedTime|AirTime|Distance|DistanceGroup| OriginCityNameState|  DestCityNameState|Tem_DepDelay|Tem_ArrDelay|\n",
      "+----+-------+-----+---------+---------------------------------------+-----------------+-------------------------------+------+----+----------+-------+--------+-------+---------+--------+------+----------+-------+--------+--------------+-----------------+-------+--------+-------------+--------------------+-------------------+------------+------------+\n",
      "|2022|      2|    5|        2|                           AA_CODESHARE|               OH|                           5433|   DCA| ALB|       610|    618|       8|   30.0|     1048|    1149|   4.0|       712|    713|       1|         102.0|             95.0|   61.0|   318.0|            2| Washington,Virginia|    Albany,New York|           1|           0|\n",
      "|2022|      2|    5|        3|                           AA_CODESHARE|               OH|                           5433|   DCA| ALB|       610|    602|      -8|   58.0|     1100|    1201|   2.0|       712|    723|      11|         102.0|            121.0|   61.0|   318.0|            2| Washington,Virginia|    Albany,New York|           0|           1|\n",
      "|2022|      2|    5|        7|                           AA_CODESHARE|               OH|                           5434|   CLT| TLH|      1246|   1239|      -7|   22.0|     2101|    2158|   2.0|      1347|   1320|     -27|         101.0|             81.0|   57.0|   386.0|            2|Charlotte,North C...|Tallahassee,Florida|           0|           0|\n",
      "|2022|      2|    5|        1|                           AA_CODESHARE|               OH|                           5434|   CLT| TLH|      1246|   1236|     -10|   23.0|     2059|    2159|   5.0|      1347|   1324|     -23|         101.0|             88.0|   60.0|   386.0|            2|Charlotte,North C...|Tallahassee,Florida|           0|           0|\n",
      "|2022|      2|    5|        2|                           AA_CODESHARE|               OH|                           5434|   CLT| TLH|      1246|   1235|     -11|   36.0|     2111|    2214|   5.0|      1347|   1339|      -8|         101.0|            104.0|   63.0|   386.0|            2|Charlotte,North C...|Tallahassee,Florida|           0|           0|\n",
      "|2022|      2|    5|        3|                           AA_CODESHARE|               OH|                           5434|   CLT| TLH|      1246|   1242|      -4|   25.0|     2107|    2204|   4.0|      1347|   1328|     -19|         101.0|             86.0|   57.0|   386.0|            2|Charlotte,North C...|Tallahassee,Florida|           0|           0|\n",
      "|2022|      2|    5|        4|                           AA_CODESHARE|               OH|                           5434|   CLT| TLH|      1080|   1082|       2|   12.0|     1814|    1910|  30.0|      1168|   1180|      12|          88.0|             98.0|   56.0|   386.0|            2|Charlotte,North C...|Tallahassee,Florida|           0|           1|\n",
      "|2022|      2|    5|        6|                           AA_CODESHARE|               OH|                           5434|   CLT| TLH|      1080|   1074|      -6|   19.0|     1813|    1908|   3.0|      1168|   1151|     -17|          88.0|             77.0|   55.0|   386.0|            2|Charlotte,North C...|Tallahassee,Florida|           0|           0|\n",
      "|2022|      2|    5|        7|                           AA_CODESHARE|               OH|                           5434|   CLT| TLH|      1080|   1080|       0|   18.0|     1818|    1913|   2.0|      1168|   1155|     -13|          88.0|             75.0|   55.0|   386.0|            2|Charlotte,North C...|Tallahassee,Florida|           0|           0|\n",
      "|2022|      2|    5|        1|                           AA_CODESHARE|               OH|                           5434|   CLT| TLH|      1080|   1070|     -10|   20.0|     1810|    1907|   5.0|      1168|   1152|     -16|          88.0|             82.0|   57.0|   386.0|            2|Charlotte,North C...|Tallahassee,Florida|           0|           0|\n",
      "|2022|      2|    5|        2|                           AA_CODESHARE|               OH|                           5434|   CLT| TLH|      1080|   1073|      -7|   23.0|     1816|    1912|  12.0|      1168|   1164|      -4|          88.0|             91.0|   56.0|   386.0|            2|Charlotte,North C...|Tallahassee,Florida|           0|           0|\n",
      "|2022|      2|    5|        3|                           AA_CODESHARE|               OH|                           5434|   CLT| TLH|      1080|   1078|      -2|   19.0|     1817|    1910|   5.0|      1168|   1155|     -13|          88.0|             77.0|   53.0|   386.0|            2|Charlotte,North C...|Tallahassee,Florida|           0|           0|\n",
      "|2022|      2|    5|        4|                           AA_CODESHARE|               OH|                           5434|   CLT| TLH|      1080|   1076|      -4|   51.0|     1847|    1958|   3.0|      1168|   1201|      33|          88.0|            125.0|   71.0|   386.0|            2|Charlotte,North C...|Tallahassee,Florida|           0|           1|\n",
      "|2022|      2|    5|        5|                           AA_CODESHARE|               OH|                           5434|   CLT| TLH|      1080|   1092|      12|   21.0|     1833|    1936|   4.0|      1168|   1180|      12|          88.0|             88.0|   63.0|   386.0|            2|Charlotte,North C...|Tallahassee,Florida|           1|           1|\n",
      "|2022|      2|    5|        6|                           AA_CODESHARE|               OH|                           5434|   CLT| TLH|      1080|   1075|      -5|   27.0|     1822|    1920|   5.0|      1168|   1165|      -3|          88.0|             90.0|   58.0|   386.0|            2|Charlotte,North C...|Tallahassee,Florida|           0|           0|\n",
      "|2022|      2|    5|        1|                           AA_CODESHARE|               OH|                           5434|   CLT| TLH|      1080|   1095|      15|   21.0|     1836|    1937|   2.0|      1168|   1179|      11|          88.0|             84.0|   61.0|   386.0|            2|Charlotte,North C...|Tallahassee,Florida|           1|           1|\n",
      "|2022|      2|    5|        2|                           AA_CODESHARE|               OH|                           5434|   CLT| TLH|      1080|   1074|      -6|   21.0|     1815|    1915|   3.0|      1168|   1158|     -10|          88.0|             84.0|   60.0|   386.0|            2|Charlotte,North C...|Tallahassee,Florida|           0|           0|\n",
      "|2022|      2|    5|        3|                           AA_CODESHARE|               OH|                           5434|   CLT| TLH|      1080|   1071|      -9|   21.0|     1812|    1914|   5.0|      1168|   1159|      -9|          88.0|             88.0|   62.0|   386.0|            2|Charlotte,North C...|Tallahassee,Florida|           0|           0|\n",
      "|2022|      2|    5|        4|                           AA_CODESHARE|               OH|                           5434|   CLT| TLH|      1080|   1077|      -3|   20.0|     1817|    1916|   4.0|      1168|   1160|      -8|          88.0|             83.0|   59.0|   386.0|            2|Charlotte,North C...|Tallahassee,Florida|           0|           0|\n",
      "|2022|      2|    5|        6|                           AA_CODESHARE|               OH|                           5434|   CLT| TLH|      1080|   1168|      88|   12.0|     1940|    2043|   3.0|      1168|   1246|      78|          88.0|             78.0|   63.0|   386.0|            2|Charlotte,North C...|Tallahassee,Florida|           1|           1|\n",
      "+----+-------+-----+---------+---------------------------------------+-----------------+-------------------------------+------+----+----------+-------+--------+-------+---------+--------+------+----------+-------+--------+--------------+-----------------+-------+--------+-------------+--------------------+-------------------+------------+------------+\n",
      "only showing top 20 rows\n",
      "\n"
     ]
    }
   ],
   "source": [
    "dados.printSchema()\n",
    "dados.show()"
   ]
  },
  {
   "cell_type": "markdown",
   "id": "ab793358",
   "metadata": {},
   "source": [
    "## ArrDelay"
   ]
  },
  {
   "cell_type": "code",
   "execution_count": null,
   "id": "9f60fde9",
   "metadata": {},
   "outputs": [],
   "source": [
    "\n",
    "categorical_cols = [\n",
    "    \"Operated_or_Branded_Code_Share_Partners\",\n",
    "    \"Operating_Airline\",\n",
    "    \"Origin\",\n",
    "    \"Dest\",\n",
    "    \"OriginCityNameState\",\n",
    "    \"DestCityNameState\"\n",
    "]\n",
    "\n",
    "numeric_cols = [\n",
    "    \"Year\", \"Quarter\", \"Month\", \"DayOfWeek\", \"Flight_Number_Operating_Airline\",\n",
    "    \"CRSDepTime\", \"DepTime\", \"TaxiOut\", \"WheelsOff\", \"Distance\", \"DistanceGroup\",\n",
    "    \"AirTime\", \n",
    "    #\"CRSArrTime\", \"ArrTime\",\n",
    "    \"WheelsOn\", \"TaxiIn\", \"CRSElapsedTime\", \n",
    "    \"ActualElapsedTime\"\n",
    "]\n",
    "\n",
    "indexers = [StringIndexer(inputCol=c, outputCol=c + \"_Index\", handleInvalid=\"keep\") for c in categorical_cols]\n",
    "all_features = numeric_cols + [c + \"_Index\" for c in categorical_cols]\n",
    "assembler = VectorAssembler(inputCols=all_features, outputCol=\"features\")"
   ]
  },
  {
   "cell_type": "code",
   "execution_count": null,
   "id": "8877ef78",
   "metadata": {},
   "outputs": [],
   "source": [
    "\n",
    "rf = RandomForestClassifier(labelCol=\"Tem_ArrDelay\", featuresCol=\"features\",maxBins=512)\n",
    "\n",
    "\n",
    "pipeline = Pipeline(stages=indexers + [assembler, rf])\n",
    "\n",
    "\n",
    "paramGrid = ParamGridBuilder() \\\n",
    "    .addGrid(rf.numTrees, [20, 50]) \\\n",
    "    .addGrid(rf.maxDepth, [10, 15]) \\\n",
    "    .build()\n",
    "\n",
    "\n",
    "evaluator = MulticlassClassificationEvaluator(\n",
    "    labelCol=\"Tem_ArrDelay\", \n",
    "    predictionCol=\"prediction\", \n",
    "    metricName=\"accuracy\"\n",
    ")\n",
    "\n",
    "\n",
    "tvs = TrainValidationSplit(\n",
    "    estimator=pipeline,\n",
    "    estimatorParamMaps=paramGrid,\n",
    "    evaluator=evaluator,\n",
    "    trainRatio=0.8,# 80/20\n",
    "    parallelism=1     # Prevents memory blowup\n",
    ")\n",
    "\n",
    "\n",
    "model = tvs.fit(dados)"
   ]
  },
  {
   "cell_type": "code",
   "execution_count": null,
   "id": "7801b1d5",
   "metadata": {},
   "outputs": [],
   "source": [
    "\n",
    "predictions = model.transform(dados)\n",
    "\n",
    "\n",
    "predictions_cast = predictions.withColumn(\"prediction\", predictions[\"prediction\"].cast(\"float\")) \\\n",
    "                              .withColumn(\"Tem_ArrDelay\", predictions[\"Tem_ArrDelay\"].cast(\"float\"))\n",
    "\n",
    "\n",
    "predictionAndLabels = predictions_cast.select(\"prediction\", \"Tem_ArrDelay\").rdd.map(tuple)\n"
   ]
  },
  {
   "cell_type": "code",
   "execution_count": null,
   "id": "ab1b6833",
   "metadata": {},
   "outputs": [
    {
     "name": "stderr",
     "output_type": "stream",
     "text": [
      "/opt/conda/envs/vscode_pyspark/lib/python3.11/site-packages/pyspark/sql/context.py:158: FutureWarning: Deprecated in 3.0.0. Use SparkSession.builder.getOrCreate() instead.\n",
      "  warnings.warn(\n"
     ]
    },
    {
     "name": "stdout",
     "output_type": "stream",
     "text": [
      "[[721451.   7634.]\n",
      " [136245. 134670.]]\n"
     ]
    },
    {
     "data": {
      "image/png": "[encoded data removed]",
      "text/plain": [
       "<Figure size 800x600 with 2 Axes>"
      ]
     },
     "metadata": {},
     "output_type": "display_data"
    }
   ],
   "source": [
    "\n",
    "metrics = MulticlassMetrics(predictionAndLabels)\n",
    "conf_matrix = metrics.confusionMatrix().toArray()\n",
    "print(conf_matrix)\n",
    "\n",
    "labels = sorted(set(predictionAndLabels.map(lambda x: x[1]).distinct().collect()))\n",
    "\n",
    "class_labels = [int(label) for label in labels]\n",
    "\n",
    "plt.figure(figsize=(8, 6))\n",
    "sns.heatmap(conf_matrix, annot=True, fmt=\".0f\", cmap=\"Blues\", xticklabels=class_labels, yticklabels=class_labels)\n",
    "\n",
    "plt.xlabel(\"Predicted Label\")\n",
    "plt.ylabel(\"True Label\")\n",
    "plt.title(\"Confusion Matrix Heatmap\")\n",
    "plt.tight_layout()\n",
    "plt.show()"
   ]
  },
  {
   "cell_type": "code",
   "execution_count": 8,
   "id": "6800dc72",
   "metadata": {},
   "outputs": [
    {
     "name": "stdout",
     "output_type": "stream",
     "text": [
      "Class 0:\n",
      "  Precision = 0.84\n",
      "  Recall    = 0.99\n",
      "  F1 Score  = 0.91\n",
      "Class 1:\n",
      "  Precision = 0.95\n",
      "  Recall    = 0.50\n",
      "  F1 Score  = 0.65\n"
     ]
    }
   ],
   "source": [
    "for label in labels:\n",
    "    print(f\"Class {int(label)}:\")\n",
    "    print(f\"  Precision = {metrics.precision(label):.2f}\")\n",
    "    print(f\"  Recall    = {metrics.recall(label):.2f}\")\n",
    "    print(f\"  F1 Score  = {metrics.fMeasure(label):.2f}\")\n"
   ]
  },
  {
   "cell_type": "code",
   "execution_count": null,
   "id": "78ebd3a0",
   "metadata": {},
   "outputs": [
    {
     "name": "stdout",
     "output_type": "stream",
     "text": [
      "Weighted Precision = 0.87\n",
      "Weighted Recall    = 0.86\n",
      "Weighted F1 Score  = 0.84\n"
     ]
    }
   ],
   "source": [
    "print(f\"Weighted Precision = {metrics.weightedPrecision:.2f}\")\n",
    "print(f\"Weighted Recall    = {metrics.weightedRecall:.2f}\")\n",
    "print(f\"Weighted F1 Score  = {metrics.weightedFMeasure():.2f}\")"
   ]
  },
  {
   "cell_type": "code",
   "execution_count": 10,
   "id": "8979b557",
   "metadata": {},
   "outputs": [
    {
     "name": "stdout",
     "output_type": "stream",
     "text": [
      "AUC: 0.939\n"
     ]
    }
   ],
   "source": [
    "binary_evaluator = BinaryClassificationEvaluator(\n",
    "    labelCol=\"Tem_ArrDelay\", rawPredictionCol=\"rawPrediction\", metricName=\"areaUnderROC\"\n",
    ")\n",
    "auc = binary_evaluator.evaluate(predictions)\n",
    "print(f\"AUC: {auc:.3f}\")"
   ]
  },
  {
   "cell_type": "code",
   "execution_count": 11,
   "id": "26a36dae",
   "metadata": {},
   "outputs": [
    {
     "name": "stdout",
     "output_type": "stream",
     "text": [
      "CRSDepTime: 0.2414\n",
      "TaxiOut: 0.1603\n",
      "WheelsOff: 0.1068\n",
      "DepTime: 0.1019\n",
      "WheelsOn: 0.0851\n",
      "TaxiIn: 0.0536\n",
      "CRSElapsedTime: 0.0310\n",
      "Dest_Index: 0.0298\n",
      "Origin_Index: 0.0291\n",
      "OriginCityNameState_Index: 0.0288\n"
     ]
    }
   ],
   "source": [
    "rf_model = model.bestModel.stages[-1]  # Assuming RF is last stage\n",
    "importances = rf_model.featureImportances\n",
    "\n",
    "# Match with feature names\n",
    "features = assembler.getInputCols()\n",
    "feature_importance = sorted(zip(features, importances), key=lambda x: -x[1])\n",
    "for feat, imp in feature_importance[:10]:  # top 10\n",
    "    print(f\"{feat}: {imp:.4f}\")\n"
   ]
  },
  {
   "cell_type": "markdown",
   "id": "bcb3e267",
   "metadata": {},
   "source": [
    "## DepDelay"
   ]
  },
  {
   "cell_type": "code",
   "execution_count": null,
   "id": "bb81d494",
   "metadata": {},
   "outputs": [],
   "source": [
    "\n",
    "categorical_cols = [\n",
    "    \"Operated_or_Branded_Code_Share_Partners\",\n",
    "    \"Operating_Airline\",\n",
    "    \"Origin\",\n",
    "    \"Dest\",\n",
    "    \"OriginCityNameState\",\n",
    "    \"DestCityNameState\"\n",
    "]\n",
    "\n",
    "numeric_cols = [\n",
    "    \"Year\", \"Quarter\", \"Month\", \"DayOfWeek\", \"Flight_Number_Operating_Airline\",\n",
    "    #\"CRSDepTime\", \"DepTime\", \n",
    "    \"TaxiOut\", \"WheelsOff\", \"Distance\", \"DistanceGroup\",\"AirTime\", \n",
    "    \"CRSArrTime\", \"ArrTime\",\n",
    "    \"WheelsOn\", \"TaxiIn\", \"CRSElapsedTime\", \n",
    "    \"ActualElapsedTime\"\n",
    "]\n",
    "\n",
    "indexers = [StringIndexer(inputCol=c, outputCol=c + \"_Index\", handleInvalid=\"keep\") for c in categorical_cols]\n",
    "all_features = numeric_cols + [c + \"_Index\" for c in categorical_cols]\n",
    "assembler = VectorAssembler(inputCols=all_features, outputCol=\"features\")"
   ]
  },
  {
   "cell_type": "code",
   "execution_count": 7,
   "id": "a0a138d7",
   "metadata": {},
   "outputs": [
    {
     "name": "stderr",
     "output_type": "stream",
     "text": [
      "ERROR:root:Exception while sending command.\n",
      "Traceback (most recent call last):\n",
      "  File \"/opt/conda/envs/vscode_pyspark/lib/python3.11/site-packages/py4j/clientserver.py\", line 516, in send_command\n",
      "    raise Py4JNetworkError(\"Answer from Java side is empty\")\n",
      "py4j.protocol.Py4JNetworkError: Answer from Java side is empty\n",
      "\n",
      "During handling of the above exception, another exception occurred:\n",
      "\n",
      "Traceback (most recent call last):\n",
      "  File \"/opt/conda/envs/vscode_pyspark/lib/python3.11/site-packages/py4j/java_gateway.py\", line 1038, in send_command\n",
      "    response = connection.send_command(command)\n",
      "               ^^^^^^^^^^^^^^^^^^^^^^^^^^^^^^^^\n",
      "  File \"/opt/conda/envs/vscode_pyspark/lib/python3.11/site-packages/py4j/clientserver.py\", line 539, in send_command\n",
      "    raise Py4JNetworkError(\n",
      "py4j.protocol.Py4JNetworkError: Error while sending or receiving\n",
      "ERROR:root:Exception while sending command.\n",
      "Traceback (most recent call last):\n",
      "  File \"/opt/conda/envs/vscode_pyspark/lib/python3.11/site-packages/IPython/core/interactiveshell.py\", line 3579, in run_code\n",
      "    exec(code_obj, self.user_global_ns, self.user_ns)\n",
      "  File \"/tmp/ipykernel_738/1266080925.py\", line 30, in <module>\n",
      "    model = tvs.fit(dados)\n",
      "            ^^^^^^^^^^^^^^\n",
      "  File \"/opt/conda/envs/vscode_pyspark/lib/python3.11/site-packages/pyspark/ml/base.py\", line 205, in fit\n",
      "    return self._fit(dataset)\n",
      "           ^^^^^^^^^^^^^^^^^^\n",
      "  File \"/opt/conda/envs/vscode_pyspark/lib/python3.11/site-packages/pyspark/ml/tuning.py\", line 1464, in _fit\n",
      "    for j, metric, subModel in pool.imap_unordered(lambda f: f(), tasks):\n",
      "  File \"/opt/conda/envs/vscode_pyspark/lib/python3.11/multiprocessing/pool.py\", line 873, in next\n",
      "    raise value\n",
      "  File \"/opt/conda/envs/vscode_pyspark/lib/python3.11/multiprocessing/pool.py\", line 125, in worker\n",
      "    result = (True, func(*args, **kwds))\n",
      "                    ^^^^^^^^^^^^^^^^^^^\n",
      "  File \"/opt/conda/envs/vscode_pyspark/lib/python3.11/site-packages/pyspark/ml/tuning.py\", line 1464, in <lambda>\n",
      "    for j, metric, subModel in pool.imap_unordered(lambda f: f(), tasks):\n",
      "                                                             ^^^\n",
      "  File \"/opt/conda/envs/vscode_pyspark/lib/python3.11/site-packages/pyspark/util.py\", line 342, in wrapped\n",
      "    return f(*args, **kwargs)\n",
      "           ^^^^^^^^^^^^^^^^^^\n",
      "  File \"/opt/conda/envs/vscode_pyspark/lib/python3.11/site-packages/pyspark/ml/tuning.py\", line 113, in singleTask\n",
      "    index, model = next(modelIter)\n",
      "                   ^^^^^^^^^^^^^^^\n",
      "  File \"/opt/conda/envs/vscode_pyspark/lib/python3.11/site-packages/pyspark/ml/base.py\", line 98, in __next__\n",
      "    return index, self.fitSingleModel(index)\n",
      "                  ^^^^^^^^^^^^^^^^^^^^^^^^^^\n",
      "  File \"/opt/conda/envs/vscode_pyspark/lib/python3.11/site-packages/pyspark/ml/base.py\", line 156, in fitSingleModel\n",
      "    return estimator.fit(dataset, paramMaps[index])\n",
      "           ^^^^^^^^^^^^^^^^^^^^^^^^^^^^^^^^^^^^^^^^\n",
      "  File \"/opt/conda/envs/vscode_pyspark/lib/python3.11/site-packages/pyspark/ml/base.py\", line 203, in fit\n",
      "    return self.copy(params)._fit(dataset)\n",
      "           ^^^^^^^^^^^^^^^^^^^^^^^^^^^^^^^\n",
      "  File \"/opt/conda/envs/vscode_pyspark/lib/python3.11/site-packages/pyspark/ml/pipeline.py\", line 134, in _fit\n",
      "    model = stage.fit(dataset)\n",
      "            ^^^^^^^^^^^^^^^^^^\n",
      "  File \"/opt/conda/envs/vscode_pyspark/lib/python3.11/site-packages/pyspark/ml/base.py\", line 205, in fit\n",
      "    return self._fit(dataset)\n",
      "           ^^^^^^^^^^^^^^^^^^\n",
      "  File \"/opt/conda/envs/vscode_pyspark/lib/python3.11/site-packages/pyspark/ml/wrapper.py\", line 381, in _fit\n",
      "    java_model = self._fit_java(dataset)\n",
      "                 ^^^^^^^^^^^^^^^^^^^^^^^\n",
      "  File \"/opt/conda/envs/vscode_pyspark/lib/python3.11/site-packages/pyspark/ml/wrapper.py\", line 378, in _fit_java\n",
      "    return self._java_obj.fit(dataset._jdf)\n",
      "           ^^^^^^^^^^^^^^^^^^^^^^^^^^^^^^^^\n",
      "  File \"/opt/conda/envs/vscode_pyspark/lib/python3.11/site-packages/py4j/java_gateway.py\", line 1322, in __call__\n",
      "    return_value = get_return_value(\n",
      "                   ^^^^^^^^^^^^^^^^^\n",
      "  File \"/opt/conda/envs/vscode_pyspark/lib/python3.11/site-packages/pyspark/errors/exceptions/captured.py\", line 179, in deco\n",
      "    return f(*a, **kw)\n",
      "           ^^^^^^^^^^^\n",
      "  File \"/opt/conda/envs/vscode_pyspark/lib/python3.11/site-packages/py4j/protocol.py\", line 326, in get_return_value\n",
      "    raise Py4JJavaError(\n",
      "py4j.protocol.Py4JJavaError: <exception str() failed>\n",
      "\n",
      "During handling of the above exception, another exception occurred:\n",
      "\n",
      "Traceback (most recent call last):\n",
      "  File \"/opt/conda/envs/vscode_pyspark/lib/python3.11/site-packages/py4j/clientserver.py\", line 516, in send_command\n",
      "    raise Py4JNetworkError(\"Answer from Java side is empty\")\n",
      "py4j.protocol.Py4JNetworkError: Answer from Java side is empty\n",
      "\n",
      "During handling of the above exception, another exception occurred:\n",
      "\n",
      "Traceback (most recent call last):\n",
      "  File \"/opt/conda/envs/vscode_pyspark/lib/python3.11/site-packages/py4j/java_gateway.py\", line 1038, in send_command\n",
      "    response = connection.send_command(command)\n",
      "               ^^^^^^^^^^^^^^^^^^^^^^^^^^^^^^^^\n",
      "  File \"/opt/conda/envs/vscode_pyspark/lib/python3.11/site-packages/py4j/clientserver.py\", line 539, in send_command\n",
      "    raise Py4JNetworkError(\n",
      "py4j.protocol.Py4JNetworkError: Error while sending or receiving\n"
     ]
    },
    {
     "ename": "ConnectionRefusedError",
     "evalue": "[Errno 111] Connection refused",
     "output_type": "error",
     "traceback": [
      "\u001b[0;31m---------------------------------------------------------------------------\u001b[0m",
      "\u001b[0;31mPy4JJavaError\u001b[0m                             Traceback (most recent call last)",
      "    \u001b[0;31m[... skipping hidden 1 frame]\u001b[0m\n",
      "Cell \u001b[0;32mIn[7], line 30\u001b[0m\n\u001b[1;32m     29\u001b[0m \u001b[38;5;66;03m# ✅ 7. Fit on full data (watch memory usage)\u001b[39;00m\n\u001b[0;32m---> 30\u001b[0m model \u001b[38;5;241m=\u001b[39m \u001b[43mtvs\u001b[49m\u001b[38;5;241;43m.\u001b[39;49m\u001b[43mfit\u001b[49m\u001b[43m(\u001b[49m\u001b[43mdados\u001b[49m\u001b[43m)\u001b[49m\n",
      "File \u001b[0;32m/opt/conda/envs/vscode_pyspark/lib/python3.11/site-packages/pyspark/ml/base.py:205\u001b[0m, in \u001b[0;36mEstimator.fit\u001b[0;34m(self, dataset, params)\u001b[0m\n\u001b[1;32m    204\u001b[0m     \u001b[38;5;28;01melse\u001b[39;00m:\n\u001b[0;32m--> 205\u001b[0m         \u001b[38;5;28;01mreturn\u001b[39;00m \u001b[38;5;28;43mself\u001b[39;49m\u001b[38;5;241;43m.\u001b[39;49m\u001b[43m_fit\u001b[49m\u001b[43m(\u001b[49m\u001b[43mdataset\u001b[49m\u001b[43m)\u001b[49m\n\u001b[1;32m    206\u001b[0m \u001b[38;5;28;01melse\u001b[39;00m:\n",
      "File \u001b[0;32m/opt/conda/envs/vscode_pyspark/lib/python3.11/site-packages/pyspark/ml/tuning.py:1464\u001b[0m, in \u001b[0;36mTrainValidationSplit._fit\u001b[0;34m(self, dataset)\u001b[0m\n\u001b[1;32m   1463\u001b[0m metrics \u001b[38;5;241m=\u001b[39m [\u001b[38;5;28;01mNone\u001b[39;00m] \u001b[38;5;241m*\u001b[39m numModels\n\u001b[0;32m-> 1464\u001b[0m \u001b[43m\u001b[49m\u001b[38;5;28;43;01mfor\u001b[39;49;00m\u001b[43m \u001b[49m\u001b[43mj\u001b[49m\u001b[43m,\u001b[49m\u001b[43m \u001b[49m\u001b[43mmetric\u001b[49m\u001b[43m,\u001b[49m\u001b[43m \u001b[49m\u001b[43msubModel\u001b[49m\u001b[43m \u001b[49m\u001b[38;5;129;43;01min\u001b[39;49;00m\u001b[43m \u001b[49m\u001b[43mpool\u001b[49m\u001b[38;5;241;43m.\u001b[39;49m\u001b[43mimap_unordered\u001b[49m\u001b[43m(\u001b[49m\u001b[38;5;28;43;01mlambda\u001b[39;49;00m\u001b[43m \u001b[49m\u001b[43mf\u001b[49m\u001b[43m:\u001b[49m\u001b[43m \u001b[49m\u001b[43mf\u001b[49m\u001b[43m(\u001b[49m\u001b[43m)\u001b[49m\u001b[43m,\u001b[49m\u001b[43m \u001b[49m\u001b[43mtasks\u001b[49m\u001b[43m)\u001b[49m\u001b[43m:\u001b[49m\n\u001b[1;32m   1465\u001b[0m \u001b[43m    \u001b[49m\u001b[43mmetrics\u001b[49m\u001b[43m[\u001b[49m\u001b[43mj\u001b[49m\u001b[43m]\u001b[49m\u001b[43m \u001b[49m\u001b[38;5;241;43m=\u001b[39;49m\u001b[43m \u001b[49m\u001b[43mmetric\u001b[49m\n",
      "File \u001b[0;32m/opt/conda/envs/vscode_pyspark/lib/python3.11/multiprocessing/pool.py:873\u001b[0m, in \u001b[0;36mIMapIterator.next\u001b[0;34m(self, timeout)\u001b[0m\n\u001b[1;32m    872\u001b[0m     \u001b[38;5;28;01mreturn\u001b[39;00m value\n\u001b[0;32m--> 873\u001b[0m \u001b[38;5;28;01mraise\u001b[39;00m value\n",
      "File \u001b[0;32m/opt/conda/envs/vscode_pyspark/lib/python3.11/multiprocessing/pool.py:125\u001b[0m, in \u001b[0;36mworker\u001b[0;34m(inqueue, outqueue, initializer, initargs, maxtasks, wrap_exception)\u001b[0m\n\u001b[1;32m    124\u001b[0m \u001b[38;5;28;01mtry\u001b[39;00m:\n\u001b[0;32m--> 125\u001b[0m     result \u001b[38;5;241m=\u001b[39m (\u001b[38;5;28;01mTrue\u001b[39;00m, \u001b[43mfunc\u001b[49m\u001b[43m(\u001b[49m\u001b[38;5;241;43m*\u001b[39;49m\u001b[43margs\u001b[49m\u001b[43m,\u001b[49m\u001b[43m \u001b[49m\u001b[38;5;241;43m*\u001b[39;49m\u001b[38;5;241;43m*\u001b[39;49m\u001b[43mkwds\u001b[49m\u001b[43m)\u001b[49m)\n\u001b[1;32m    126\u001b[0m \u001b[38;5;28;01mexcept\u001b[39;00m \u001b[38;5;167;01mException\u001b[39;00m \u001b[38;5;28;01mas\u001b[39;00m e:\n",
      "File \u001b[0;32m/opt/conda/envs/vscode_pyspark/lib/python3.11/site-packages/pyspark/ml/tuning.py:1464\u001b[0m, in \u001b[0;36mTrainValidationSplit._fit.<locals>.<lambda>\u001b[0;34m(f)\u001b[0m\n\u001b[1;32m   1463\u001b[0m metrics \u001b[38;5;241m=\u001b[39m [\u001b[38;5;28;01mNone\u001b[39;00m] \u001b[38;5;241m*\u001b[39m numModels\n\u001b[0;32m-> 1464\u001b[0m \u001b[38;5;28;01mfor\u001b[39;00m j, metric, subModel \u001b[38;5;129;01min\u001b[39;00m pool\u001b[38;5;241m.\u001b[39mimap_unordered(\u001b[38;5;28;01mlambda\u001b[39;00m f: \u001b[43mf\u001b[49m\u001b[43m(\u001b[49m\u001b[43m)\u001b[49m, tasks):\n\u001b[1;32m   1465\u001b[0m     metrics[j] \u001b[38;5;241m=\u001b[39m metric\n",
      "File \u001b[0;32m/opt/conda/envs/vscode_pyspark/lib/python3.11/site-packages/pyspark/util.py:342\u001b[0m, in \u001b[0;36minheritable_thread_target.<locals>.wrapped\u001b[0;34m(*args, **kwargs)\u001b[0m\n\u001b[1;32m    341\u001b[0m SparkContext\u001b[38;5;241m.\u001b[39m_active_spark_context\u001b[38;5;241m.\u001b[39m_jsc\u001b[38;5;241m.\u001b[39msc()\u001b[38;5;241m.\u001b[39msetLocalProperties(properties)\n\u001b[0;32m--> 342\u001b[0m \u001b[38;5;28;01mreturn\u001b[39;00m \u001b[43mf\u001b[49m\u001b[43m(\u001b[49m\u001b[38;5;241;43m*\u001b[39;49m\u001b[43margs\u001b[49m\u001b[43m,\u001b[49m\u001b[43m \u001b[49m\u001b[38;5;241;43m*\u001b[39;49m\u001b[38;5;241;43m*\u001b[39;49m\u001b[43mkwargs\u001b[49m\u001b[43m)\u001b[49m\n",
      "File \u001b[0;32m/opt/conda/envs/vscode_pyspark/lib/python3.11/site-packages/pyspark/ml/tuning.py:113\u001b[0m, in \u001b[0;36m_parallelFitTasks.<locals>.singleTask\u001b[0;34m()\u001b[0m\n\u001b[1;32m    112\u001b[0m \u001b[38;5;28;01mdef\u001b[39;00m\u001b[38;5;250m \u001b[39m\u001b[38;5;21msingleTask\u001b[39m() \u001b[38;5;241m-\u001b[39m\u001b[38;5;241m>\u001b[39m Tuple[\u001b[38;5;28mint\u001b[39m, \u001b[38;5;28mfloat\u001b[39m, Transformer]:\n\u001b[0;32m--> 113\u001b[0m     index, model \u001b[38;5;241m=\u001b[39m \u001b[38;5;28;43mnext\u001b[39;49m\u001b[43m(\u001b[49m\u001b[43mmodelIter\u001b[49m\u001b[43m)\u001b[49m\n\u001b[1;32m    114\u001b[0m     \u001b[38;5;66;03m# TODO: duplicate evaluator to take extra params from input\u001b[39;00m\n\u001b[1;32m    115\u001b[0m     \u001b[38;5;66;03m#  Note: Supporting tuning params in evaluator need update method\u001b[39;00m\n\u001b[1;32m    116\u001b[0m     \u001b[38;5;66;03m#  `MetaAlgorithmReadWrite.getAllNestedStages`, make it return\u001b[39;00m\n\u001b[1;32m    117\u001b[0m     \u001b[38;5;66;03m#  all nested stages and evaluators\u001b[39;00m\n",
      "File \u001b[0;32m/opt/conda/envs/vscode_pyspark/lib/python3.11/site-packages/pyspark/ml/base.py:98\u001b[0m, in \u001b[0;36m_FitMultipleIterator.__next__\u001b[0;34m(self)\u001b[0m\n\u001b[1;32m     97\u001b[0m     \u001b[38;5;28mself\u001b[39m\u001b[38;5;241m.\u001b[39mcounter \u001b[38;5;241m+\u001b[39m\u001b[38;5;241m=\u001b[39m \u001b[38;5;241m1\u001b[39m\n\u001b[0;32m---> 98\u001b[0m \u001b[38;5;28;01mreturn\u001b[39;00m index, \u001b[38;5;28;43mself\u001b[39;49m\u001b[38;5;241;43m.\u001b[39;49m\u001b[43mfitSingleModel\u001b[49m\u001b[43m(\u001b[49m\u001b[43mindex\u001b[49m\u001b[43m)\u001b[49m\n",
      "File \u001b[0;32m/opt/conda/envs/vscode_pyspark/lib/python3.11/site-packages/pyspark/ml/base.py:156\u001b[0m, in \u001b[0;36mEstimator.fitMultiple.<locals>.fitSingleModel\u001b[0;34m(index)\u001b[0m\n\u001b[1;32m    155\u001b[0m \u001b[38;5;28;01mdef\u001b[39;00m\u001b[38;5;250m \u001b[39m\u001b[38;5;21mfitSingleModel\u001b[39m(index: \u001b[38;5;28mint\u001b[39m) \u001b[38;5;241m-\u001b[39m\u001b[38;5;241m>\u001b[39m M:\n\u001b[0;32m--> 156\u001b[0m     \u001b[38;5;28;01mreturn\u001b[39;00m \u001b[43mestimator\u001b[49m\u001b[38;5;241;43m.\u001b[39;49m\u001b[43mfit\u001b[49m\u001b[43m(\u001b[49m\u001b[43mdataset\u001b[49m\u001b[43m,\u001b[49m\u001b[43m \u001b[49m\u001b[43mparamMaps\u001b[49m\u001b[43m[\u001b[49m\u001b[43mindex\u001b[49m\u001b[43m]\u001b[49m\u001b[43m)\u001b[49m\n",
      "File \u001b[0;32m/opt/conda/envs/vscode_pyspark/lib/python3.11/site-packages/pyspark/ml/base.py:203\u001b[0m, in \u001b[0;36mEstimator.fit\u001b[0;34m(self, dataset, params)\u001b[0m\n\u001b[1;32m    202\u001b[0m \u001b[38;5;28;01mif\u001b[39;00m params:\n\u001b[0;32m--> 203\u001b[0m     \u001b[38;5;28;01mreturn\u001b[39;00m \u001b[38;5;28;43mself\u001b[39;49m\u001b[38;5;241;43m.\u001b[39;49m\u001b[43mcopy\u001b[49m\u001b[43m(\u001b[49m\u001b[43mparams\u001b[49m\u001b[43m)\u001b[49m\u001b[38;5;241;43m.\u001b[39;49m\u001b[43m_fit\u001b[49m\u001b[43m(\u001b[49m\u001b[43mdataset\u001b[49m\u001b[43m)\u001b[49m\n\u001b[1;32m    204\u001b[0m \u001b[38;5;28;01melse\u001b[39;00m:\n",
      "File \u001b[0;32m/opt/conda/envs/vscode_pyspark/lib/python3.11/site-packages/pyspark/ml/pipeline.py:134\u001b[0m, in \u001b[0;36mPipeline._fit\u001b[0;34m(self, dataset)\u001b[0m\n\u001b[1;32m    133\u001b[0m \u001b[38;5;28;01melse\u001b[39;00m:  \u001b[38;5;66;03m# must be an Estimator\u001b[39;00m\n\u001b[0;32m--> 134\u001b[0m     model \u001b[38;5;241m=\u001b[39m \u001b[43mstage\u001b[49m\u001b[38;5;241;43m.\u001b[39;49m\u001b[43mfit\u001b[49m\u001b[43m(\u001b[49m\u001b[43mdataset\u001b[49m\u001b[43m)\u001b[49m\n\u001b[1;32m    135\u001b[0m     transformers\u001b[38;5;241m.\u001b[39mappend(model)\n",
      "File \u001b[0;32m/opt/conda/envs/vscode_pyspark/lib/python3.11/site-packages/pyspark/ml/base.py:205\u001b[0m, in \u001b[0;36mEstimator.fit\u001b[0;34m(self, dataset, params)\u001b[0m\n\u001b[1;32m    204\u001b[0m     \u001b[38;5;28;01melse\u001b[39;00m:\n\u001b[0;32m--> 205\u001b[0m         \u001b[38;5;28;01mreturn\u001b[39;00m \u001b[38;5;28;43mself\u001b[39;49m\u001b[38;5;241;43m.\u001b[39;49m\u001b[43m_fit\u001b[49m\u001b[43m(\u001b[49m\u001b[43mdataset\u001b[49m\u001b[43m)\u001b[49m\n\u001b[1;32m    206\u001b[0m \u001b[38;5;28;01melse\u001b[39;00m:\n",
      "File \u001b[0;32m/opt/conda/envs/vscode_pyspark/lib/python3.11/site-packages/pyspark/ml/wrapper.py:381\u001b[0m, in \u001b[0;36mJavaEstimator._fit\u001b[0;34m(self, dataset)\u001b[0m\n\u001b[1;32m    380\u001b[0m \u001b[38;5;28;01mdef\u001b[39;00m\u001b[38;5;250m \u001b[39m\u001b[38;5;21m_fit\u001b[39m(\u001b[38;5;28mself\u001b[39m, dataset: DataFrame) \u001b[38;5;241m-\u001b[39m\u001b[38;5;241m>\u001b[39m JM:\n\u001b[0;32m--> 381\u001b[0m     java_model \u001b[38;5;241m=\u001b[39m \u001b[38;5;28;43mself\u001b[39;49m\u001b[38;5;241;43m.\u001b[39;49m\u001b[43m_fit_java\u001b[49m\u001b[43m(\u001b[49m\u001b[43mdataset\u001b[49m\u001b[43m)\u001b[49m\n\u001b[1;32m    382\u001b[0m     model \u001b[38;5;241m=\u001b[39m \u001b[38;5;28mself\u001b[39m\u001b[38;5;241m.\u001b[39m_create_model(java_model)\n",
      "File \u001b[0;32m/opt/conda/envs/vscode_pyspark/lib/python3.11/site-packages/pyspark/ml/wrapper.py:378\u001b[0m, in \u001b[0;36mJavaEstimator._fit_java\u001b[0;34m(self, dataset)\u001b[0m\n\u001b[1;32m    377\u001b[0m \u001b[38;5;28mself\u001b[39m\u001b[38;5;241m.\u001b[39m_transfer_params_to_java()\n\u001b[0;32m--> 378\u001b[0m \u001b[38;5;28;01mreturn\u001b[39;00m \u001b[38;5;28;43mself\u001b[39;49m\u001b[38;5;241;43m.\u001b[39;49m\u001b[43m_java_obj\u001b[49m\u001b[38;5;241;43m.\u001b[39;49m\u001b[43mfit\u001b[49m\u001b[43m(\u001b[49m\u001b[43mdataset\u001b[49m\u001b[38;5;241;43m.\u001b[39;49m\u001b[43m_jdf\u001b[49m\u001b[43m)\u001b[49m\n",
      "File \u001b[0;32m/opt/conda/envs/vscode_pyspark/lib/python3.11/site-packages/py4j/java_gateway.py:1322\u001b[0m, in \u001b[0;36mJavaMember.__call__\u001b[0;34m(self, *args)\u001b[0m\n\u001b[1;32m   1321\u001b[0m answer \u001b[38;5;241m=\u001b[39m \u001b[38;5;28mself\u001b[39m\u001b[38;5;241m.\u001b[39mgateway_client\u001b[38;5;241m.\u001b[39msend_command(command)\n\u001b[0;32m-> 1322\u001b[0m return_value \u001b[38;5;241m=\u001b[39m \u001b[43mget_return_value\u001b[49m\u001b[43m(\u001b[49m\n\u001b[1;32m   1323\u001b[0m \u001b[43m    \u001b[49m\u001b[43manswer\u001b[49m\u001b[43m,\u001b[49m\u001b[43m \u001b[49m\u001b[38;5;28;43mself\u001b[39;49m\u001b[38;5;241;43m.\u001b[39;49m\u001b[43mgateway_client\u001b[49m\u001b[43m,\u001b[49m\u001b[43m \u001b[49m\u001b[38;5;28;43mself\u001b[39;49m\u001b[38;5;241;43m.\u001b[39;49m\u001b[43mtarget_id\u001b[49m\u001b[43m,\u001b[49m\u001b[43m \u001b[49m\u001b[38;5;28;43mself\u001b[39;49m\u001b[38;5;241;43m.\u001b[39;49m\u001b[43mname\u001b[49m\u001b[43m)\u001b[49m\n\u001b[1;32m   1325\u001b[0m \u001b[38;5;28;01mfor\u001b[39;00m temp_arg \u001b[38;5;129;01min\u001b[39;00m temp_args:\n",
      "File \u001b[0;32m/opt/conda/envs/vscode_pyspark/lib/python3.11/site-packages/pyspark/errors/exceptions/captured.py:179\u001b[0m, in \u001b[0;36mcapture_sql_exception.<locals>.deco\u001b[0;34m(*a, **kw)\u001b[0m\n\u001b[1;32m    178\u001b[0m \u001b[38;5;28;01mtry\u001b[39;00m:\n\u001b[0;32m--> 179\u001b[0m     \u001b[38;5;28;01mreturn\u001b[39;00m \u001b[43mf\u001b[49m\u001b[43m(\u001b[49m\u001b[38;5;241;43m*\u001b[39;49m\u001b[43ma\u001b[49m\u001b[43m,\u001b[49m\u001b[43m \u001b[49m\u001b[38;5;241;43m*\u001b[39;49m\u001b[38;5;241;43m*\u001b[39;49m\u001b[43mkw\u001b[49m\u001b[43m)\u001b[49m\n\u001b[1;32m    180\u001b[0m \u001b[38;5;28;01mexcept\u001b[39;00m Py4JJavaError \u001b[38;5;28;01mas\u001b[39;00m e:\n",
      "File \u001b[0;32m/opt/conda/envs/vscode_pyspark/lib/python3.11/site-packages/py4j/protocol.py:326\u001b[0m, in \u001b[0;36mget_return_value\u001b[0;34m(answer, gateway_client, target_id, name)\u001b[0m\n\u001b[1;32m    325\u001b[0m \u001b[38;5;28;01mif\u001b[39;00m answer[\u001b[38;5;241m1\u001b[39m] \u001b[38;5;241m==\u001b[39m REFERENCE_TYPE:\n\u001b[0;32m--> 326\u001b[0m     \u001b[38;5;28;01mraise\u001b[39;00m Py4JJavaError(\n\u001b[1;32m    327\u001b[0m         \u001b[38;5;124m\"\u001b[39m\u001b[38;5;124mAn error occurred while calling \u001b[39m\u001b[38;5;132;01m{0}\u001b[39;00m\u001b[38;5;132;01m{1}\u001b[39;00m\u001b[38;5;132;01m{2}\u001b[39;00m\u001b[38;5;124m.\u001b[39m\u001b[38;5;130;01m\\n\u001b[39;00m\u001b[38;5;124m\"\u001b[39m\u001b[38;5;241m.\u001b[39m\n\u001b[1;32m    328\u001b[0m         \u001b[38;5;28mformat\u001b[39m(target_id, \u001b[38;5;124m\"\u001b[39m\u001b[38;5;124m.\u001b[39m\u001b[38;5;124m\"\u001b[39m, name), value)\n\u001b[1;32m    329\u001b[0m \u001b[38;5;28;01melse\u001b[39;00m:\n",
      "\u001b[0;31m<class 'str'>\u001b[0m: (<class 'ConnectionRefusedError'>, ConnectionRefusedError(111, 'Connection refused'))",
      "\nDuring handling of the above exception, another exception occurred:\n",
      "\u001b[0;31mConnectionRefusedError\u001b[0m                    Traceback (most recent call last)",
      "    \u001b[0;31m[... skipping hidden 1 frame]\u001b[0m\n",
      "File \u001b[0;32m/opt/conda/envs/vscode_pyspark/lib/python3.11/site-packages/IPython/core/interactiveshell.py:2181\u001b[0m, in \u001b[0;36mInteractiveShell.showtraceback\u001b[0;34m(self, exc_tuple, filename, tb_offset, exception_only, running_compiled_code)\u001b[0m\n\u001b[1;32m   2178\u001b[0m         traceback\u001b[38;5;241m.\u001b[39mprint_exc()\n\u001b[1;32m   2179\u001b[0m         \u001b[38;5;28;01mreturn\u001b[39;00m \u001b[38;5;28;01mNone\u001b[39;00m\n\u001b[0;32m-> 2181\u001b[0m     \u001b[38;5;28;43mself\u001b[39;49m\u001b[38;5;241;43m.\u001b[39;49m\u001b[43m_showtraceback\u001b[49m\u001b[43m(\u001b[49m\u001b[43metype\u001b[49m\u001b[43m,\u001b[49m\u001b[43m \u001b[49m\u001b[43mvalue\u001b[49m\u001b[43m,\u001b[49m\u001b[43m \u001b[49m\u001b[43mstb\u001b[49m\u001b[43m)\u001b[49m\n\u001b[1;32m   2182\u001b[0m \u001b[38;5;28;01mif\u001b[39;00m \u001b[38;5;28mself\u001b[39m\u001b[38;5;241m.\u001b[39mcall_pdb:\n\u001b[1;32m   2183\u001b[0m     \u001b[38;5;66;03m# drop into debugger\u001b[39;00m\n\u001b[1;32m   2184\u001b[0m     \u001b[38;5;28mself\u001b[39m\u001b[38;5;241m.\u001b[39mdebugger(force\u001b[38;5;241m=\u001b[39m\u001b[38;5;28;01mTrue\u001b[39;00m)\n",
      "File \u001b[0;32m/opt/conda/envs/vscode_pyspark/lib/python3.11/site-packages/ipykernel/zmqshell.py:559\u001b[0m, in \u001b[0;36mZMQInteractiveShell._showtraceback\u001b[0;34m(self, etype, evalue, stb)\u001b[0m\n\u001b[1;32m    553\u001b[0m sys\u001b[38;5;241m.\u001b[39mstdout\u001b[38;5;241m.\u001b[39mflush()\n\u001b[1;32m    554\u001b[0m sys\u001b[38;5;241m.\u001b[39mstderr\u001b[38;5;241m.\u001b[39mflush()\n\u001b[1;32m    556\u001b[0m exc_content \u001b[38;5;241m=\u001b[39m {\n\u001b[1;32m    557\u001b[0m     \u001b[38;5;124m\"\u001b[39m\u001b[38;5;124mtraceback\u001b[39m\u001b[38;5;124m\"\u001b[39m: stb,\n\u001b[1;32m    558\u001b[0m     \u001b[38;5;124m\"\u001b[39m\u001b[38;5;124mename\u001b[39m\u001b[38;5;124m\"\u001b[39m: \u001b[38;5;28mstr\u001b[39m(etype\u001b[38;5;241m.\u001b[39m\u001b[38;5;18m__name__\u001b[39m),\n\u001b[0;32m--> 559\u001b[0m     \u001b[38;5;124m\"\u001b[39m\u001b[38;5;124mevalue\u001b[39m\u001b[38;5;124m\"\u001b[39m: \u001b[38;5;28;43mstr\u001b[39;49m\u001b[43m(\u001b[49m\u001b[43mevalue\u001b[49m\u001b[43m)\u001b[49m,\n\u001b[1;32m    560\u001b[0m }\n\u001b[1;32m    562\u001b[0m dh \u001b[38;5;241m=\u001b[39m \u001b[38;5;28mself\u001b[39m\u001b[38;5;241m.\u001b[39mdisplayhook\n\u001b[1;32m    563\u001b[0m \u001b[38;5;66;03m# Send exception info over pub socket for other clients than the caller\u001b[39;00m\n\u001b[1;32m    564\u001b[0m \u001b[38;5;66;03m# to pick up\u001b[39;00m\n",
      "File \u001b[0;32m/opt/conda/envs/vscode_pyspark/lib/python3.11/site-packages/py4j/protocol.py:471\u001b[0m, in \u001b[0;36mPy4JJavaError.__str__\u001b[0;34m(self)\u001b[0m\n\u001b[1;32m    469\u001b[0m \u001b[38;5;28;01mdef\u001b[39;00m\u001b[38;5;250m \u001b[39m\u001b[38;5;21m__str__\u001b[39m(\u001b[38;5;28mself\u001b[39m):\n\u001b[1;32m    470\u001b[0m     gateway_client \u001b[38;5;241m=\u001b[39m \u001b[38;5;28mself\u001b[39m\u001b[38;5;241m.\u001b[39mjava_exception\u001b[38;5;241m.\u001b[39m_gateway_client\n\u001b[0;32m--> 471\u001b[0m     answer \u001b[38;5;241m=\u001b[39m \u001b[43mgateway_client\u001b[49m\u001b[38;5;241;43m.\u001b[39;49m\u001b[43msend_command\u001b[49m\u001b[43m(\u001b[49m\u001b[38;5;28;43mself\u001b[39;49m\u001b[38;5;241;43m.\u001b[39;49m\u001b[43mexception_cmd\u001b[49m\u001b[43m)\u001b[49m\n\u001b[1;32m    472\u001b[0m     return_value \u001b[38;5;241m=\u001b[39m get_return_value(answer, gateway_client, \u001b[38;5;28;01mNone\u001b[39;00m, \u001b[38;5;28;01mNone\u001b[39;00m)\n\u001b[1;32m    473\u001b[0m     \u001b[38;5;66;03m# Note: technically this should return a bytestring 'str' rather than\u001b[39;00m\n\u001b[1;32m    474\u001b[0m     \u001b[38;5;66;03m# unicodes in Python 2; however, it can return unicodes for now.\u001b[39;00m\n\u001b[1;32m    475\u001b[0m     \u001b[38;5;66;03m# See https://github.com/bartdag/py4j/issues/306 for more details.\u001b[39;00m\n",
      "File \u001b[0;32m/opt/conda/envs/vscode_pyspark/lib/python3.11/site-packages/py4j/java_gateway.py:1036\u001b[0m, in \u001b[0;36mGatewayClient.send_command\u001b[0;34m(self, command, retry, binary)\u001b[0m\n\u001b[1;32m   1015\u001b[0m \u001b[38;5;28;01mdef\u001b[39;00m\u001b[38;5;250m \u001b[39m\u001b[38;5;21msend_command\u001b[39m(\u001b[38;5;28mself\u001b[39m, command, retry\u001b[38;5;241m=\u001b[39m\u001b[38;5;28;01mTrue\u001b[39;00m, binary\u001b[38;5;241m=\u001b[39m\u001b[38;5;28;01mFalse\u001b[39;00m):\n\u001b[1;32m   1016\u001b[0m \u001b[38;5;250m    \u001b[39m\u001b[38;5;124;03m\"\"\"Sends a command to the JVM. This method is not intended to be\u001b[39;00m\n\u001b[1;32m   1017\u001b[0m \u001b[38;5;124;03m       called directly by Py4J users. It is usually called by\u001b[39;00m\n\u001b[1;32m   1018\u001b[0m \u001b[38;5;124;03m       :class:`JavaMember` instances.\u001b[39;00m\n\u001b[0;32m   (...)\u001b[0m\n\u001b[1;32m   1034\u001b[0m \u001b[38;5;124;03m     if `binary` is `True`.\u001b[39;00m\n\u001b[1;32m   1035\u001b[0m \u001b[38;5;124;03m    \"\"\"\u001b[39;00m\n\u001b[0;32m-> 1036\u001b[0m     connection \u001b[38;5;241m=\u001b[39m \u001b[38;5;28;43mself\u001b[39;49m\u001b[38;5;241;43m.\u001b[39;49m\u001b[43m_get_connection\u001b[49m\u001b[43m(\u001b[49m\u001b[43m)\u001b[49m\n\u001b[1;32m   1037\u001b[0m     \u001b[38;5;28;01mtry\u001b[39;00m:\n\u001b[1;32m   1038\u001b[0m         response \u001b[38;5;241m=\u001b[39m connection\u001b[38;5;241m.\u001b[39msend_command(command)\n",
      "File \u001b[0;32m/opt/conda/envs/vscode_pyspark/lib/python3.11/site-packages/py4j/clientserver.py:284\u001b[0m, in \u001b[0;36mJavaClient._get_connection\u001b[0;34m(self)\u001b[0m\n\u001b[1;32m    281\u001b[0m     \u001b[38;5;28;01mpass\u001b[39;00m\n\u001b[1;32m    283\u001b[0m \u001b[38;5;28;01mif\u001b[39;00m connection \u001b[38;5;129;01mis\u001b[39;00m \u001b[38;5;28;01mNone\u001b[39;00m \u001b[38;5;129;01mor\u001b[39;00m connection\u001b[38;5;241m.\u001b[39msocket \u001b[38;5;129;01mis\u001b[39;00m \u001b[38;5;28;01mNone\u001b[39;00m:\n\u001b[0;32m--> 284\u001b[0m     connection \u001b[38;5;241m=\u001b[39m \u001b[38;5;28;43mself\u001b[39;49m\u001b[38;5;241;43m.\u001b[39;49m\u001b[43m_create_new_connection\u001b[49m\u001b[43m(\u001b[49m\u001b[43m)\u001b[49m\n\u001b[1;32m    285\u001b[0m \u001b[38;5;28;01mreturn\u001b[39;00m connection\n",
      "File \u001b[0;32m/opt/conda/envs/vscode_pyspark/lib/python3.11/site-packages/py4j/clientserver.py:291\u001b[0m, in \u001b[0;36mJavaClient._create_new_connection\u001b[0;34m(self)\u001b[0m\n\u001b[1;32m    287\u001b[0m \u001b[38;5;28;01mdef\u001b[39;00m\u001b[38;5;250m \u001b[39m\u001b[38;5;21m_create_new_connection\u001b[39m(\u001b[38;5;28mself\u001b[39m):\n\u001b[1;32m    288\u001b[0m     connection \u001b[38;5;241m=\u001b[39m ClientServerConnection(\n\u001b[1;32m    289\u001b[0m         \u001b[38;5;28mself\u001b[39m\u001b[38;5;241m.\u001b[39mjava_parameters, \u001b[38;5;28mself\u001b[39m\u001b[38;5;241m.\u001b[39mpython_parameters,\n\u001b[1;32m    290\u001b[0m         \u001b[38;5;28mself\u001b[39m\u001b[38;5;241m.\u001b[39mgateway_property, \u001b[38;5;28mself\u001b[39m)\n\u001b[0;32m--> 291\u001b[0m     \u001b[43mconnection\u001b[49m\u001b[38;5;241;43m.\u001b[39;49m\u001b[43mconnect_to_java_server\u001b[49m\u001b[43m(\u001b[49m\u001b[43m)\u001b[49m\n\u001b[1;32m    292\u001b[0m     \u001b[38;5;28mself\u001b[39m\u001b[38;5;241m.\u001b[39mset_thread_connection(connection)\n\u001b[1;32m    293\u001b[0m     \u001b[38;5;28;01mreturn\u001b[39;00m connection\n",
      "File \u001b[0;32m/opt/conda/envs/vscode_pyspark/lib/python3.11/site-packages/py4j/clientserver.py:438\u001b[0m, in \u001b[0;36mClientServerConnection.connect_to_java_server\u001b[0;34m(self)\u001b[0m\n\u001b[1;32m    435\u001b[0m \u001b[38;5;28;01mif\u001b[39;00m \u001b[38;5;28mself\u001b[39m\u001b[38;5;241m.\u001b[39mssl_context:\n\u001b[1;32m    436\u001b[0m     \u001b[38;5;28mself\u001b[39m\u001b[38;5;241m.\u001b[39msocket \u001b[38;5;241m=\u001b[39m \u001b[38;5;28mself\u001b[39m\u001b[38;5;241m.\u001b[39mssl_context\u001b[38;5;241m.\u001b[39mwrap_socket(\n\u001b[1;32m    437\u001b[0m         \u001b[38;5;28mself\u001b[39m\u001b[38;5;241m.\u001b[39msocket, server_hostname\u001b[38;5;241m=\u001b[39m\u001b[38;5;28mself\u001b[39m\u001b[38;5;241m.\u001b[39mjava_address)\n\u001b[0;32m--> 438\u001b[0m \u001b[38;5;28;43mself\u001b[39;49m\u001b[38;5;241;43m.\u001b[39;49m\u001b[43msocket\u001b[49m\u001b[38;5;241;43m.\u001b[39;49m\u001b[43mconnect\u001b[49m\u001b[43m(\u001b[49m\u001b[43m(\u001b[49m\u001b[38;5;28;43mself\u001b[39;49m\u001b[38;5;241;43m.\u001b[39;49m\u001b[43mjava_address\u001b[49m\u001b[43m,\u001b[49m\u001b[43m \u001b[49m\u001b[38;5;28;43mself\u001b[39;49m\u001b[38;5;241;43m.\u001b[39;49m\u001b[43mjava_port\u001b[49m\u001b[43m)\u001b[49m\u001b[43m)\u001b[49m\n\u001b[1;32m    439\u001b[0m \u001b[38;5;28mself\u001b[39m\u001b[38;5;241m.\u001b[39mstream \u001b[38;5;241m=\u001b[39m \u001b[38;5;28mself\u001b[39m\u001b[38;5;241m.\u001b[39msocket\u001b[38;5;241m.\u001b[39mmakefile(\u001b[38;5;124m\"\u001b[39m\u001b[38;5;124mrb\u001b[39m\u001b[38;5;124m\"\u001b[39m)\n\u001b[1;32m    440\u001b[0m \u001b[38;5;28mself\u001b[39m\u001b[38;5;241m.\u001b[39mis_connected \u001b[38;5;241m=\u001b[39m \u001b[38;5;28;01mTrue\u001b[39;00m\n",
      "\u001b[0;31mConnectionRefusedError\u001b[0m: [Errno 111] Connection refused"
     ]
    }
   ],
   "source": [
    "\n",
    "rf = RandomForestClassifier(labelCol=\"Tem_DepDelay\", featuresCol=\"features\",maxBins=512)\n",
    "\n",
    "\n",
    "pipeline = Pipeline(stages=indexers + [assembler, rf])\n",
    "\n",
    "\n",
    "paramGrid = ParamGridBuilder() \\\n",
    "    .addGrid(rf.numTrees, [20, 50]) \\\n",
    "    .addGrid(rf.maxDepth, [10, 15]) \\\n",
    "    .build()\n",
    "\n",
    "\n",
    "evaluator = MulticlassClassificationEvaluator(\n",
    "    labelCol=\"Tem_DepDelay\", \n",
    "    predictionCol=\"prediction\", \n",
    "    metricName=\"accuracy\"\n",
    ")\n",
    "\n",
    "tvs = TrainValidationSplit(\n",
    "    estimator=pipeline,\n",
    "    estimatorParamMaps=paramGrid,\n",
    "    evaluator=evaluator,\n",
    "    trainRatio=0.8,   # 80% train, 20% validation\n",
    "    parallelism=1     # Prevents memory blowup\n",
    ")\n",
    "\n",
    "\n",
    "model = tvs.fit(dados)"
   ]
  },
  {
   "cell_type": "code",
   "execution_count": null,
   "id": "956cf11d",
   "metadata": {},
   "outputs": [],
   "source": [
    "# Now safe to evaluate\n",
    "metrics = MulticlassMetrics(predictionAndLabels)\n",
    "conf_matrix = metrics.confusionMatrix().toArray()\n",
    "print(conf_matrix)\n",
    "\n",
    "labels = sorted(set(predictionAndLabels.map(lambda x: x[1]).distinct().collect()))\n",
    "# Optional: class labels from the model (can also be [0, 1, 2, ...])\n",
    "class_labels = [int(label) for label in labels]\n",
    "\n",
    "plt.figure(figsize=(8, 6))\n",
    "sns.heatmap(conf_matrix, annot=True, fmt=\".0f\", cmap=\"Blues\", xticklabels=class_labels, yticklabels=class_labels)\n",
    "\n",
    "plt.xlabel(\"Predicted Label\")\n",
    "plt.ylabel(\"True Label\")\n",
    "plt.title(\"Confusion Matrix Heatmap\")\n",
    "plt.tight_layout()\n",
    "plt.show()"
   ]
  },
  {
   "cell_type": "code",
   "execution_count": null,
   "id": "04ad35e0",
   "metadata": {},
   "outputs": [],
   "source": [
    "for label in labels:\n",
    "    print(f\"Class {int(label)}:\")\n",
    "    print(f\"Precision = {metrics.precision(label):.2f}\")\n",
    "    print(f\"Recall    = {metrics.recall(label):.2f}\")\n",
    "    print(f\"F1 Score  = {metrics.fMeasure(label):.2f}\")"
   ]
  },
  {
   "cell_type": "code",
   "execution_count": null,
   "id": "436c9518",
   "metadata": {},
   "outputs": [],
   "source": [
    "print(f\"Weighted Precision = {metrics.weightedPrecision:.2f}\")\n",
    "print(f\"Weighted Recall    = {metrics.weightedRecall:.2f}\")\n",
    "print(f\"Weighted F1 Score  = {metrics.weightedFMeasure():.2f}\")"
   ]
  },
  {
   "cell_type": "code",
   "execution_count": null,
   "id": "09ffb2ae",
   "metadata": {},
   "outputs": [],
   "source": [
    "binary_evaluator = BinaryClassificationEvaluator(\n",
    "    labelCol=\"Tem_DepDelay\", rawPredictionCol=\"rawPrediction\", metricName=\"areaUnderROC\"\n",
    ")\n",
    "auc = binary_evaluator.evaluate(predictions)\n",
    "print(f\"AUC: {auc:.3f}\")"
   ]
  },
  {
   "cell_type": "code",
   "execution_count": null,
   "id": "601ad437",
   "metadata": {},
   "outputs": [],
   "source": [
    "rf_model = model.bestModel.stages[-1]  # Assuming RF is last stage\n",
    "importances = rf_model.featureImportances\n",
    "\n",
    "# Match with feature names\n",
    "features = assembler.getInputCols()\n",
    "feature_importance = sorted(zip(features, importances), key=lambda x: -x[1])\n",
    "for feat, imp in feature_importance[:10]:  # top 10\n",
    "    print(f\"{feat}: {imp:.4f}\")\n"
   ]
  }
 ],
 "metadata": {
  "kernelspec": {
   "display_name": "vscode_pyspark",
   "language": "python",
   "name": "python3"
  },
  "language_info": {
   "codemirror_mode": {
    "name": "ipython",
    "version": 3
   },
   "file_extension": ".py",
   "mimetype": "text/x-python",
   "name": "python",
   "nbconvert_exporter": "python",
   "pygments_lexer": "ipython3",
   "version": "3.11.11"
  }
 },
 "nbformat": 4,
 "nbformat_minor": 5
}
