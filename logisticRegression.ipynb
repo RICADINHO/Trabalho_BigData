{
 "cells": [
  {
   "cell_type": "code",
   "execution_count": 8,
   "id": "8055fc7e",
   "metadata": {},
   "outputs": [],
   "source": [
    "from pyspark.ml.feature import StringIndexer, VectorAssembler, StandardScaler\n",
    "from pyspark.ml.linalg import Vectors\n",
    "from pyspark.sql import SparkSession\n",
    "import pyspark.sql.functions as F\n",
    "import plotly.express as px\n",
    "import pandas as pd\n",
    "import pyspark\n",
    "import matplotlib.pyplot as plt\n",
    "import seaborn as sns\n",
    "import numpy as np\n",
    "from pyspark.sql.functions import col\n",
    "from pyspark import SparkFiles\n",
    "from pyspark.ml import Pipeline\n",
    "from pyspark.sql import Row\n",
    "from pyspark.ml.classification import LogisticRegression\n",
    "from pyspark.ml import Pipeline\n",
    "from pyspark.ml.feature import StringIndexer, VectorAssembler\n",
    "from pyspark.ml.tuning import ParamGridBuilder, TrainValidationSplit\n",
    "from pyspark.ml.evaluation import MulticlassClassificationEvaluator"
   ]
  },
  {
   "cell_type": "code",
   "execution_count": 2,
   "id": "e24e2641",
   "metadata": {},
   "outputs": [],
   "source": [
    "spark = SparkSession.builder.appName(\"logicRegression\").getOrCreate()"
   ]
  },
  {
   "cell_type": "code",
   "execution_count": 11,
   "id": "5d26b93d",
   "metadata": {},
   "outputs": [],
   "source": [
    "dados = spark.read.load('avioes/tudo_junto/ok2/dados.csv',format='csv',sep=',',inferSchema=True, header=True).limit(2000000)"
   ]
  },
  {
   "cell_type": "code",
   "execution_count": 15,
   "id": "3b4c53b5",
   "metadata": {},
   "outputs": [
    {
     "name": "stdout",
     "output_type": "stream",
     "text": [
      "root\n",
      " |-- Year: integer (nullable = true)\n",
      " |-- Quarter: integer (nullable = true)\n",
      " |-- Month: integer (nullable = true)\n",
      " |-- DayOfWeek: integer (nullable = true)\n",
      " |-- Operated_or_Branded_Code_Share_Partners: string (nullable = true)\n",
      " |-- Operating_Airline: string (nullable = true)\n",
      " |-- Flight_Number_Operating_Airline: integer (nullable = true)\n",
      " |-- Origin: string (nullable = true)\n",
      " |-- Dest: string (nullable = true)\n",
      " |-- CRSDepTime: integer (nullable = true)\n",
      " |-- DepTime: integer (nullable = true)\n",
      " |-- DepDelay: integer (nullable = true)\n",
      " |-- TaxiOut: double (nullable = true)\n",
      " |-- WheelsOff: integer (nullable = true)\n",
      " |-- WheelsOn: integer (nullable = true)\n",
      " |-- TaxiIn: double (nullable = true)\n",
      " |-- CRSArrTime: integer (nullable = true)\n",
      " |-- ArrTime: integer (nullable = true)\n",
      " |-- ArrDelay: integer (nullable = true)\n",
      " |-- CRSElapsedTime: double (nullable = true)\n",
      " |-- ActualElapsedTime: double (nullable = true)\n",
      " |-- AirTime: double (nullable = true)\n",
      " |-- Distance: double (nullable = true)\n",
      " |-- DistanceGroup: integer (nullable = true)\n",
      " |-- OriginCityNameState: string (nullable = true)\n",
      " |-- DestCityNameState: string (nullable = true)\n",
      " |-- Tem_DepDelay: integer (nullable = false)\n",
      " |-- Tem_ArrDelay: integer (nullable = false)\n",
      "\n",
      "+----+-------+-----+---------+---------------------------------------+-----------------+-------------------------------+------+----+----------+-------+--------+-------+---------+--------+------+----------+-------+--------+--------------+-----------------+-------+--------+-------------+--------------------+-------------------+------------+------------+\n",
      "|Year|Quarter|Month|DayOfWeek|Operated_or_Branded_Code_Share_Partners|Operating_Airline|Flight_Number_Operating_Airline|Origin|Dest|CRSDepTime|DepTime|DepDelay|TaxiOut|WheelsOff|WheelsOn|TaxiIn|CRSArrTime|ArrTime|ArrDelay|CRSElapsedTime|ActualElapsedTime|AirTime|Distance|DistanceGroup| OriginCityNameState|  DestCityNameState|Tem_DepDelay|Tem_ArrDelay|\n",
      "+----+-------+-----+---------+---------------------------------------+-----------------+-------------------------------+------+----+----------+-------+--------+-------+---------+--------+------+----------+-------+--------+--------------+-----------------+-------+--------+-------------+--------------------+-------------------+------------+------------+\n",
      "|2022|      2|    5|        2|                           AA_CODESHARE|               OH|                           5433|   DCA| ALB|       610|    618|       8|   30.0|     1048|    1149|   4.0|       712|    713|       1|         102.0|             95.0|   61.0|   318.0|            2| Washington,Virginia|    Albany,New York|           0|           0|\n",
      "|2022|      2|    5|        3|                           AA_CODESHARE|               OH|                           5433|   DCA| ALB|       610|    602|      -8|   58.0|     1100|    1201|   2.0|       712|    723|      11|         102.0|            121.0|   61.0|   318.0|            2| Washington,Virginia|    Albany,New York|           0|           0|\n",
      "|2022|      2|    5|        7|                           AA_CODESHARE|               OH|                           5434|   CLT| TLH|      1246|   1239|      -7|   22.0|     2101|    2158|   2.0|      1347|   1320|     -27|         101.0|             81.0|   57.0|   386.0|            2|Charlotte,North C...|Tallahassee,Florida|           0|           0|\n",
      "|2022|      2|    5|        1|                           AA_CODESHARE|               OH|                           5434|   CLT| TLH|      1246|   1236|     -10|   23.0|     2059|    2159|   5.0|      1347|   1324|     -23|         101.0|             88.0|   60.0|   386.0|            2|Charlotte,North C...|Tallahassee,Florida|           0|           0|\n",
      "|2022|      2|    5|        2|                           AA_CODESHARE|               OH|                           5434|   CLT| TLH|      1246|   1235|     -11|   36.0|     2111|    2214|   5.0|      1347|   1339|      -8|         101.0|            104.0|   63.0|   386.0|            2|Charlotte,North C...|Tallahassee,Florida|           0|           0|\n",
      "|2022|      2|    5|        3|                           AA_CODESHARE|               OH|                           5434|   CLT| TLH|      1246|   1242|      -4|   25.0|     2107|    2204|   4.0|      1347|   1328|     -19|         101.0|             86.0|   57.0|   386.0|            2|Charlotte,North C...|Tallahassee,Florida|           0|           0|\n",
      "|2022|      2|    5|        4|                           AA_CODESHARE|               OH|                           5434|   CLT| TLH|      1080|   1082|       2|   12.0|     1814|    1910|  30.0|      1168|   1180|      12|          88.0|             98.0|   56.0|   386.0|            2|Charlotte,North C...|Tallahassee,Florida|           0|           0|\n",
      "|2022|      2|    5|        6|                           AA_CODESHARE|               OH|                           5434|   CLT| TLH|      1080|   1074|      -6|   19.0|     1813|    1908|   3.0|      1168|   1151|     -17|          88.0|             77.0|   55.0|   386.0|            2|Charlotte,North C...|Tallahassee,Florida|           0|           0|\n",
      "|2022|      2|    5|        7|                           AA_CODESHARE|               OH|                           5434|   CLT| TLH|      1080|   1080|       0|   18.0|     1818|    1913|   2.0|      1168|   1155|     -13|          88.0|             75.0|   55.0|   386.0|            2|Charlotte,North C...|Tallahassee,Florida|           0|           0|\n",
      "|2022|      2|    5|        1|                           AA_CODESHARE|               OH|                           5434|   CLT| TLH|      1080|   1070|     -10|   20.0|     1810|    1907|   5.0|      1168|   1152|     -16|          88.0|             82.0|   57.0|   386.0|            2|Charlotte,North C...|Tallahassee,Florida|           0|           0|\n",
      "|2022|      2|    5|        2|                           AA_CODESHARE|               OH|                           5434|   CLT| TLH|      1080|   1073|      -7|   23.0|     1816|    1912|  12.0|      1168|   1164|      -4|          88.0|             91.0|   56.0|   386.0|            2|Charlotte,North C...|Tallahassee,Florida|           0|           0|\n",
      "|2022|      2|    5|        3|                           AA_CODESHARE|               OH|                           5434|   CLT| TLH|      1080|   1078|      -2|   19.0|     1817|    1910|   5.0|      1168|   1155|     -13|          88.0|             77.0|   53.0|   386.0|            2|Charlotte,North C...|Tallahassee,Florida|           0|           0|\n",
      "|2022|      2|    5|        4|                           AA_CODESHARE|               OH|                           5434|   CLT| TLH|      1080|   1076|      -4|   51.0|     1847|    1958|   3.0|      1168|   1201|      33|          88.0|            125.0|   71.0|   386.0|            2|Charlotte,North C...|Tallahassee,Florida|           0|           1|\n",
      "|2022|      2|    5|        5|                           AA_CODESHARE|               OH|                           5434|   CLT| TLH|      1080|   1092|      12|   21.0|     1833|    1936|   4.0|      1168|   1180|      12|          88.0|             88.0|   63.0|   386.0|            2|Charlotte,North C...|Tallahassee,Florida|           0|           0|\n",
      "|2022|      2|    5|        6|                           AA_CODESHARE|               OH|                           5434|   CLT| TLH|      1080|   1075|      -5|   27.0|     1822|    1920|   5.0|      1168|   1165|      -3|          88.0|             90.0|   58.0|   386.0|            2|Charlotte,North C...|Tallahassee,Florida|           0|           0|\n",
      "|2022|      2|    5|        1|                           AA_CODESHARE|               OH|                           5434|   CLT| TLH|      1080|   1095|      15|   21.0|     1836|    1937|   2.0|      1168|   1179|      11|          88.0|             84.0|   61.0|   386.0|            2|Charlotte,North C...|Tallahassee,Florida|           0|           0|\n",
      "|2022|      2|    5|        2|                           AA_CODESHARE|               OH|                           5434|   CLT| TLH|      1080|   1074|      -6|   21.0|     1815|    1915|   3.0|      1168|   1158|     -10|          88.0|             84.0|   60.0|   386.0|            2|Charlotte,North C...|Tallahassee,Florida|           0|           0|\n",
      "|2022|      2|    5|        3|                           AA_CODESHARE|               OH|                           5434|   CLT| TLH|      1080|   1071|      -9|   21.0|     1812|    1914|   5.0|      1168|   1159|      -9|          88.0|             88.0|   62.0|   386.0|            2|Charlotte,North C...|Tallahassee,Florida|           0|           0|\n",
      "|2022|      2|    5|        4|                           AA_CODESHARE|               OH|                           5434|   CLT| TLH|      1080|   1077|      -3|   20.0|     1817|    1916|   4.0|      1168|   1160|      -8|          88.0|             83.0|   59.0|   386.0|            2|Charlotte,North C...|Tallahassee,Florida|           0|           0|\n",
      "|2022|      2|    5|        6|                           AA_CODESHARE|               OH|                           5434|   CLT| TLH|      1080|   1168|      88|   12.0|     1940|    2043|   3.0|      1168|   1246|      78|          88.0|             78.0|   63.0|   386.0|            2|Charlotte,North C...|Tallahassee,Florida|           1|           1|\n",
      "+----+-------+-----+---------+---------------------------------------+-----------------+-------------------------------+------+----+----------+-------+--------+-------+---------+--------+------+----------+-------+--------+--------------+-----------------+-------+--------+-------------+--------------------+-------------------+------------+------------+\n",
      "only showing top 20 rows\n",
      "\n"
     ]
    },
    {
     "data": {
      "text/plain": [
       "2000000"
      ]
     },
     "execution_count": 15,
     "metadata": {},
     "output_type": "execute_result"
    }
   ],
   "source": [
    "dados.printSchema()\n",
    "dados.show()\n",
    "dados.count()"
   ]
  },
  {
   "cell_type": "code",
   "execution_count": 14,
   "id": "0ee6c01c",
   "metadata": {},
   "outputs": [],
   "source": [
    "dados = dados.withColumn(\"Tem_DepDelay\",\n",
    "                         F.when(dados[\"DepDelay\"]>15,1).otherwise(0))\n",
    "\n",
    "dados = dados.withColumn(\"Tem_ArrDelay\",\n",
    "                         F.when(dados[\"ArrDelay\"]>15,1).otherwise(0))"
   ]
  },
  {
   "cell_type": "code",
   "execution_count": null,
   "id": "32edfc74",
   "metadata": {},
   "outputs": [],
   "source": [
    "\n",
    "categorical_cols = [\n",
    "    \"Operated_or_Branded_Code_Share_Partners\",\n",
    "    \"Operating_Airline\",\n",
    "    \"Origin\",\n",
    "    \"Dest\",\n",
    "    \"OriginCityNameState\",\n",
    "    \"DestCityNameState\"\n",
    "]\n",
    "\n",
    "numeric_cols = [\n",
    "    \"Year\", \"Quarter\", \"Month\", \"DayOfWeek\", \"Flight_Number_Operating_Airline\",\n",
    "    \"CRSDepTime\", \"DepTime\",\n",
    "    \"TaxiOut\", \"WheelsOff\", \"Distance\", \"DistanceGroup\",\"AirTime\",\n",
    "    #\"CRSArrTime\", \"ArrTime\",\n",
    "    \"WheelsOn\", \"TaxiIn\", \"CRSElapsedTime\",\n",
    "    \"ActualElapsedTime\"\n",
    "]\n",
    "\n",
    "indexers = [StringIndexer(inputCol=c, outputCol=c + \"_Index\", handleInvalid=\"keep\") for c in categorical_cols]\n",
    "all_features = numeric_cols + [c + \"_Index\" for c in categorical_cols]\n",
    "assembler = VectorAssembler(inputCols=all_features, outputCol=\"features\")\n",
    "\n",
    "\n",
    "lr = LogisticRegression(labelCol=\"Tem_ArrDelay\", featuresCol=\"features\")\n",
    "\n",
    "\n",
    "pipeline = Pipeline(stages=indexers + [assembler, lr])\n",
    "\n",
    "\n",
    "paramGrid = ParamGridBuilder() \\\n",
    "    .addGrid(lr.regParam, [0.01, 0.1]) \\\n",
    "    .addGrid(lr.elasticNetParam, [0.0, 0.5, 1.0]) \\\n",
    "    .build()\n",
    "\n",
    "\n",
    "evaluator = MulticlassClassificationEvaluator(\n",
    "    labelCol=\"Tem_ArrDelay\",\n",
    "    predictionCol=\"prediction\",\n",
    "    metricName=\"accuracy\"\n",
    ")\n",
    "\n",
    "\n",
    "tvs = TrainValidationSplit(\n",
    "    estimator=pipeline,\n",
    "    estimatorParamMaps=paramGrid,\n",
    "    evaluator=evaluator,\n",
    "    trainRatio=0.8,   # 80% train, 20% validation\n",
    "    parallelism=1     # Prevents memory blowup\n",
    ")\n",
    "\n",
    "\n",
    "model = tvs.fit(dados)"
   ]
  },
  {
   "cell_type": "code",
   "execution_count": 19,
   "id": "66d33475",
   "metadata": {},
   "outputs": [
    {
     "name": "stdout",
     "output_type": "stream",
     "text": [
      "+----------+------------+--------------------+\n",
      "|prediction|Tem_ArrDelay|            features|\n",
      "+----------+------------+--------------------+\n",
      "|       0.0|           0|[2022.0,2.0,5.0,2...|\n",
      "|       0.0|           0|[2022.0,2.0,5.0,3...|\n",
      "|       0.0|           0|[2022.0,2.0,5.0,7...|\n",
      "|       0.0|           0|[2022.0,2.0,5.0,1...|\n",
      "|       0.0|           0|[2022.0,2.0,5.0,2...|\n",
      "+----------+------------+--------------------+\n",
      "only showing top 5 rows\n",
      "\n",
      "Test Accuracy = 0.828835\n",
      "F1 Score = 0.776065254389705\n",
      "Weighted Precision = 0.8252567773292612\n",
      "Weighted Recall = 0.828835\n"
     ]
    }
   ],
   "source": [
    "# Make predictions on the test data\n",
    "predictions = model.transform(dados)\n",
    "\n",
    "# Select example rows to display\n",
    "predictions.select(\"prediction\", \"Tem_ArrDelay\", \"features\").show(5)\n",
    "\n",
    "\n",
    "accuracy = evaluator.evaluate(predictions)\n",
    "print(f\"Test Accuracy = {accuracy}\")\n",
    "\n",
    "# Calculate other metrics\n",
    "evaluator_f1 = MulticlassClassificationEvaluator(\n",
    "    labelCol=\"Tem_ArrDelay\", predictionCol=\"prediction\", metricName=\"f1\")\n",
    "f1_score = evaluator_f1.evaluate(predictions)\n",
    "print(f\"F1 Score = {f1_score}\")\n",
    "\n",
    "evaluator_weightedPrecision = MulticlassClassificationEvaluator(\n",
    "    labelCol=\"Tem_ArrDelay\", predictionCol=\"prediction\", metricName=\"weightedPrecision\")\n",
    "weighted_precision = evaluator_weightedPrecision.evaluate(predictions)\n",
    "print(f\"Weighted Precision = {weighted_precision}\")\n",
    "\n",
    "evaluator_weightedRecall = MulticlassClassificationEvaluator(\n",
    "    labelCol=\"Tem_ArrDelay\", predictionCol=\"prediction\", metricName=\"weightedRecall\")\n",
    "weighted_recall = evaluator_weightedRecall.evaluate(predictions)\n",
    "print(f\"Weighted Recall = {weighted_recall}\")"
   ]
  },
  {
   "cell_type": "code",
   "execution_count": 22,
   "id": "5fd371a2",
   "metadata": {},
   "outputs": [
    {
     "data": {
      "image/png": "[encoded data removed]",
      "text/plain": [
       "<Figure size 800x600 with 2 Axes>"
      ]
     },
     "metadata": {},
     "output_type": "display_data"
    }
   ],
   "source": [
    "\n",
    "# Make predictions on the test data\n",
    "predictions = model.transform(dados)\n",
    "\n",
    "# Extract the true labels and predictions\n",
    "true_labels = predictions.select(\"Tem_ArrDelay\").rdd.flatMap(lambda x: x).collect()\n",
    "pred_labels = predictions.select(\"prediction\").rdd.flatMap(lambda x: x).collect()\n",
    "\n",
    "# Compute the confusion matrix\n",
    "confusion_matrix = np.zeros((2, 2))\n",
    "for true_label, pred_label in zip(true_labels, pred_labels):\n",
    "    confusion_matrix[int(true_label)][int(pred_label)] += 1\n",
    "\n",
    "# Plot the confusion matrix\n",
    "plt.figure(figsize=(8, 6))\n",
    "sns.heatmap(confusion_matrix, annot=True, fmt='.2f', cmap='Blues',\n",
    "            xticklabels=['Predicted 0', 'Predicted 1'],\n",
    "            yticklabels=['Actual 0', 'Actual 1'])\n",
    "plt.xlabel('Predicted Label')\n",
    "plt.ylabel('True Label')\n",
    "plt.title('Confusion Matrix')\n",
    "plt.show()"
   ]
  }
 ],
 "metadata": {
  "kernelspec": {
   "display_name": "vscode_pyspark",
   "language": "python",
   "name": "python3"
  },
  "language_info": {
   "codemirror_mode": {
    "name": "ipython",
    "version": 3
   },
   "file_extension": ".py",
   "mimetype": "text/x-python",
   "name": "python",
   "nbconvert_exporter": "python",
   "pygments_lexer": "ipython3",
   "version": "3.11.11"
  }
 },
 "nbformat": 4,
 "nbformat_minor": 5
}
