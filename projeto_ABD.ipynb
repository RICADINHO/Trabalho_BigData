{
 "cells": [
  {
   "cell_type": "markdown",
   "metadata": {},
   "source": [
    "---\n",
    "# Imports"
   ]
  },
  {
   "cell_type": "code",
   "execution_count": 1,
   "metadata": {},
   "outputs": [],
   "source": [
    "from pyspark.ml.feature import StringIndexer, VectorAssembler, StandardScaler\n",
    "from pyspark.ml.regression import RandomForestRegressor\n",
    "from pyspark.ml.clustering import KMeans\n",
    "from pyspark.ml.stat import Correlation\n",
    "from pyspark.sql.functions import col\n",
    "from pyspark.sql import SparkSession\n",
    "import pyspark.sql.functions as F\n",
    "import matplotlib.pyplot as plt\n",
    "from pyspark.ml import Pipeline\n",
    "import plotly.express as px\n",
    "import seaborn as sns\n",
    "import pandas as pd\n",
    "import numpy as np\n",
    "import pyspark"
   ]
  },
  {
   "cell_type": "code",
   "execution_count": null,
   "metadata": {},
   "outputs": [],
   "source": [
    "# !pip install plotly"
   ]
  },
  {
   "cell_type": "code",
   "execution_count": 2,
   "metadata": {},
   "outputs": [],
   "source": [
    "spark = SparkSession.builder.appName(\"ProjetoABD_parte1\").getOrCreate()"
   ]
  },
  {
   "cell_type": "code",
   "execution_count": 3,
   "metadata": {},
   "outputs": [],
   "source": [
    "#dados = spark.read.load('avioes/raw',format='csv',sep=',',inferSchema=True, header=True)\n",
    "dados = spark.read.load('/home/jovyan/code/raw',format='csv',sep=',',inferSchema=True, header=True)"
   ]
  },
  {
   "cell_type": "code",
   "execution_count": null,
   "metadata": {},
   "outputs": [],
   "source": [
    "dados.printSchema()\n",
    "dados.show()\n",
    "dados.count()"
   ]
  },
  {
   "cell_type": "markdown",
   "metadata": {},
   "source": [
    "-----\n",
    "# Data Cleaning"
   ]
  },
  {
   "cell_type": "markdown",
   "metadata": {},
   "source": [
    "## 1.Removing duplicates if any"
   ]
  },
  {
   "cell_type": "code",
   "execution_count": null,
   "metadata": {},
   "outputs": [],
   "source": [
    "print(f'Dados: number of rows: {dados.count()}, after dropduplicates: {dados.dropDuplicates().count() }')"
   ]
  },
  {
   "cell_type": "markdown",
   "metadata": {},
   "source": [
    "## 2.Removing useless columns"
   ]
  },
  {
   "cell_type": "code",
   "execution_count": 4,
   "metadata": {},
   "outputs": [],
   "source": [
    "cols_to_dismiss = [\n",
    "    # Informações duplicadas ou derivadas\n",
    "    'DepDelayMinutes', 'DepDel15', 'DepartureDelayGroups',\n",
    "    'ArrDelayMinutes', 'ArrDel15', 'ArrivalDelayGroups',\n",
    "    'DepTimeBlk','ArrTimeBlk','DestAirportID','DestAirportSeqID',\n",
    "    'DestCityMarketID','OriginAirportID','OriginAirportSeqID',\n",
    "    'OriginCityMarketID','Marketing_Airline_Network',\n",
    "    'Operating_Airline','Flight_Number_Marketing_Airline',\n",
    "    'FlightDate','OriginWac','DestWac','Flights',\n",
    "    'Duplicate',\"OriginStateFips\",\"DestStateFips\",'OriginState',\n",
    "    \"DestState\",\n",
    "\n",
    "    # Diverted flights – detalhes específicos desnecessários\n",
    "    'DivAirportLandings', 'DivReachedDest', 'DivActualElapsedTime',\n",
    "    'DivArrDelay', 'DivDistance',\n",
    "\n",
    "    # Todas as colunas relacionadas com aeroportos desviados \n",
    "    'Div1Airport', 'Div1AirportID', 'Div1AirportSeqID', 'Div1WheelsOn',\n",
    "    'Div1TotalGTime', 'Div1LongestGTime', 'Div1WheelsOff', 'Div1TailNum',\n",
    "    'Div2Airport', 'Div2AirportID', 'Div2AirportSeqID', 'Div2WheelsOn',\n",
    "    'Div2TotalGTime', 'Div2LongestGTime', 'Div2WheelsOff', 'Div2TailNum',\n",
    "    'Div3Airport', 'Div3AirportID', 'Div3AirportSeqID', 'Div3WheelsOn',\n",
    "    'Div3TotalGTime', 'Div3LongestGTime', 'Div3WheelsOff', 'Div3TailNum',\n",
    "    'Div4Airport', 'Div4AirportID', 'Div4AirportSeqID', 'Div4WheelsOn',\n",
    "    'Div4TotalGTime', 'Div4LongestGTime', 'Div4WheelsOff', 'Div4TailNum',\n",
    "    'Div5Airport', 'Div5AirportID', 'Div5AirportSeqID', 'Div5WheelsOn',\n",
    "    'Div5TotalGTime', 'Div5LongestGTime', 'Div5WheelsOff', 'Div5TailNum',\n",
    "\n",
    "    # Identificadores redundantes\n",
    "    'DOT_ID_Marketing_Airline', 'DOT_ID_Operating_Airline','DayofMonth',\n",
    "    'IATA_Code_Marketing_Airline', 'IATA_Code_Operating_Airline','Tail_Number',\n",
    "    \"Cancelled\", \"Diverted\",\n",
    "\n",
    "\n",
    "    #dados com mts nulls\n",
    "    'CarrierDelay','WeatherDelay','NASDelay','SecurityDelay'\n",
    "    'CancellationCode','Originally_Scheduled_Code_Share_Airline','DOT_ID_Originally_Scheduled_Code_Share_Airline',\n",
    "    'IATA_Code_Originally_Scheduled_Code_Share_Airline','Flight_Num_Originally_Scheduled_Code_Share_Airline',\n",
    "    'FirstDepTime','TotalAddGTime','LongestAddGTime','_c119','LateAircraftDelay','CancellationCode'\n",
    "]\n",
    "\n",
    "dados = dados.drop(*cols_to_dismiss)"
   ]
  },
  {
   "cell_type": "code",
   "execution_count": null,
   "metadata": {},
   "outputs": [],
   "source": [
    "dados.printSchema()\n",
    "dados.show()"
   ]
  },
  {
   "cell_type": "markdown",
   "metadata": {},
   "source": [
    "## Data transformation"
   ]
  },
  {
   "cell_type": "code",
   "execution_count": 5,
   "metadata": {},
   "outputs": [],
   "source": [
    "# Converter hhmm para minutos\n",
    "def hhmm_to_minutes(col):\n",
    "    return (F.floor(col / 100) * 60) + (col % 100)\n",
    "\n",
    "# Tempos de partida\n",
    "dados = dados.withColumn(\"DepTime\", hhmm_to_minutes(F.col(\"DepTime\")))\n",
    "dados = dados.withColumn(\"CRSDepTime\", hhmm_to_minutes(F.col(\"CRSDepTime\")))\n",
    "dados = dados.withColumn(\"DepDelay\",F.col(\"DepTime\") - F.col(\"CRSDepTime\"))\n",
    "\n",
    "# Tempos de chegada\n",
    "dados = dados.withColumn(\"ArrTime\", hhmm_to_minutes(F.col(\"ArrTime\")))\n",
    "dados = dados.withColumn(\"CRSArrTime\", hhmm_to_minutes(F.col(\"CRSArrTime\")))\n",
    "dados = dados.withColumn(\"ArrDelay\", F.col(\"ArrTime\") - F.col(\"CRSArrTime\"))\n",
    "# F.greatest(F.col(\"ArrTime\") - F.col(\"CRSArrTime\"), F.lit(0))"
   ]
  },
  {
   "cell_type": "code",
   "execution_count": 6,
   "metadata": {},
   "outputs": [],
   "source": [
    "# Meter a localizaçao da partida e destino numa só tabela\n",
    "dados = dados.withColumn('OriginCityNameState',\n",
    "                          F.concat_ws(\n",
    "                              ',',\n",
    "                                F.split(F.col('OriginCityName'),',')[0],\n",
    "                                F.col(\"OriginStateName\")\n",
    "    ))\n",
    "\n",
    "dados = dados.withColumn('DestCityNameState',\n",
    "                          F.concat_ws(\n",
    "                              ',',\n",
    "                                F.split(F.col('DestCityName'),',')[0],\n",
    "                                F.col(\"DestStateName\")\n",
    "    ))\n",
    "\n",
    "cols_to_dismiss = [\"OriginCityName\",\"OriginStateName\",\"DestCityName\",\"DestStateName\"]\n",
    "dados = dados.drop(*cols_to_dismiss)"
   ]
  },
  {
   "cell_type": "code",
   "execution_count": 7,
   "metadata": {},
   "outputs": [],
   "source": [
    "dados = dados.withColumnRenamed(\"Operating_Airline \",\"Operating_Airline\")"
   ]
  },
  {
   "cell_type": "code",
   "execution_count": null,
   "metadata": {},
   "outputs": [],
   "source": [
    "dados.printSchema()\n",
    "dados.show()"
   ]
  },
  {
   "cell_type": "markdown",
   "metadata": {},
   "source": [
    "## 3.Handling missing values"
   ]
  },
  {
   "cell_type": "code",
   "execution_count": null,
   "metadata": {},
   "outputs": [],
   "source": [
    "# Ver em que colunas estão os nulos (by columns)\n",
    "nulls = {col: dados.filter(dados[col].isNull()).count() for col in dados.columns}\n",
    "nulls\n",
    "\n",
    "# valores corridos ao dataset todo sem fazer nada aos nulls\n",
    "'''\n",
    "{'Year': 0,\n",
    " 'Quarter': 0,\n",
    " 'Month': 0,\n",
    " 'DayOfWeek': 0,\n",
    " 'Operated_or_Branded_Code_Share_Partners': 0,\n",
    " 'Operating_Airline ': 0,\n",
    " 'Flight_Number_Operating_Airline': 0,\n",
    " 'Origin': 0,\n",
    " 'Dest': 0,\n",
    " 'CRSDepTime': 0,\n",
    " 'DepTime': 761652,\n",
    " 'DepDelay': 761652,\n",
    " 'TaxiOut': 780561,\n",
    " 'WheelsOff': 780551,\n",
    " 'WheelsOn': 793133,\n",
    " 'TaxiIn': 793143,\n",
    " 'CRSArrTime': 0,\n",
    " 'ArrTime': 786177,\n",
    " 'ArrDelay': 786177,\n",
    " 'Cancelled': 0,\n",
    " 'Diverted': 0,\n",
    " 'CRSElapsedTime': 22,\n",
    " 'ActualElapsedTime': 845637,\n",
    " 'AirTime': 852561,\n",
    " 'Distance': 0,\n",
    " 'DistanceGroup': 0,\n",
    " 'OriginCityNameState': 0,\n",
    " 'DestCityNameState': 0}\n",
    "'''"
   ]
  },
  {
   "cell_type": "code",
   "execution_count": null,
   "metadata": {},
   "outputs": [],
   "source": [
    "# remover nulls\n",
    "dados = dados.dropna(how='any')"
   ]
  },
  {
   "cell_type": "code",
   "execution_count": null,
   "metadata": {},
   "outputs": [],
   "source": [
    "dados.printSchema()\n",
    "dados.show()\n",
    "#dados.count()"
   ]
  },
  {
   "cell_type": "code",
   "execution_count": null,
   "metadata": {},
   "outputs": [],
   "source": [
    "dados.coalesce(1).write.option(\"header\",True) \\\n",
    ".csv(\"avioes/tudo_junto/dataset_completo\")\n"
   ]
  },
  {
   "cell_type": "code",
   "execution_count": 12,
   "metadata": {},
   "outputs": [],
   "source": [
    "#CSV para fazer streaming kafka\n",
    "dados=dados.limit(500000)\n",
    "dados.write.csv('/home/jovyan/code/output', header=True, mode='overwrite')\n"
   ]
  },
  {
   "cell_type": "markdown",
   "metadata": {},
   "source": [
    "-----\n",
    "# Gráficos"
   ]
  },
  {
   "cell_type": "markdown",
   "metadata": {},
   "source": [
    "### Matriz de correlação"
   ]
  },
  {
   "cell_type": "code",
   "execution_count": null,
   "metadata": {},
   "outputs": [],
   "source": [
    "# colunas numericas\n",
    "input_cols_num = [\n",
    "    \"Year\",\n",
    "    \"Quarter\",\n",
    "    \"Month\",\n",
    "    \"DayOfWeek\",\n",
    "    \"Flight_Number_Operating_Airline\",\n",
    "    \"CRSDepTime\",\n",
    "    \"DepTime\",\n",
    "    \"DepDelay\",\n",
    "    \"TaxiOut\",\n",
    "    \"WheelsOff\",\n",
    "    \"Distance\",\n",
    "    \"DistanceGroup\",\n",
    "    \"AirTime\",\n",
    "    \"CRSArrTime\",\n",
    "    \"ArrTime\",\n",
    "    \"ArrDelay\",\n",
    "    \"WheelsOn\",\n",
    "    \"TaxiIn\",\n",
    "    \"Cancelled\",\n",
    "    \"Diverted\",\n",
    "    \"CRSElapsedTime\",\n",
    "    \"ActualElapsedTime\"\n",
    "]\n",
    "\n",
    "\n",
    "# colunas categoricas\n",
    "input_cols_str = [\n",
    "    \"Operated_or_Branded_Code_Share_Partners\",\n",
    "    \"Operating_Airline\",\n",
    "    \"Origin\",\n",
    "    \"Dest\",\n",
    "    \"OriginCityNameState\",\n",
    "    \"DestCityNameState\"\n",
    "]"
   ]
  },
  {
   "cell_type": "code",
   "execution_count": null,
   "metadata": {},
   "outputs": [],
   "source": [
    "assembler = VectorAssembler(inputCols=input_cols_num, outputCol=\"numeric_features\")\n",
    "numeric_df = assembler.transform(dados).select(\"numeric_features\")\n",
    "\n",
    "correlation_matrix = Correlation.corr(numeric_df, \"numeric_features\", \"pearson\").head()[0].toArray()\n",
    "\n",
    "corr_df = pd.DataFrame(correlation_matrix, columns=input_cols_num, index=input_cols_num)\n",
    "\n",
    "plt.figure(figsize=(15, 12))\n",
    "sns.heatmap(corr_df, annot=True, cmap=\"coolwarm\", fmt=\".2f\", square=True)\n",
    "plt.title(\"Matriz de correlação das features numericas\")\n",
    "plt.tight_layout()\n",
    "plt.show()"
   ]
  },
  {
   "cell_type": "markdown",
   "metadata": {},
   "source": [
    "### cenas do dia da semana"
   ]
  },
  {
   "cell_type": "code",
   "execution_count": null,
   "metadata": {},
   "outputs": [],
   "source": [
    "df_small = dados.limit(1000000)\n",
    "df = df_small.toPandas()\n",
    "\n",
    "sns.set(style=\"whitegrid\")\n",
    "\n",
    "\n",
    "\n",
    "plt.figure(figsize=(10, 6))\n",
    "sns.boxplot(data=df, x='DayOfWeek', y='ArrDelay')\n",
    "plt.title('Atraso na Chegada por Dia da Semana')\n",
    "plt.show()\n",
    "\n",
    "df_filtrado = df[df['ArrDelay'] > 15]\n",
    "contagem = df_filtrado.groupby('DayOfWeek').size().reset_index(name='QtdAtrasos')\n",
    "\n",
    "plt.figure(figsize=(8, 5))\n",
    "sns.barplot(data=contagem, x='DayOfWeek', y='QtdAtrasos', palette='Blues_d')\n",
    "plt.title('Voos com Atraso na Chegada > 15 min por Dia da Semana')\n",
    "plt.xlabel('Dia da Semana')\n",
    "plt.ylabel('Quantidade de Voos')\n",
    "plt.show()\n",
    "\n",
    "\n",
    "\n",
    "plt.figure(figsize=(10, 6))\n",
    "sns.boxplot(data=df, x='DayOfWeek', y='DepDelay')\n",
    "plt.title('Atraso na Partida por Dia da Semana')\n",
    "plt.show()\n",
    "\n",
    "\n",
    "df_filtrado = df[df['DepDelay'] > 15]\n",
    "contagem = df_filtrado.groupby('DayOfWeek').size().reset_index(name='QtdAtrasos')\n",
    "\n",
    "plt.figure(figsize=(8, 5))\n",
    "sns.barplot(data=contagem, x='DayOfWeek', y='QtdAtrasos', palette='Blues_d')\n",
    "plt.title('Voos com Atraso na partida > 15 min por Dia da Semana')\n",
    "plt.xlabel('Dia da Semana')\n",
    "plt.ylabel('Quantidade de Voos')\n",
    "plt.show()"
   ]
  },
  {
   "cell_type": "markdown",
   "metadata": {},
   "source": [
    "### KMeans"
   ]
  },
  {
   "cell_type": "code",
   "execution_count": null,
   "metadata": {},
   "outputs": [],
   "source": [
    "# Encode das colunas categoricas\n",
    "available_cols = set(dados.columns)\n",
    "indexers = [StringIndexer(inputCol=col, outputCol=col + \"_Index\", handleInvalid='keep')\n",
    "            for col in input_cols_str if col in available_cols]\n",
    "\n",
    "# juntar as colunas\n",
    "assembler = VectorAssembler(\n",
    "    inputCols=[\n",
    "    \"Year\",\"Quarter\",\"Month\",\"DayOfWeek\",\"Flight_Number_Operating_Airline\",\"CRSDepTime\",\"DepTime\",\"TaxiOut\",\n",
    "    \"WheelsOff\",\"Distance\",\"DistanceGroup\",\"AirTime\",\"CRSArrTime\",\"ArrTime\",\"WheelsOn\",\"TaxiIn\",\"Cancelled\",\n",
    "    \"Diverted\",\"CRSElapsedTime\",\"ActualElapsedTime\",\"Origin_Index\", \"Dest_Index\",\"Operating_Airline_Index\",\n",
    "    \"Operated_or_Branded_Code_Share_Partners_Index\", \"OriginCityNameState_Index\",\"DestCityNameState_Index\"\n",
    "    ],\n",
    "    outputCol=\"features_unscaled\"\n",
    ")\n",
    "\n",
    "scaler = StandardScaler(inputCol=\"features_unscaled\", outputCol=\"features\", withStd=True, withMean=True)\n",
    "kmeans = KMeans(k=5, seed=1, featuresCol=\"features\", predictionCol=\"cluster\")\n",
    "pipeline = Pipeline(stages=indexers + [assembler, scaler, kmeans])\n",
    "\n",
    "# correr o modelo\n",
    "model = pipeline.fit(dados)\n",
    "clustered_df = model.transform(dados)\n",
    "\n",
    "print(\"KMeans feito\")\n",
    "\n",
    "# Ver a média do delay\n",
    "clustered_df.groupBy(\"cluster\").agg(\n",
    "    {\"DepDelay\": \"avg\", \"ArrDelay\": \"avg\"}\n",
    ").show()"
   ]
  },
  {
   "cell_type": "code",
   "execution_count": null,
   "metadata": {},
   "outputs": [],
   "source": [
    "fig, ax = plt.subplots(figsize=(8, 5))\n",
    "\n",
    "delay_summary = clustered_df.groupBy(\"cluster\").agg(\n",
    "    {\"DepDelay\": \"avg\", \"ArrDelay\": \"avg\"}\n",
    ").toPandas()\n",
    "\n",
    "x = delay_summary[\"cluster\"]\n",
    "width = 0.35\n",
    "\n",
    "ax.bar(x - width/2, delay_summary[\"avg(DepDelay)\"], width, label=\"Avg DepDelay\", color='skyblue')\n",
    "ax.bar(x + width/2, delay_summary[\"avg(ArrDelay)\"], width, label=\"Avg ArrDelay\", color='salmon')\n",
    "\n",
    "ax.set_xlabel(\"Cluster\")\n",
    "ax.set_ylabel(\"Delay (minutos)\")\n",
    "ax.set_title(\"Média do ArrDelay e DepDelay por cluster\")\n",
    "ax.legend()\n",
    "plt.grid(True)\n",
    "plt.tight_layout()\n",
    "plt.show()"
   ]
  },
  {
   "cell_type": "code",
   "execution_count": null,
   "metadata": {},
   "outputs": [],
   "source": [
    "# features dos clusters mais os clusters\n",
    "cols_to_collect = [\n",
    "    \"Year\",\"Quarter\",\"Month\",\"DayOfWeek\",\"Flight_Number_Operating_Airline\",\"CRSDepTime\",\n",
    "    \"DepTime\",\"TaxiOut\",\"WheelsOff\",\"Distance\",\"DistanceGroup\",\"AirTime\",\"CRSArrTime\",\n",
    "    \"ArrTime\",\"WheelsOn\",\"TaxiIn\",\"Cancelled\",\"Diverted\",\"CRSElapsedTime\",\"ActualElapsedTime\",\n",
    "    \"Origin_Index\",\"Dest_Index\",\"Operating_Airline_Index\",\"Operated_or_Branded_Code_Share_Partners_Index\",\n",
    "    \"OriginCityNameState_Index\",\"DestCityNameState_Index\",\"cluster\"\n",
    "]\n",
    "\n",
    "sampled = clustered_df.select(*cols_to_collect).sample(fraction=0.05, seed=42)\n",
    "pdf = sampled.toPandas()\n",
    "\n",
    "global_mean = pdf.drop(columns=[\"cluster\"]).mean()\n",
    "cluster_means = pdf.groupby(\"cluster\").mean()\n",
    "\n",
    "differences = cluster_means - global_mean\n",
    "\n",
    "plt.figure(figsize=(20, 10))\n",
    "sns.heatmap(differences.T, cmap=\"coolwarm\", center=0, annot=True, fmt=\".2f\")\n",
    "plt.title(\"Diferenças das médias das features por cluster\")\n",
    "plt.xlabel(\"Cluster\")\n",
    "plt.ylabel(\"Feature\")\n",
    "plt.tight_layout()\n",
    "plt.show()"
   ]
  },
  {
   "cell_type": "markdown",
   "metadata": {},
   "source": [
    "### Relevância das features"
   ]
  },
  {
   "cell_type": "code",
   "execution_count": null,
   "metadata": {},
   "outputs": [],
   "source": [
    "categorical_cols = [\n",
    "    #\"Operated_or_Branded_Code_Share_Partners\",\n",
    "    \"Operating_Airline\",\n",
    "    \"Origin\",\n",
    "    \"Dest\",\n",
    "    #\"OriginCityNameState\",\n",
    "    #\"DestCityNameState\"\n",
    "]\n",
    "\n",
    "indexers = [StringIndexer(inputCol=c, outputCol=c + \"_Index\", handleInvalid=\"keep\") \n",
    "            for c in categorical_cols]\n",
    "\n",
    "\n",
    "all_features = [\n",
    "    \"CRSDepTime\", \"DepTime\", \"TaxiOut\", \"WheelsOff\", \"WheelsOn\", \"TaxiIn\",\n",
    "    \"CRSArrTime\", \"ArrTime\", \"AirTime\", \"Distance\", \"CRSElapsedTime\", \"ActualElapsedTime\",\n",
    "    \"Year\",\"Quarter\",\"Month\", \"DayOfWeek\"\n",
    "] + [c + \"_Index\" for c in categorical_cols]\n",
    "\n",
    "assembler = VectorAssembler(inputCols=all_features, outputCol=\"features\")"
   ]
  },
  {
   "cell_type": "code",
   "execution_count": null,
   "metadata": {},
   "outputs": [],
   "source": [
    "rf = RandomForestRegressor(featuresCol=\"features\", labelCol=\"DepDelay\", numTrees=40, seed=42,maxBins=400)\n",
    "pipeline = Pipeline(stages=indexers + [assembler, rf])\n",
    "\n",
    "rf_model = pipeline.fit(dados)\n",
    "importances = rf_model.stages[-1].featureImportances.toArray()"
   ]
  },
  {
   "cell_type": "code",
   "execution_count": null,
   "metadata": {},
   "outputs": [],
   "source": [
    "feature_names = all_features\n",
    "importance_series = pd.Series(importances, index=feature_names).sort_values(ascending=False)\n",
    "\n",
    "plt.figure(figsize=(10, 6))\n",
    "sns.barplot(x=importance_series.values, y=importance_series.index, palette=\"magma\")\n",
    "plt.title(\"Importancia dos features no DepDelay\")\n",
    "plt.tight_layout()\n",
    "plt.show()"
   ]
  },
  {
   "cell_type": "code",
   "execution_count": null,
   "metadata": {},
   "outputs": [],
   "source": [
    "rf = RandomForestRegressor(featuresCol=\"features\", labelCol=\"ArrDelay\", numTrees=40, seed=42,maxBins=400)\n",
    "pipeline = Pipeline(stages=indexers + [assembler, rf])\n",
    "\n",
    "rf_model = pipeline.fit(dados)\n",
    "importances = rf_model.stages[-1].featureImportances.toArray()"
   ]
  },
  {
   "cell_type": "code",
   "execution_count": null,
   "metadata": {},
   "outputs": [],
   "source": [
    "feature_names = all_features\n",
    "importance_series = pd.Series(importances, index=feature_names).sort_values(ascending=False)\n",
    "\n",
    "plt.figure(figsize=(10, 6))\n",
    "sns.barplot(x=importance_series.values, y=importance_series.index, palette=\"magma\")\n",
    "plt.title(\"Importancia dos features no ArrDelay\")\n",
    "plt.tight_layout()\n",
    "plt.show()"
   ]
  },
  {
   "cell_type": "code",
   "execution_count": null,
   "metadata": {},
   "outputs": [],
   "source": []
  }
 ],
 "metadata": {
  "kernelspec": {
   "display_name": "vscode_pyspark",
   "language": "python",
   "name": "vscode_pyspark"
  },
  "language_info": {
   "codemirror_mode": {
    "name": "ipython",
    "version": 3
   },
   "file_extension": ".py",
   "mimetype": "text/x-python",
   "name": "python",
   "nbconvert_exporter": "python",
   "pygments_lexer": "ipython3",
   "version": "3.11.11"
  }
 },
 "nbformat": 4,
 "nbformat_minor": 2
}
